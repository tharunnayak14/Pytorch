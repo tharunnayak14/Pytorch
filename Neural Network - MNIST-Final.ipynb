{
 "cells": [
  {
   "cell_type": "markdown",
   "id": "47af8e66",
   "metadata": {},
   "source": [
    "# Imports"
   ]
  },
  {
   "cell_type": "code",
   "execution_count": 1,
   "id": "f3e43edd",
   "metadata": {
    "ExecuteTime": {
     "end_time": "2021-07-27T16:11:21.363976Z",
     "start_time": "2021-07-27T16:11:17.591093Z"
    }
   },
   "outputs": [],
   "source": [
    "import torch\n",
    "import torch.nn as nn # all nn modules\n",
    "import torch.optim as optim # optimization algorithms\n",
    "import torch.nn.functional as F # activation functions like relu, tanh (all functions with no parameters)\n",
    "from torch.utils.data import DataLoader # helps with data\n",
    "import torchvision.datasets as datasets # has many data sets\n",
    "import torchvision.transforms as transforms\n",
    "import matplotlib.pyplot as plt\n",
    "import warnings\n",
    "warnings.filterwarnings('ignore')\n",
    "from torch.utils.tensorboard import SummaryWriter"
   ]
  },
  {
   "cell_type": "markdown",
   "id": "44f2519a",
   "metadata": {},
   "source": [
    "# Hyperparameters"
   ]
  },
  {
   "cell_type": "code",
   "execution_count": 2,
   "id": "449f52d7",
   "metadata": {
    "ExecuteTime": {
     "end_time": "2021-07-27T16:11:30.038638Z",
     "start_time": "2021-07-27T16:11:30.031691Z"
    }
   },
   "outputs": [],
   "source": [
    "input_size = 784\n",
    "num_classes = 10\n",
    "learning_rate = 0.001\n",
    "# how many data examples we pass in one iteration\n",
    "batch_size = 64\n",
    "epochs = 3"
   ]
  },
  {
   "cell_type": "markdown",
   "id": "398e4343",
   "metadata": {},
   "source": [
    "# Load dataset"
   ]
  },
  {
   "cell_type": "code",
   "execution_count": 3,
   "id": "65529476",
   "metadata": {
    "ExecuteTime": {
     "end_time": "2021-07-27T16:11:30.212205Z",
     "start_time": "2021-07-27T16:11:30.040634Z"
    }
   },
   "outputs": [],
   "source": [
    "train_data = datasets.MNIST(root = \"data/\", train=True, transform=transforms.ToTensor())\n",
    "# We pass the Dataset as an argument to DataLoader\n",
    "# This wraps an iterable over our dataset, and supports automatic batching, sampling, shuffling and multiprocess data loading\n",
    "# Here we define a batch size of 64, i.e. each element in the dataloader iterable will return a batch of 64 features and labels\n",
    "train_loader = DataLoader(dataset=train_data, batch_size = batch_size, shuffle=True)"
   ]
  },
  {
   "cell_type": "code",
   "execution_count": 4,
   "id": "96da7496",
   "metadata": {
    "ExecuteTime": {
     "end_time": "2021-07-27T16:11:30.258050Z",
     "start_time": "2021-07-27T16:11:30.214168Z"
    }
   },
   "outputs": [],
   "source": [
    "test_data = datasets.MNIST(root = \"data/\", train=False, transform=transforms.ToTensor())\n",
    "test_loader = DataLoader(dataset=test_data, batch_size = batch_size, shuffle=True)"
   ]
  },
  {
   "cell_type": "code",
   "execution_count": 5,
   "id": "5aa1f65b",
   "metadata": {
    "ExecuteTime": {
     "end_time": "2021-07-27T16:11:30.289965Z",
     "start_time": "2021-07-27T16:11:30.260046Z"
    }
   },
   "outputs": [
    {
     "name": "stdout",
     "output_type": "stream",
     "text": [
      "Shape of X [N, C, H, W]:  torch.Size([64, 1, 28, 28])\n",
      "Shape of y:  torch.Size([64]) torch.int64\n"
     ]
    }
   ],
   "source": [
    "for X, y in train_loader:\n",
    "    print(\"Shape of X [N, C, H, W]: \", X.shape)\n",
    "    print(\"Shape of y: \", y.shape, y.dtype)\n",
    "    break"
   ]
  },
  {
   "cell_type": "code",
   "execution_count": 6,
   "id": "7b8a7d54",
   "metadata": {
    "ExecuteTime": {
     "end_time": "2021-07-27T16:11:30.367760Z",
     "start_time": "2021-07-27T16:11:30.291961Z"
    }
   },
   "outputs": [
    {
     "name": "stdout",
     "output_type": "stream",
     "text": [
      "[tensor([[[[0., 0., 0.,  ..., 0., 0., 0.],\n",
      "          [0., 0., 0.,  ..., 0., 0., 0.],\n",
      "          [0., 0., 0.,  ..., 0., 0., 0.],\n",
      "          ...,\n",
      "          [0., 0., 0.,  ..., 0., 0., 0.],\n",
      "          [0., 0., 0.,  ..., 0., 0., 0.],\n",
      "          [0., 0., 0.,  ..., 0., 0., 0.]]],\n",
      "\n",
      "\n",
      "        [[[0., 0., 0.,  ..., 0., 0., 0.],\n",
      "          [0., 0., 0.,  ..., 0., 0., 0.],\n",
      "          [0., 0., 0.,  ..., 0., 0., 0.],\n",
      "          ...,\n",
      "          [0., 0., 0.,  ..., 0., 0., 0.],\n",
      "          [0., 0., 0.,  ..., 0., 0., 0.],\n",
      "          [0., 0., 0.,  ..., 0., 0., 0.]]],\n",
      "\n",
      "\n",
      "        [[[0., 0., 0.,  ..., 0., 0., 0.],\n",
      "          [0., 0., 0.,  ..., 0., 0., 0.],\n",
      "          [0., 0., 0.,  ..., 0., 0., 0.],\n",
      "          ...,\n",
      "          [0., 0., 0.,  ..., 0., 0., 0.],\n",
      "          [0., 0., 0.,  ..., 0., 0., 0.],\n",
      "          [0., 0., 0.,  ..., 0., 0., 0.]]],\n",
      "\n",
      "\n",
      "        ...,\n",
      "\n",
      "\n",
      "        [[[0., 0., 0.,  ..., 0., 0., 0.],\n",
      "          [0., 0., 0.,  ..., 0., 0., 0.],\n",
      "          [0., 0., 0.,  ..., 0., 0., 0.],\n",
      "          ...,\n",
      "          [0., 0., 0.,  ..., 0., 0., 0.],\n",
      "          [0., 0., 0.,  ..., 0., 0., 0.],\n",
      "          [0., 0., 0.,  ..., 0., 0., 0.]]],\n",
      "\n",
      "\n",
      "        [[[0., 0., 0.,  ..., 0., 0., 0.],\n",
      "          [0., 0., 0.,  ..., 0., 0., 0.],\n",
      "          [0., 0., 0.,  ..., 0., 0., 0.],\n",
      "          ...,\n",
      "          [0., 0., 0.,  ..., 0., 0., 0.],\n",
      "          [0., 0., 0.,  ..., 0., 0., 0.],\n",
      "          [0., 0., 0.,  ..., 0., 0., 0.]]],\n",
      "\n",
      "\n",
      "        [[[0., 0., 0.,  ..., 0., 0., 0.],\n",
      "          [0., 0., 0.,  ..., 0., 0., 0.],\n",
      "          [0., 0., 0.,  ..., 0., 0., 0.],\n",
      "          ...,\n",
      "          [0., 0., 0.,  ..., 0., 0., 0.],\n",
      "          [0., 0., 0.,  ..., 0., 0., 0.],\n",
      "          [0., 0., 0.,  ..., 0., 0., 0.]]]]), tensor([6, 7, 6, 2, 1, 7, 1, 4, 6, 3, 0, 4, 8, 5, 3, 0, 2, 0, 8, 4, 8, 8, 6, 9,\n",
      "        8, 4, 3, 7, 5, 6, 1, 7, 3, 5, 3, 0, 8, 0, 3, 3, 4, 4, 1, 3, 4, 6, 9, 5,\n",
      "        5, 1, 6, 1, 6, 4, 3, 7, 6, 2, 1, 0, 6, 9, 0, 2])]\n"
     ]
    }
   ],
   "source": [
    "# for iteration we use loaded data\n",
    "for data in train_loader: \n",
    "    # 64 digits and 64 labels\n",
    "    print(data)\n",
    "    break    "
   ]
  },
  {
   "cell_type": "code",
   "execution_count": 7,
   "id": "c98565bc",
   "metadata": {
    "ExecuteTime": {
     "end_time": "2021-07-27T16:11:30.383726Z",
     "start_time": "2021-07-27T16:11:30.369752Z"
    }
   },
   "outputs": [],
   "source": [
    "x, y = data[0][0], data[1][0]"
   ]
  },
  {
   "cell_type": "code",
   "execution_count": 8,
   "id": "979373ed",
   "metadata": {
    "ExecuteTime": {
     "end_time": "2021-07-27T16:11:30.399672Z",
     "start_time": "2021-07-27T16:11:30.386707Z"
    }
   },
   "outputs": [],
   "source": [
    "# print(x)"
   ]
  },
  {
   "cell_type": "code",
   "execution_count": 9,
   "id": "8bcd3f6b",
   "metadata": {
    "ExecuteTime": {
     "end_time": "2021-07-27T16:11:30.415628Z",
     "start_time": "2021-07-27T16:11:30.406654Z"
    }
   },
   "outputs": [],
   "source": [
    "# print(y)"
   ]
  },
  {
   "cell_type": "markdown",
   "id": "e3569d8a",
   "metadata": {},
   "source": [
    "# Find unique labels in the dataset"
   ]
  },
  {
   "cell_type": "code",
   "execution_count": 10,
   "id": "b5bca2a4",
   "metadata": {
    "ExecuteTime": {
     "end_time": "2021-07-27T16:11:30.431586Z",
     "start_time": "2021-07-27T16:11:30.422611Z"
    }
   },
   "outputs": [
    {
     "name": "stdout",
     "output_type": "stream",
     "text": [
      "{0, 1, 2, 3, 4, 5, 6, 7, 8, 9}\n"
     ]
    }
   ],
   "source": [
    "unique_labels = set()\n",
    "for element in data[1].numpy():\n",
    "    unique_labels.add(element)\n",
    "print(unique_labels)"
   ]
  },
  {
   "cell_type": "markdown",
   "id": "ebeddf0e",
   "metadata": {},
   "source": [
    "You can see some of the images in the dataset by running the following cell."
   ]
  },
  {
   "cell_type": "code",
   "execution_count": 11,
   "id": "6b8701bd",
   "metadata": {
    "ExecuteTime": {
     "end_time": "2021-07-27T16:11:31.401991Z",
     "start_time": "2021-07-27T16:11:30.435579Z"
    }
   },
   "outputs": [
    {
     "data": {
      "image/png": "[encoded data removed]",
      "text/plain": [
       "<Figure size 720x720 with 25 Axes>"
      ]
     },
     "metadata": {
      "needs_background": "light"
     },
     "output_type": "display_data"
    }
   ],
   "source": [
    "# plt.imshow(data[0][0])\n",
    "# (1, 28, 28) so plt.imshow() wont work\n",
    "# so use .view(28, 28)\n",
    "plt.figure(figsize=(10, 10))\n",
    "for i in range(25):\n",
    "    ax = plt.subplot(5, 5, i + 1)\n",
    "    plt.imshow(data[0][i].view(28,28),cmap='Greys_r')\n",
    "    plt.title(data[1][i])\n",
    "    plt.axis(\"off\")"
   ]
  },
  {
   "cell_type": "markdown",
   "id": "d60fe385",
   "metadata": {},
   "source": [
    "# To find whether the classes are balanced or not"
   ]
  },
  {
   "cell_type": "code",
   "execution_count": 12,
   "id": "07de9a97",
   "metadata": {
    "ExecuteTime": {
     "end_time": "2021-07-27T16:11:37.464782Z",
     "start_time": "2021-07-27T16:11:31.402988Z"
    }
   },
   "outputs": [
    {
     "name": "stdout",
     "output_type": "stream",
     "text": [
      "{0: 5923, 1: 6742, 2: 5958, 3: 6131, 4: 5842, 5: 5421, 6: 5918, 7: 6265, 8: 5851, 9: 5949}\n"
     ]
    }
   ],
   "source": [
    "total = 0\n",
    "counter_dict = {0:0,1:0,2:0,3:0,4:0,5:0,6:0,7:0,8:0,9:0}\n",
    "\n",
    "for data in train_loader:\n",
    "    Xs, ys =  data\n",
    "    for y in ys:\n",
    "        # increase the count of corresponding class by 1\n",
    "        counter_dict[int(y)] +=1\n",
    "        total +=1\n",
    "print(counter_dict)"
   ]
  },
  {
   "cell_type": "markdown",
   "id": "3654c930",
   "metadata": {},
   "source": [
    "# We can see the classes are well balanced"
   ]
  },
  {
   "cell_type": "code",
   "execution_count": 29,
   "id": "7b76a364",
   "metadata": {
    "ExecuteTime": {
     "end_time": "2021-07-27T16:18:18.655287Z",
     "start_time": "2021-07-27T16:18:18.645315Z"
    }
   },
   "outputs": [
    {
     "name": "stdout",
     "output_type": "stream",
     "text": [
      "0: 9.872\n",
      "1: 11.237\n",
      "2: 9.930\n",
      "3: 10.218\n",
      "4: 9.737\n",
      "5: 9.035\n",
      "6: 9.863\n",
      "7: 10.442\n",
      "8: 9.752\n",
      "9: 9.915\n"
     ]
    }
   ],
   "source": [
    "for i in counter_dict:\n",
    "    # percentages of class in the dataet\n",
    "    print(f\"{i}: {counter_dict[i]/total*100:.3f}\")"
   ]
  },
  {
   "cell_type": "markdown",
   "id": "80c66ac1",
   "metadata": {},
   "source": [
    "# Create a fully connected NN"
   ]
  },
  {
   "cell_type": "code",
   "execution_count": 14,
   "id": "08086c08",
   "metadata": {
    "ExecuteTime": {
     "end_time": "2021-07-27T16:11:37.494690Z",
     "start_time": "2021-07-27T16:11:37.482752Z"
    }
   },
   "outputs": [],
   "source": [
    "# inherits from the nn module\n",
    "# Our first linear layer take input_size, in this case 784 nodes to 512\n",
    "# and our second linear layer takes 512 to the num_classes we have, in this case 10.\n",
    "class NN(nn.Module):\n",
    "    def __init__(self, input_size, num_classes):\n",
    "        super(NN, self).__init__()\n",
    "        # input layer\n",
    "        # fc1 = fully connected layer 1\n",
    "        self.fc1 = nn.Linear(input_size, 512)\n",
    "        # self.fc2 = nn.Linear(512, 512)\n",
    "        self.fc3 = nn.Linear(512, num_classes)\n",
    "        \n",
    "        self.initialize_weights()\n",
    "    \n",
    "    # create a forward function\n",
    "    def forward(self, x):\n",
    "        x = F.relu(self.fc1(x))\n",
    "        # x = F.relu(self.fc2(x))\n",
    "        x = self.fc3(x)\n",
    "        \n",
    "        return F.log_softmax(x, dim=1)\n",
    "\n",
    "    def initialize_weights(self):\n",
    "        for m in self.modules():\n",
    "            if isinstance(m, nn.Linear):\n",
    "                nn.init.xavier_normal_(m.weight, gain=1.0)\n",
    "                nn.init.constant_(m.bias, 0)\n",
    "                "
   ]
  },
  {
   "cell_type": "code",
   "execution_count": 15,
   "id": "0dc65abb",
   "metadata": {
    "ExecuteTime": {
     "end_time": "2021-07-27T16:11:38.460110Z",
     "start_time": "2021-07-27T16:11:37.498723Z"
    }
   },
   "outputs": [
    {
     "data": {
      "text/plain": [
       "device(type='cuda')"
      ]
     },
     "execution_count": 15,
     "metadata": {},
     "output_type": "execute_result"
    }
   ],
   "source": [
    "# set device\n",
    "device = torch.device(\"cuda\" if torch.cuda.is_available() else \"cpu\")\n",
    "device"
   ]
  },
  {
   "cell_type": "code",
   "execution_count": 16,
   "id": "52a6caa6",
   "metadata": {
    "ExecuteTime": {
     "end_time": "2021-07-27T16:11:38.491029Z",
     "start_time": "2021-07-27T16:11:38.462106Z"
    }
   },
   "outputs": [
    {
     "data": {
      "text/plain": [
       "torch.Size([64, 10])"
      ]
     },
     "execution_count": 16,
     "metadata": {},
     "output_type": "execute_result"
    }
   ],
   "source": [
    "# 28*28 images passes as 784\n",
    "# 10 for no of digits\n",
    "model = NN(784, 10)\n",
    "# 64 = no of examples (images) mini batch size\n",
    "x = torch.rand((64, 784))\n",
    "model(x).shape"
   ]
  },
  {
   "cell_type": "markdown",
   "id": "14a7abd3",
   "metadata": {},
   "source": [
    "# Initialize the network"
   ]
  },
  {
   "cell_type": "code",
   "execution_count": 17,
   "id": "a88f6a03",
   "metadata": {
    "ExecuteTime": {
     "end_time": "2021-07-27T16:11:45.030071Z",
     "start_time": "2021-07-27T16:11:38.493022Z"
    }
   },
   "outputs": [],
   "source": [
    "model = NN(input_size = input_size, num_classes = num_classes).to(device)"
   ]
  },
  {
   "cell_type": "markdown",
   "id": "f8a6a03d",
   "metadata": {},
   "source": [
    "# Loss & optimizer"
   ]
  },
  {
   "cell_type": "code",
   "execution_count": 18,
   "id": "94bff568",
   "metadata": {
    "ExecuteTime": {
     "end_time": "2021-07-27T16:11:45.045996Z",
     "start_time": "2021-07-27T16:11:45.032035Z"
    }
   },
   "outputs": [],
   "source": [
    "# loss- how wrong our model is\n",
    "loss_fn = nn.CrossEntropyLoss()\n",
    "# optimizer- adjusts the weights to decrese the loss\n",
    "optimizer = optim.Adam(model.parameters(), lr=learning_rate)\n",
    "# if loss does not decrease on 5 iters, we decrease the learning rate\n",
    "scheduler =optim.lr_scheduler.ReduceLROnPlateau(optimizer,patience=5, verbose=True)"
   ]
  },
  {
   "cell_type": "markdown",
   "id": "f1d1d76d",
   "metadata": {},
   "source": [
    "# Tensorboard for data visualization"
   ]
  },
  {
   "cell_type": "code",
   "execution_count": 19,
   "id": "67e7cb44",
   "metadata": {
    "ExecuteTime": {
     "end_time": "2021-07-27T16:11:45.061959Z",
     "start_time": "2021-07-27T16:11:45.050029Z"
    }
   },
   "outputs": [],
   "source": [
    "writer = SummaryWriter(f'runs/MNIST/trying_tensorboard')"
   ]
  },
  {
   "cell_type": "markdown",
   "id": "606a21fd",
   "metadata": {},
   "source": [
    "# Train the network"
   ]
  },
  {
   "cell_type": "code",
   "execution_count": 20,
   "id": "0a9d8a7f",
   "metadata": {
    "ExecuteTime": {
     "end_time": "2021-07-27T16:11:45.077955Z",
     "start_time": "2021-07-27T16:11:45.064946Z"
    }
   },
   "outputs": [],
   "source": [
    "def train(dataloader, model, loss_fn, optimizer, step):\n",
    "    size = len(dataloader.dataset)\n",
    "    losses = []\n",
    "    for batch, (X, y) in enumerate(dataloader):\n",
    "        X, y = X.to(device), y.to(device)\n",
    "        \n",
    "        # X has shape (64, 1, 28, 28)\n",
    "        # 64 training examples\n",
    "        # 1 as we are using gray scale images\n",
    "        # 28 * 28 height, width        \n",
    "        # we need to reshape this to (64, 784)\n",
    "        \n",
    "        X = X.reshape(X.shape[0],-1)\n",
    "\n",
    "        # Compute prediction error\n",
    "        pred = model(X)\n",
    "        loss = loss_fn(pred, y)\n",
    "        losses.append(loss.item())\n",
    "\n",
    "        # Backpropagation\n",
    "        # set gradients to zero for each batch, so it does not store back prop calculation from previous forward props\n",
    "        optimizer.zero_grad()\n",
    "        loss.backward()\n",
    "        \n",
    "        # Gradient step\n",
    "        optimizer.step()\n",
    "        \n",
    "        # calculate running training accuracy\n",
    "        _, predictions = pred.max(1)\n",
    "        num_correct = (predictions==y).sum()\n",
    "        running_train_accuracy = float(num_correct)/float(X.shape[0])\n",
    "        \n",
    "        writer.add_scalar('Training loss', loss, global_step=step)\n",
    "        writer.add_scalar('Training accuracy',running_train_accuracy, global_step=step)\n",
    "        step+=1\n",
    "        \n",
    "\n",
    "        if batch % 100 == 0:\n",
    "            # print(f\"batch: {batch}, len:{len(X)}, current: {batch*len(X)}\")\n",
    "            loss, current = loss.item(), batch * len(X)\n",
    "            print(f\"loss: {loss:>7f}  [{current:>5d}/{size:>5d}]\")\n",
    "            \n",
    "    return losses"
   ]
  },
  {
   "cell_type": "code",
   "execution_count": 21,
   "id": "d1ecde31",
   "metadata": {
    "ExecuteTime": {
     "end_time": "2021-07-27T16:11:45.094872Z",
     "start_time": "2021-07-27T16:11:45.082900Z"
    }
   },
   "outputs": [],
   "source": [
    "def test(dataloader, model, loss_fn):\n",
    "    size = len(dataloader.dataset)\n",
    "    \n",
    "    num_batches = len(dataloader)\n",
    "    \n",
    "    model.eval()\n",
    "    test_loss, correct = 0, 0\n",
    "    \n",
    "    with torch.no_grad():\n",
    "        for X, y in dataloader:\n",
    "            X, y = X.to(device), y.to(device)\n",
    "            X = X.reshape(X.shape[0],-1)\n",
    "            pred = model(X)\n",
    "            test_loss += loss_fn(pred, y).item()\n",
    "            correct += (pred.argmax(1) == y).type(torch.float).sum().item()\n",
    "            \n",
    "    test_loss /= num_batches\n",
    "    correct /= size\n",
    "    print(f\"Test Error: \\n Accuracy: {(100*correct):>0.1f}%, Avg loss: {test_loss:>8f} \\n\")"
   ]
  },
  {
   "cell_type": "code",
   "execution_count": 22,
   "id": "94af5a99",
   "metadata": {
    "ExecuteTime": {
     "end_time": "2021-07-27T16:12:21.202554Z",
     "start_time": "2021-07-27T16:11:45.096862Z"
    }
   },
   "outputs": [
    {
     "name": "stdout",
     "output_type": "stream",
     "text": [
      "Epoch 1\n",
      "-------------------------------\n",
      "loss: 2.338643  [    0/60000]\n",
      "loss: 0.298973  [ 6400/60000]\n",
      "loss: 0.322257  [12800/60000]\n",
      "loss: 0.153560  [19200/60000]\n",
      "loss: 0.204788  [25600/60000]\n",
      "loss: 0.460018  [32000/60000]\n",
      "loss: 0.116017  [38400/60000]\n",
      "loss: 0.126144  [44800/60000]\n",
      "loss: 0.110962  [51200/60000]\n",
      "loss: 0.086048  [57600/60000]\n",
      "Test Error: \n",
      " Accuracy: 96.5%, Avg loss: 0.120183 \n",
      "\n",
      "Epoch 2\n",
      "-------------------------------\n",
      "loss: 0.131606  [    0/60000]\n",
      "loss: 0.144656  [ 6400/60000]\n",
      "loss: 0.109439  [12800/60000]\n",
      "loss: 0.077835  [19200/60000]\n",
      "loss: 0.037775  [25600/60000]\n",
      "loss: 0.148562  [32000/60000]\n",
      "loss: 0.050184  [38400/60000]\n",
      "loss: 0.083327  [44800/60000]\n",
      "loss: 0.040653  [51200/60000]\n",
      "loss: 0.037164  [57600/60000]\n",
      "Test Error: \n",
      " Accuracy: 97.5%, Avg loss: 0.081727 \n",
      "\n",
      "Epoch 3\n",
      "-------------------------------\n",
      "loss: 0.037899  [    0/60000]\n",
      "loss: 0.059639  [ 6400/60000]\n",
      "loss: 0.024261  [12800/60000]\n",
      "loss: 0.010164  [19200/60000]\n",
      "loss: 0.126879  [25600/60000]\n",
      "loss: 0.034017  [32000/60000]\n",
      "loss: 0.013536  [38400/60000]\n",
      "loss: 0.061808  [44800/60000]\n",
      "loss: 0.033531  [51200/60000]\n",
      "loss: 0.011943  [57600/60000]\n",
      "Test Error: \n",
      " Accuracy: 97.7%, Avg loss: 0.074947 \n",
      "\n",
      "Done!\n"
     ]
    }
   ],
   "source": [
    "for epoch in range(epochs):\n",
    "    print(f\"Epoch {epoch+1}\\n-------------------------------\")\n",
    "    step = 0\n",
    "    loss = train(train_loader, model, loss_fn, optimizer, step)\n",
    "    test(test_loader, model, loss_fn)\n",
    "    mean_loss = sum(loss)/len(loss)\n",
    "    scheduler.step(mean_loss)\n",
    "print(\"Done!\")"
   ]
  },
  {
   "cell_type": "markdown",
   "id": "9192545c",
   "metadata": {},
   "source": [
    "# Check some predictions from testset"
   ]
  },
  {
   "cell_type": "code",
   "execution_count": 23,
   "id": "5208b57b",
   "metadata": {
    "ExecuteTime": {
     "end_time": "2021-07-27T16:12:21.218495Z",
     "start_time": "2021-07-27T16:12:21.203399Z"
    }
   },
   "outputs": [],
   "source": [
    "for data in test_loader:\n",
    "    X, y = data\n",
    "    break"
   ]
  },
  {
   "cell_type": "code",
   "execution_count": 30,
   "id": "3a55f91e",
   "metadata": {
    "ExecuteTime": {
     "end_time": "2021-07-27T16:19:58.950010Z",
     "start_time": "2021-07-27T16:19:58.211979Z"
    }
   },
   "outputs": [
    {
     "data": {
      "image/png": "[encoded data removed]",
      "text/plain": [
       "<Figure size 720x720 with 25 Axes>"
      ]
     },
     "metadata": {
      "needs_background": "light"
     },
     "output_type": "display_data"
    }
   ],
   "source": [
    "plt.figure(figsize=(10, 10))\n",
    "for i in range(25):\n",
    "    ax = plt.subplot(5, 5, i + 1)\n",
    "    plt.imshow(X[i].view(28,28),cmap='Greys_r')\n",
    "    plt.title(y[i].numpy())\n",
    "    plt.axis(\"off\")"
   ]
  }
 ],
 "metadata": {
  "kernelspec": {
   "display_name": "pytorch",
   "language": "python",
   "name": "deeplearning"
  },
  "language_info": {
   "codemirror_mode": {
    "name": "ipython",
    "version": 3
   },
   "file_extension": ".py",
   "mimetype": "text/x-python",
   "name": "python",
   "nbconvert_exporter": "python",
   "pygments_lexer": "ipython3",
   "version": "3.9.4"
  }
 },
 "nbformat": 4,
 "nbformat_minor": 5
}
