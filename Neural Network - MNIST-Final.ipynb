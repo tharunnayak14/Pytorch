{
 "cells": [
  {
   "cell_type": "markdown",
   "id": "47af8e66",
   "metadata": {},
   "source": [
    "# Imports"
   ]
  },
  {
   "cell_type": "code",
   "execution_count": 1,
   "id": "f3e43edd",
   "metadata": {
    "ExecuteTime": {
     "end_time": "2021-07-17T11:15:18.058322Z",
     "start_time": "2021-07-17T11:15:16.973225Z"
    }
   },
   "outputs": [],
   "source": [
    "import torch\n",
    "import torch.nn as nn # all nn modules\n",
    "import torch.optim as optim # optimization algorithms\n",
    "import torch.nn.functional as F # activation functions like relu, tanh (all functions with no parameters)\n",
    "from torch.utils.data import DataLoader # helps with daata\n",
    "import torchvision.datasets as datasets # has many data sets\n",
    "import torchvision.transforms as transforms\n",
    "import matplotlib.pyplot as plt"
   ]
  },
  {
   "cell_type": "markdown",
   "id": "44f2519a",
   "metadata": {},
   "source": [
    "# Hyperparameters"
   ]
  },
  {
   "cell_type": "code",
   "execution_count": 2,
   "id": "449f52d7",
   "metadata": {
    "ExecuteTime": {
     "end_time": "2021-07-17T11:15:18.074280Z",
     "start_time": "2021-07-17T11:15:18.060318Z"
    }
   },
   "outputs": [],
   "source": [
    "input_size = 784\n",
    "num_classes = 10\n",
    "learning_rate = 0.001\n",
    "# how many data examples we pass in one iteration\n",
    "batch_size = 64\n",
    "epochs = 3"
   ]
  },
  {
   "cell_type": "markdown",
   "id": "398e4343",
   "metadata": {},
   "source": [
    "# Load dataset"
   ]
  },
  {
   "cell_type": "code",
   "execution_count": 3,
   "id": "65529476",
   "metadata": {
    "ExecuteTime": {
     "end_time": "2021-07-17T11:15:18.120157Z",
     "start_time": "2021-07-17T11:15:18.077271Z"
    }
   },
   "outputs": [
    {
     "name": "stderr",
     "output_type": "stream",
     "text": [
      "A:\\Anacond\\envs\\deeplearning\\lib\\site-packages\\torchvision\\datasets\\mnist.py:498: UserWarning: The given NumPy array is not writeable, and PyTorch does not support non-writeable tensors. This means you can write to the underlying (supposedly non-writeable) NumPy array using the tensor. You may want to copy the array to protect its data or make it writeable before converting it to a tensor. This type of warning will be suppressed for the rest of this program. (Triggered internally at  ..\\torch\\csrc\\utils\\tensor_numpy.cpp:180.)\n",
      "  return torch.from_numpy(parsed.astype(m[2], copy=False)).view(*s)\n"
     ]
    }
   ],
   "source": [
    "train_data = datasets.MNIST(root = \"data/\", train=True, transform=transforms.ToTensor())\n",
    "# We pass the Dataset as an argument to DataLoader\n",
    "# This wraps an iterable over our dataset, and supports automatic batching, sampling, shuffling and multiprocess data loading\n",
    "# Here we define a batch size of 64, i.e. each element in the dataloader iterable will return a batch of 64 features and labels\n",
    "train_loader = DataLoader(dataset=train_data, batch_size = batch_size, shuffle=True)"
   ]
  },
  {
   "cell_type": "code",
   "execution_count": 4,
   "id": "96da7496",
   "metadata": {
    "ExecuteTime": {
     "end_time": "2021-07-17T11:15:18.136115Z",
     "start_time": "2021-07-17T11:15:18.122151Z"
    }
   },
   "outputs": [],
   "source": [
    "test_data = datasets.MNIST(root = \"data/\", train=False, transform=transforms.ToTensor())\n",
    "test_loader = DataLoader(dataset=test_data, batch_size = batch_size, shuffle=True)"
   ]
  },
  {
   "cell_type": "code",
   "execution_count": 5,
   "id": "5aa1f65b",
   "metadata": {
    "ExecuteTime": {
     "end_time": "2021-07-17T11:15:18.185002Z",
     "start_time": "2021-07-17T11:15:18.138124Z"
    }
   },
   "outputs": [
    {
     "name": "stdout",
     "output_type": "stream",
     "text": [
      "Shape of X [N, C, H, W]:  torch.Size([64, 1, 28, 28])\n",
      "Shape of y:  torch.Size([64]) torch.int64\n"
     ]
    }
   ],
   "source": [
    "for X, y in train_loader:\n",
    "    print(\"Shape of X [N, C, H, W]: \", X.shape)\n",
    "    print(\"Shape of y: \", y.shape, y.dtype)\n",
    "    break"
   ]
  },
  {
   "cell_type": "code",
   "execution_count": 6,
   "id": "7b8a7d54",
   "metadata": {
    "ExecuteTime": {
     "end_time": "2021-07-17T11:15:18.231864Z",
     "start_time": "2021-07-17T11:15:18.187975Z"
    }
   },
   "outputs": [
    {
     "name": "stdout",
     "output_type": "stream",
     "text": [
      "[tensor([[[[0., 0., 0.,  ..., 0., 0., 0.],\n",
      "          [0., 0., 0.,  ..., 0., 0., 0.],\n",
      "          [0., 0., 0.,  ..., 0., 0., 0.],\n",
      "          ...,\n",
      "          [0., 0., 0.,  ..., 0., 0., 0.],\n",
      "          [0., 0., 0.,  ..., 0., 0., 0.],\n",
      "          [0., 0., 0.,  ..., 0., 0., 0.]]],\n",
      "\n",
      "\n",
      "        [[[0., 0., 0.,  ..., 0., 0., 0.],\n",
      "          [0., 0., 0.,  ..., 0., 0., 0.],\n",
      "          [0., 0., 0.,  ..., 0., 0., 0.],\n",
      "          ...,\n",
      "          [0., 0., 0.,  ..., 0., 0., 0.],\n",
      "          [0., 0., 0.,  ..., 0., 0., 0.],\n",
      "          [0., 0., 0.,  ..., 0., 0., 0.]]],\n",
      "\n",
      "\n",
      "        [[[0., 0., 0.,  ..., 0., 0., 0.],\n",
      "          [0., 0., 0.,  ..., 0., 0., 0.],\n",
      "          [0., 0., 0.,  ..., 0., 0., 0.],\n",
      "          ...,\n",
      "          [0., 0., 0.,  ..., 0., 0., 0.],\n",
      "          [0., 0., 0.,  ..., 0., 0., 0.],\n",
      "          [0., 0., 0.,  ..., 0., 0., 0.]]],\n",
      "\n",
      "\n",
      "        ...,\n",
      "\n",
      "\n",
      "        [[[0., 0., 0.,  ..., 0., 0., 0.],\n",
      "          [0., 0., 0.,  ..., 0., 0., 0.],\n",
      "          [0., 0., 0.,  ..., 0., 0., 0.],\n",
      "          ...,\n",
      "          [0., 0., 0.,  ..., 0., 0., 0.],\n",
      "          [0., 0., 0.,  ..., 0., 0., 0.],\n",
      "          [0., 0., 0.,  ..., 0., 0., 0.]]],\n",
      "\n",
      "\n",
      "        [[[0., 0., 0.,  ..., 0., 0., 0.],\n",
      "          [0., 0., 0.,  ..., 0., 0., 0.],\n",
      "          [0., 0., 0.,  ..., 0., 0., 0.],\n",
      "          ...,\n",
      "          [0., 0., 0.,  ..., 0., 0., 0.],\n",
      "          [0., 0., 0.,  ..., 0., 0., 0.],\n",
      "          [0., 0., 0.,  ..., 0., 0., 0.]]],\n",
      "\n",
      "\n",
      "        [[[0., 0., 0.,  ..., 0., 0., 0.],\n",
      "          [0., 0., 0.,  ..., 0., 0., 0.],\n",
      "          [0., 0., 0.,  ..., 0., 0., 0.],\n",
      "          ...,\n",
      "          [0., 0., 0.,  ..., 0., 0., 0.],\n",
      "          [0., 0., 0.,  ..., 0., 0., 0.],\n",
      "          [0., 0., 0.,  ..., 0., 0., 0.]]]]), tensor([2, 6, 0, 1, 7, 2, 3, 4, 3, 8, 3, 1, 4, 0, 9, 4, 1, 8, 1, 9, 8, 4, 2, 4,\n",
      "        0, 0, 0, 7, 2, 1, 1, 6, 6, 1, 5, 1, 4, 7, 4, 3, 7, 6, 3, 0, 0, 7, 4, 0,\n",
      "        2, 8, 7, 3, 5, 4, 6, 1, 9, 8, 8, 4, 8, 3, 1, 5])]\n"
     ]
    }
   ],
   "source": [
    "# for iteration we use loaded data\n",
    "for data in train_loader: \n",
    "    # 64 digits and 64 labels\n",
    "    print(data)\n",
    "    break    "
   ]
  },
  {
   "cell_type": "code",
   "execution_count": 7,
   "id": "c98565bc",
   "metadata": {
    "ExecuteTime": {
     "end_time": "2021-07-17T11:15:18.247817Z",
     "start_time": "2021-07-17T11:15:18.234850Z"
    }
   },
   "outputs": [],
   "source": [
    "x, y = data[0][0], data[1][0]"
   ]
  },
  {
   "cell_type": "code",
   "execution_count": 8,
   "id": "979373ed",
   "metadata": {
    "ExecuteTime": {
     "end_time": "2021-07-17T11:15:18.263773Z",
     "start_time": "2021-07-17T11:15:18.251805Z"
    }
   },
   "outputs": [
    {
     "name": "stdout",
     "output_type": "stream",
     "text": [
      "tensor([[[0.0000, 0.0000, 0.0000, 0.0000, 0.0000, 0.0000, 0.0000, 0.0000,\n",
      "          0.0000, 0.0000, 0.0000, 0.0000, 0.0000, 0.0000, 0.0000, 0.0000,\n",
      "          0.0000, 0.0000, 0.0000, 0.0000, 0.0000, 0.0000, 0.0000, 0.0000,\n",
      "          0.0000, 0.0000, 0.0000, 0.0000],\n",
      "         [0.0000, 0.0000, 0.0000, 0.0000, 0.0000, 0.0000, 0.0000, 0.0000,\n",
      "          0.0000, 0.0000, 0.0000, 0.0000, 0.0000, 0.0000, 0.0000, 0.0000,\n",
      "          0.0000, 0.0000, 0.0000, 0.0000, 0.0000, 0.0000, 0.0000, 0.0000,\n",
      "          0.0000, 0.0000, 0.0000, 0.0000],\n",
      "         [0.0000, 0.0000, 0.0000, 0.0000, 0.0000, 0.0000, 0.0000, 0.0000,\n",
      "          0.0000, 0.0000, 0.0000, 0.0000, 0.0000, 0.0000, 0.0000, 0.0000,\n",
      "          0.0000, 0.0000, 0.0000, 0.0000, 0.0000, 0.0000, 0.0000, 0.0000,\n",
      "          0.0000, 0.0000, 0.0000, 0.0000],\n",
      "         [0.0000, 0.0000, 0.0000, 0.0000, 0.0000, 0.0000, 0.0000, 0.0000,\n",
      "          0.0000, 0.0000, 0.0000, 0.0000, 0.0000, 0.0000, 0.0000, 0.0000,\n",
      "          0.0000, 0.0000, 0.0000, 0.0000, 0.0000, 0.0000, 0.0000, 0.0000,\n",
      "          0.0000, 0.0000, 0.0000, 0.0000],\n",
      "         [0.0000, 0.0000, 0.0000, 0.0000, 0.0000, 0.0000, 0.0000, 0.0000,\n",
      "          0.0000, 0.0000, 0.0000, 0.0000, 0.0000, 0.0000, 0.0000, 0.0000,\n",
      "          0.0000, 0.0000, 0.0392, 0.1137, 0.1137, 0.0863, 0.0000, 0.0000,\n",
      "          0.0000, 0.0000, 0.0000, 0.0000],\n",
      "         [0.0000, 0.0000, 0.0000, 0.0000, 0.0000, 0.0000, 0.0000, 0.0000,\n",
      "          0.0000, 0.0000, 0.0000, 0.0000, 0.0000, 0.0000, 0.0000, 0.2000,\n",
      "          0.4706, 0.6627, 0.7725, 0.9882, 0.9922, 0.9176, 0.5137, 0.0275,\n",
      "          0.0000, 0.0000, 0.0000, 0.0000],\n",
      "         [0.0000, 0.0000, 0.0000, 0.0000, 0.0000, 0.0000, 0.0000, 0.0000,\n",
      "          0.0000, 0.0000, 0.0000, 0.0000, 0.0000, 0.2235, 0.4824, 0.9647,\n",
      "          0.9922, 0.9882, 0.9882, 0.9882, 0.9922, 0.9882, 0.9882, 0.6000,\n",
      "          0.0000, 0.0000, 0.0000, 0.0000],\n",
      "         [0.0000, 0.0000, 0.0000, 0.0000, 0.0000, 0.0000, 0.0000, 0.0000,\n",
      "          0.0000, 0.0000, 0.0000, 0.0000, 0.4941, 0.9529, 0.9882, 0.9882,\n",
      "          0.9922, 0.8902, 0.5451, 0.5451, 0.6000, 0.9882, 0.9882, 0.9882,\n",
      "          0.0000, 0.0000, 0.0000, 0.0000],\n",
      "         [0.0000, 0.0000, 0.0000, 0.0000, 0.0000, 0.0000, 0.0000, 0.0000,\n",
      "          0.0000, 0.0000, 0.0000, 0.2980, 0.9961, 0.9922, 0.9059, 0.4902,\n",
      "          0.0000, 0.0000, 0.0000, 0.0000, 0.0000, 0.6627, 0.9922, 0.9922,\n",
      "          0.0000, 0.0000, 0.0000, 0.0000],\n",
      "         [0.0000, 0.0000, 0.0000, 0.0000, 0.0000, 0.0000, 0.0000, 0.0000,\n",
      "          0.0000, 0.0000, 0.0000, 0.6863, 0.7725, 0.4745, 0.0745, 0.0000,\n",
      "          0.0000, 0.0000, 0.0000, 0.0000, 0.0275, 0.7333, 0.9882, 0.9882,\n",
      "          0.0000, 0.0000, 0.0000, 0.0000],\n",
      "         [0.0000, 0.0000, 0.0000, 0.0000, 0.0000, 0.0000, 0.0000, 0.0000,\n",
      "          0.0000, 0.0000, 0.0000, 0.0000, 0.0000, 0.0000, 0.0000, 0.0000,\n",
      "          0.0000, 0.0000, 0.0000, 0.0000, 0.2588, 0.9882, 0.9882, 0.9882,\n",
      "          0.0000, 0.0000, 0.0000, 0.0000],\n",
      "         [0.0000, 0.0000, 0.0000, 0.0000, 0.0000, 0.0000, 0.0000, 0.0000,\n",
      "          0.0000, 0.0000, 0.0000, 0.0000, 0.0000, 0.0000, 0.0000, 0.0000,\n",
      "          0.0000, 0.0000, 0.0000, 0.0000, 0.9451, 0.9882, 0.9882, 0.5922,\n",
      "          0.0000, 0.0000, 0.0000, 0.0000],\n",
      "         [0.0000, 0.0000, 0.0000, 0.0000, 0.0000, 0.0000, 0.0000, 0.0000,\n",
      "          0.0000, 0.0000, 0.0000, 0.0000, 0.0000, 0.0000, 0.0000, 0.0000,\n",
      "          0.0000, 0.0000, 0.0000, 0.4941, 0.9961, 0.9922, 0.8078, 0.0510,\n",
      "          0.0000, 0.0000, 0.0000, 0.0000],\n",
      "         [0.0000, 0.0000, 0.0000, 0.0000, 0.0000, 0.0000, 0.0000, 0.0000,\n",
      "          0.0000, 0.0000, 0.0000, 0.0000, 0.0000, 0.0000, 0.0000, 0.0000,\n",
      "          0.0000, 0.0000, 0.3216, 0.9529, 0.9922, 0.9412, 0.3176, 0.0000,\n",
      "          0.0000, 0.0000, 0.0000, 0.0000],\n",
      "         [0.0000, 0.0000, 0.0000, 0.0000, 0.0000, 0.0000, 0.0000, 0.0000,\n",
      "          0.0000, 0.0000, 0.1137, 0.1843, 0.0000, 0.0000, 0.0000, 0.0000,\n",
      "          0.0000, 0.0745, 0.8431, 0.9882, 0.9569, 0.3176, 0.0000, 0.0000,\n",
      "          0.0000, 0.0000, 0.0000, 0.0000],\n",
      "         [0.0000, 0.0000, 0.0000, 0.0000, 0.0000, 0.0000, 0.0000, 0.2000,\n",
      "          0.4941, 0.8824, 0.9176, 0.9412, 0.8863, 0.5882, 0.4431, 0.0510,\n",
      "          0.0000, 0.4196, 0.9882, 0.9882, 0.2941, 0.0000, 0.0000, 0.0000,\n",
      "          0.0000, 0.0000, 0.0000, 0.0000],\n",
      "         [0.0000, 0.0000, 0.0000, 0.0000, 0.0000, 0.0745, 0.6039, 0.9922,\n",
      "          0.9961, 0.9922, 0.9922, 0.9922, 0.9961, 0.9922, 0.9922, 0.9922,\n",
      "          0.9961, 0.9922, 0.9569, 0.4902, 0.0000, 0.0000, 0.0000, 0.0000,\n",
      "          0.0000, 0.0000, 0.0000, 0.0000],\n",
      "         [0.0000, 0.0000, 0.0000, 0.0000, 0.1765, 0.8824, 0.9882, 0.9882,\n",
      "          0.9686, 0.7686, 0.6196, 0.3294, 0.5725, 0.9176, 0.9882, 0.9882,\n",
      "          0.9922, 0.9882, 0.8784, 0.6627, 0.1020, 0.0000, 0.0000, 0.0000,\n",
      "          0.0000, 0.0000, 0.0000, 0.0000],\n",
      "         [0.0000, 0.0000, 0.0000, 0.0000, 0.8980, 0.9882, 0.8784, 0.6588,\n",
      "          0.1961, 0.0000, 0.0000, 0.0000, 0.3373, 0.7725, 0.9882, 0.9882,\n",
      "          0.8078, 0.6588, 0.6588, 0.6588, 0.0980, 0.0000, 0.0000, 0.0000,\n",
      "          0.0000, 0.0000, 0.0000, 0.0000],\n",
      "         [0.0000, 0.0000, 0.0000, 0.0000, 0.9922, 0.9882, 0.4627, 0.0000,\n",
      "          0.0000, 0.1020, 0.4431, 0.6392, 0.9922, 0.9882, 0.8392, 0.3529,\n",
      "          0.0510, 0.0000, 0.0000, 0.0000, 0.0000, 0.0000, 0.0000, 0.0000,\n",
      "          0.0000, 0.0000, 0.0000, 0.0000],\n",
      "         [0.0000, 0.0000, 0.0000, 0.0000, 1.0000, 0.9922, 0.6471, 0.7490,\n",
      "          0.9961, 0.9922, 0.9922, 0.9922, 0.8392, 0.4431, 0.0980, 0.0000,\n",
      "          0.0000, 0.0000, 0.0000, 0.0000, 0.0000, 0.0000, 0.0000, 0.0000,\n",
      "          0.0000, 0.0000, 0.0000, 0.0000],\n",
      "         [0.0000, 0.0000, 0.0000, 0.0000, 0.9922, 0.9882, 0.9882, 0.9882,\n",
      "          0.9922, 0.9882, 0.8157, 0.3765, 0.0000, 0.0000, 0.0000, 0.0000,\n",
      "          0.0000, 0.0000, 0.0000, 0.0000, 0.0000, 0.0000, 0.0000, 0.0000,\n",
      "          0.0000, 0.0000, 0.0000, 0.0000],\n",
      "         [0.0000, 0.0000, 0.0000, 0.0000, 0.2706, 0.6588, 0.6588, 0.6588,\n",
      "          0.6118, 0.2196, 0.0510, 0.0000, 0.0000, 0.0000, 0.0000, 0.0000,\n",
      "          0.0000, 0.0000, 0.0000, 0.0000, 0.0000, 0.0000, 0.0000, 0.0000,\n",
      "          0.0000, 0.0000, 0.0000, 0.0000],\n",
      "         [0.0000, 0.0000, 0.0000, 0.0000, 0.0000, 0.0000, 0.0000, 0.0000,\n",
      "          0.0000, 0.0000, 0.0000, 0.0000, 0.0000, 0.0000, 0.0000, 0.0000,\n",
      "          0.0000, 0.0000, 0.0000, 0.0000, 0.0000, 0.0000, 0.0000, 0.0000,\n",
      "          0.0000, 0.0000, 0.0000, 0.0000],\n",
      "         [0.0000, 0.0000, 0.0000, 0.0000, 0.0000, 0.0000, 0.0000, 0.0000,\n",
      "          0.0000, 0.0000, 0.0000, 0.0000, 0.0000, 0.0000, 0.0000, 0.0000,\n",
      "          0.0000, 0.0000, 0.0000, 0.0000, 0.0000, 0.0000, 0.0000, 0.0000,\n",
      "          0.0000, 0.0000, 0.0000, 0.0000],\n",
      "         [0.0000, 0.0000, 0.0000, 0.0000, 0.0000, 0.0000, 0.0000, 0.0000,\n",
      "          0.0000, 0.0000, 0.0000, 0.0000, 0.0000, 0.0000, 0.0000, 0.0000,\n",
      "          0.0000, 0.0000, 0.0000, 0.0000, 0.0000, 0.0000, 0.0000, 0.0000,\n",
      "          0.0000, 0.0000, 0.0000, 0.0000],\n",
      "         [0.0000, 0.0000, 0.0000, 0.0000, 0.0000, 0.0000, 0.0000, 0.0000,\n",
      "          0.0000, 0.0000, 0.0000, 0.0000, 0.0000, 0.0000, 0.0000, 0.0000,\n",
      "          0.0000, 0.0000, 0.0000, 0.0000, 0.0000, 0.0000, 0.0000, 0.0000,\n",
      "          0.0000, 0.0000, 0.0000, 0.0000],\n",
      "         [0.0000, 0.0000, 0.0000, 0.0000, 0.0000, 0.0000, 0.0000, 0.0000,\n",
      "          0.0000, 0.0000, 0.0000, 0.0000, 0.0000, 0.0000, 0.0000, 0.0000,\n",
      "          0.0000, 0.0000, 0.0000, 0.0000, 0.0000, 0.0000, 0.0000, 0.0000,\n",
      "          0.0000, 0.0000, 0.0000, 0.0000]]])\n"
     ]
    }
   ],
   "source": [
    "print(x)"
   ]
  },
  {
   "cell_type": "code",
   "execution_count": 9,
   "id": "8bcd3f6b",
   "metadata": {
    "ExecuteTime": {
     "end_time": "2021-07-17T11:15:18.278733Z",
     "start_time": "2021-07-17T11:15:18.267763Z"
    }
   },
   "outputs": [
    {
     "name": "stdout",
     "output_type": "stream",
     "text": [
      "tensor(2)\n"
     ]
    }
   ],
   "source": [
    "print(y)"
   ]
  },
  {
   "cell_type": "code",
   "execution_count": 10,
   "id": "6b8701bd",
   "metadata": {
    "ExecuteTime": {
     "end_time": "2021-07-17T11:15:18.511112Z",
     "start_time": "2021-07-17T11:15:18.281725Z"
    }
   },
   "outputs": [
    {
     "data": {
      "text/plain": [
       "<matplotlib.image.AxesImage at 0x1defdecb580>"
      ]
     },
     "execution_count": 10,
     "metadata": {},
     "output_type": "execute_result"
    },
    {
     "data": {
      "image/png": "[encoded data removed]",
      "text/plain": [
       "<Figure size 432x288 with 1 Axes>"
      ]
     },
     "metadata": {
      "needs_background": "light"
     },
     "output_type": "display_data"
    }
   ],
   "source": [
    "# plt.imshow(data[0][0])\n",
    "# (1, 28, 28) so plt.imshow() wont work\n",
    "# so use .view(28, 28)\n",
    "plt.imshow(data[0][0].view(28, 28))"
   ]
  },
  {
   "cell_type": "markdown",
   "id": "d60fe385",
   "metadata": {},
   "source": [
    "# To find whether the classes are balanced or not"
   ]
  },
  {
   "cell_type": "code",
   "execution_count": 11,
   "id": "07de9a97",
   "metadata": {
    "ExecuteTime": {
     "end_time": "2021-07-17T11:15:25.024722Z",
     "start_time": "2021-07-17T11:15:18.513106Z"
    }
   },
   "outputs": [
    {
     "name": "stdout",
     "output_type": "stream",
     "text": [
      "{0: 5923, 1: 6742, 2: 5958, 3: 6131, 4: 5842, 5: 5421, 6: 5918, 7: 6265, 8: 5851, 9: 5949}\n"
     ]
    }
   ],
   "source": [
    "total = 0\n",
    "counter_dict = {0:0,1:0,2:0,3:0,4:0,5:0,6:0,7:0,8:0,9:0}\n",
    "\n",
    "for data in train_loader:\n",
    "    Xs, ys =  data\n",
    "    for y in ys:\n",
    "        # increase the count of corresponding class by 1\n",
    "        counter_dict[int(y)] +=1\n",
    "        total +=1\n",
    "print(counter_dict)"
   ]
  },
  {
   "cell_type": "markdown",
   "id": "3654c930",
   "metadata": {},
   "source": [
    "# We can see the classes are well balanced"
   ]
  },
  {
   "cell_type": "code",
   "execution_count": 12,
   "id": "7b76a364",
   "metadata": {
    "ExecuteTime": {
     "end_time": "2021-07-17T11:15:25.039648Z",
     "start_time": "2021-07-17T11:15:25.025686Z"
    }
   },
   "outputs": [
    {
     "name": "stdout",
     "output_type": "stream",
     "text": [
      "0: 9.872\n",
      "1: 11.237\n",
      "2: 9.930\n",
      "3: 10.218\n",
      "4: 9.737\n",
      "5: 9.035\n",
      "6: 9.863\n",
      "7: 10.442\n",
      "8: 9.752\n",
      "9: 9.915\n"
     ]
    }
   ],
   "source": [
    "for i in counter_dict:\n",
    "    # percentages of class in the dataet\n",
    "    print(f\"{i}: {counter_dict[i]/total*100:.3f}\")"
   ]
  },
  {
   "cell_type": "markdown",
   "id": "80c66ac1",
   "metadata": {},
   "source": [
    "# Create a fully connected NN"
   ]
  },
  {
   "cell_type": "code",
   "execution_count": 13,
   "id": "08086c08",
   "metadata": {
    "ExecuteTime": {
     "end_time": "2021-07-17T11:15:25.055604Z",
     "start_time": "2021-07-17T11:15:25.041643Z"
    }
   },
   "outputs": [],
   "source": [
    "# inherits from the nn module\n",
    "# Our first linear layer take input_size, in this case 784 nodes to 512\n",
    "# and our second linear layer takes 512 to the num_classes we have, in this case 10.\n",
    "class NN(nn.Module):\n",
    "    def __init__(self, input_size, num_classes):\n",
    "        super(NN, self).__init__()\n",
    "        # input layer\n",
    "        # fc1 = fully connected layer 1\n",
    "        self.fc1 = nn.Linear(input_size, 512)\n",
    "        # self.fc2 = nn.Linear(512, 512)\n",
    "        self.fc3 = nn.Linear(512, num_classes)\n",
    "    \n",
    "    # create a forward function\n",
    "    def forward(self, x):\n",
    "        x = F.relu(self.fc1(x))\n",
    "        # x = F.relu(self.fc2(x))\n",
    "        x = self.fc3(x)\n",
    "        \n",
    "        return x"
   ]
  },
  {
   "cell_type": "code",
   "execution_count": 14,
   "id": "0dc65abb",
   "metadata": {
    "ExecuteTime": {
     "end_time": "2021-07-17T11:15:25.086522Z",
     "start_time": "2021-07-17T11:15:25.056603Z"
    }
   },
   "outputs": [
    {
     "data": {
      "text/plain": [
       "device(type='cuda')"
      ]
     },
     "execution_count": 14,
     "metadata": {},
     "output_type": "execute_result"
    }
   ],
   "source": [
    "# set device\n",
    "device = torch.device(\"cuda\" if torch.cuda.is_available() else \"cpu\")\n",
    "device"
   ]
  },
  {
   "cell_type": "code",
   "execution_count": 15,
   "id": "52a6caa6",
   "metadata": {
    "ExecuteTime": {
     "end_time": "2021-07-17T11:15:25.102480Z",
     "start_time": "2021-07-17T11:15:25.087520Z"
    }
   },
   "outputs": [
    {
     "data": {
      "text/plain": [
       "torch.Size([64, 10])"
      ]
     },
     "execution_count": 15,
     "metadata": {},
     "output_type": "execute_result"
    }
   ],
   "source": [
    "# 28*28 images passes as 784\n",
    "# 10 for no of digits\n",
    "model = NN(784, 10)\n",
    "# 64 = no of examples (images) mini batch size\n",
    "x = torch.rand((64, 784))\n",
    "model(x).shape"
   ]
  },
  {
   "cell_type": "markdown",
   "id": "14a7abd3",
   "metadata": {},
   "source": [
    "# Initialize the network"
   ]
  },
  {
   "cell_type": "code",
   "execution_count": 16,
   "id": "a88f6a03",
   "metadata": {
    "ExecuteTime": {
     "end_time": "2021-07-17T11:15:27.673602Z",
     "start_time": "2021-07-17T11:15:25.104474Z"
    }
   },
   "outputs": [],
   "source": [
    "model = NN(input_size = input_size, num_classes = num_classes).to(device)"
   ]
  },
  {
   "cell_type": "markdown",
   "id": "f8a6a03d",
   "metadata": {},
   "source": [
    "# Loss & optimizer"
   ]
  },
  {
   "cell_type": "code",
   "execution_count": 17,
   "id": "94bff568",
   "metadata": {
    "ExecuteTime": {
     "end_time": "2021-07-17T11:15:27.689560Z",
     "start_time": "2021-07-17T11:15:27.677592Z"
    }
   },
   "outputs": [],
   "source": [
    "# loss- how wrong our model is\n",
    "loss_fn = nn.CrossEntropyLoss()\n",
    "# optimizer- adjusts the weights to decrese the loss\n",
    "optimizer = optim.Adam(model.parameters(), lr=learning_rate)"
   ]
  },
  {
   "cell_type": "markdown",
   "id": "606a21fd",
   "metadata": {},
   "source": [
    "# Train the network"
   ]
  },
  {
   "cell_type": "code",
   "execution_count": 18,
   "id": "0a9d8a7f",
   "metadata": {
    "ExecuteTime": {
     "end_time": "2021-07-17T11:15:27.705516Z",
     "start_time": "2021-07-17T11:15:27.692552Z"
    }
   },
   "outputs": [],
   "source": [
    "def train(dataloader, model, loss_fn, optimizer):\n",
    "    size = len(dataloader.dataset)\n",
    "    for batch, (X, y) in enumerate(dataloader):\n",
    "        X, y = X.to(device), y.to(device)\n",
    "        \n",
    "        # X has shape (64, 1, 28, 28)\n",
    "        # 64 training examples\n",
    "        # 1 as we are using gray scale images\n",
    "        # 28 * 28 height, width        \n",
    "        # we need to reshape this to (64, 784)\n",
    "        \n",
    "        X = X.reshape(X.shape[0],-1)\n",
    "\n",
    "        # Compute prediction error\n",
    "        pred = model(X)\n",
    "        loss = loss_fn(pred, y)\n",
    "\n",
    "        # Backpropagation\n",
    "        # set gradients to zero for each batch, so it does not store back prop calculation from previous forward props\n",
    "        optimizer.zero_grad()\n",
    "        loss.backward()\n",
    "        \n",
    "        # Gradient step\n",
    "        optimizer.step()\n",
    "\n",
    "        if batch % 100 == 0:\n",
    "            # print(f\"batch: {batch}, len:{len(X)}, current: {batch*len(X)}\")\n",
    "            loss, current = loss.item(), batch * len(X)\n",
    "            print(f\"loss: {loss:>7f}  [{current:>5d}/{size:>5d}]\")"
   ]
  },
  {
   "cell_type": "code",
   "execution_count": 19,
   "id": "d1ecde31",
   "metadata": {
    "ExecuteTime": {
     "end_time": "2021-07-17T11:15:27.721474Z",
     "start_time": "2021-07-17T11:15:27.707511Z"
    }
   },
   "outputs": [],
   "source": [
    "def test(dataloader, model, loss_fn):\n",
    "    size = len(dataloader.dataset)\n",
    "    \n",
    "    num_batches = len(dataloader)\n",
    "    \n",
    "    model.eval()\n",
    "    test_loss, correct = 0, 0\n",
    "    \n",
    "    with torch.no_grad():\n",
    "        for X, y in dataloader:\n",
    "            X, y = X.to(device), y.to(device)\n",
    "            X = X.reshape(X.shape[0],-1)\n",
    "            pred = model(X)\n",
    "            test_loss += loss_fn(pred, y).item()\n",
    "            correct += (pred.argmax(1) == y).type(torch.float).sum().item()\n",
    "            \n",
    "    test_loss /= num_batches\n",
    "    correct /= size\n",
    "    print(f\"Test Error: \\n Accuracy: {(100*correct):>0.1f}%, Avg loss: {test_loss:>8f} \\n\")"
   ]
  },
  {
   "cell_type": "code",
   "execution_count": 23,
   "id": "94af5a99",
   "metadata": {
    "ExecuteTime": {
     "end_time": "2021-07-17T11:29:45.114328Z",
     "start_time": "2021-07-17T11:29:21.044294Z"
    }
   },
   "outputs": [
    {
     "name": "stdout",
     "output_type": "stream",
     "text": [
      "Epoch 1\n",
      "-------------------------------\n",
      "loss: 0.080999  [    0/60000]\n",
      "loss: 0.013882  [ 6400/60000]\n",
      "loss: 0.027603  [12800/60000]\n",
      "loss: 0.080265  [19200/60000]\n",
      "loss: 0.016241  [25600/60000]\n",
      "loss: 0.021360  [32000/60000]\n",
      "loss: 0.023073  [38400/60000]\n",
      "loss: 0.027024  [44800/60000]\n",
      "loss: 0.045060  [51200/60000]\n",
      "loss: 0.022943  [57600/60000]\n",
      "Test Error: \n",
      " Accuracy: 98.0%, Avg loss: 0.065714 \n",
      "\n",
      "Epoch 2\n",
      "-------------------------------\n",
      "loss: 0.013125  [    0/60000]\n",
      "loss: 0.008707  [ 6400/60000]\n",
      "loss: 0.008592  [12800/60000]\n",
      "loss: 0.029871  [19200/60000]\n",
      "loss: 0.013264  [25600/60000]\n",
      "loss: 0.022006  [32000/60000]\n",
      "loss: 0.015286  [38400/60000]\n",
      "loss: 0.036303  [44800/60000]\n",
      "loss: 0.046191  [51200/60000]\n",
      "loss: 0.032959  [57600/60000]\n",
      "Test Error: \n",
      " Accuracy: 97.7%, Avg loss: 0.072627 \n",
      "\n",
      "Epoch 3\n",
      "-------------------------------\n",
      "loss: 0.025825  [    0/60000]\n",
      "loss: 0.018814  [ 6400/60000]\n",
      "loss: 0.032334  [12800/60000]\n",
      "loss: 0.008560  [19200/60000]\n",
      "loss: 0.064605  [25600/60000]\n",
      "loss: 0.039920  [32000/60000]\n",
      "loss: 0.007530  [38400/60000]\n",
      "loss: 0.025796  [44800/60000]\n",
      "loss: 0.012783  [51200/60000]\n",
      "loss: 0.016458  [57600/60000]\n",
      "Test Error: \n",
      " Accuracy: 98.0%, Avg loss: 0.068318 \n",
      "\n",
      "Done!\n"
     ]
    }
   ],
   "source": [
    "for epoch in range(epochs):\n",
    "    print(f\"Epoch {epoch+1}\\n-------------------------------\")\n",
    "    train(train_loader, model, loss_fn, optimizer)\n",
    "    test(test_loader, model, loss_fn)\n",
    "print(\"Done!\")"
   ]
  },
  {
   "cell_type": "markdown",
   "id": "9192545c",
   "metadata": {},
   "source": [
    "# Check some predictions from testset"
   ]
  },
  {
   "cell_type": "code",
   "execution_count": 21,
   "id": "5208b57b",
   "metadata": {
    "ExecuteTime": {
     "end_time": "2021-07-17T11:15:55.567742Z",
     "start_time": "2021-07-17T11:15:55.554272Z"
    }
   },
   "outputs": [],
   "source": [
    "for data in test_loader:\n",
    "    X, y = data\n",
    "    break"
   ]
  },
  {
   "cell_type": "code",
   "execution_count": 22,
   "id": "f1163339",
   "metadata": {
    "ExecuteTime": {
     "end_time": "2021-07-17T11:15:56.952620Z",
     "start_time": "2021-07-17T11:15:55.568739Z"
    }
   },
   "outputs": [
    {
     "data": {
      "image/png": "[encoded data removed]",
      "text/plain": [
       "<Figure size 432x288 with 1 Axes>"
      ]
     },
     "metadata": {
      "needs_background": "light"
     },
     "output_type": "display_data"
    },
    {
     "name": "stdout",
     "output_type": "stream",
     "text": [
      "tensor(4)\n"
     ]
    },
    {
     "data": {
      "image/png": "[encoded data removed]",
      "text/plain": [
       "<Figure size 432x288 with 1 Axes>"
      ]
     },
     "metadata": {
      "needs_background": "light"
     },
     "output_type": "display_data"
    },
    {
     "name": "stdout",
     "output_type": "stream",
     "text": [
      "tensor(2)\n"
     ]
    },
    {
     "data": {
      "image/png": "[encoded data removed]",
      "text/plain": [
       "<Figure size 432x288 with 1 Axes>"
      ]
     },
     "metadata": {
      "needs_background": "light"
     },
     "output_type": "display_data"
    },
    {
     "name": "stdout",
     "output_type": "stream",
     "text": [
      "tensor(9)\n"
     ]
    },
    {
     "data": {
      "image/png": "[encoded data removed]",
      "text/plain": [
       "<Figure size 432x288 with 1 Axes>"
      ]
     },
     "metadata": {
      "needs_background": "light"
     },
     "output_type": "display_data"
    },
    {
     "name": "stdout",
     "output_type": "stream",
     "text": [
      "tensor(6)\n"
     ]
    },
    {
     "data": {
      "image/png": "[encoded data removed]",
      "text/plain": [
       "<Figure size 432x288 with 1 Axes>"
      ]
     },
     "metadata": {
      "needs_background": "light"
     },
     "output_type": "display_data"
    },
    {
     "name": "stdout",
     "output_type": "stream",
     "text": [
      "tensor(6)\n"
     ]
    },
    {
     "data": {
      "image/png": "[encoded data removed]",
      "text/plain": [
       "<Figure size 432x288 with 1 Axes>"
      ]
     },
     "metadata": {
      "needs_background": "light"
     },
     "output_type": "display_data"
    },
    {
     "name": "stdout",
     "output_type": "stream",
     "text": [
      "tensor(7)\n"
     ]
    },
    {
     "data": {
      "image/png": "[encoded data removed]",
      "text/plain": [
       "<Figure size 432x288 with 1 Axes>"
      ]
     },
     "metadata": {
      "needs_background": "light"
     },
     "output_type": "display_data"
    },
    {
     "name": "stdout",
     "output_type": "stream",
     "text": [
      "tensor(3)\n"
     ]
    },
    {
     "data": {
      "image/png": "[encoded data removed]",
      "text/plain": [
       "<Figure size 432x288 with 1 Axes>"
      ]
     },
     "metadata": {
      "needs_background": "light"
     },
     "output_type": "display_data"
    },
    {
     "name": "stdout",
     "output_type": "stream",
     "text": [
      "tensor(2)\n"
     ]
    },
    {
     "data": {
      "image/png": "[encoded data removed]",
      "text/plain": [
       "<Figure size 432x288 with 1 Axes>"
      ]
     },
     "metadata": {
      "needs_background": "light"
     },
     "output_type": "display_data"
    },
    {
     "name": "stdout",
     "output_type": "stream",
     "text": [
      "tensor(5)\n"
     ]
    },
    {
     "data": {
      "image/png": "[encoded data removed]",
      "text/plain": [
       "<Figure size 432x288 with 1 Axes>"
      ]
     },
     "metadata": {
      "needs_background": "light"
     },
     "output_type": "display_data"
    },
    {
     "name": "stdout",
     "output_type": "stream",
     "text": [
      "tensor(8)\n"
     ]
    }
   ],
   "source": [
    "for i in range(10):\n",
    "    plt.imshow(X[i].view(28,28))\n",
    "    plt.show()\n",
    "    print(y[i])"
   ]
  }
 ],
 "metadata": {
  "kernelspec": {
   "display_name": "pytorch",
   "language": "python",
   "name": "deeplearning"
  },
  "language_info": {
   "codemirror_mode": {
    "name": "ipython",
    "version": 3
   },
   "file_extension": ".py",
   "mimetype": "text/x-python",
   "name": "python",
   "nbconvert_exporter": "python",
   "pygments_lexer": "ipython3",
   "version": "3.9.5"
  }
 },
 "nbformat": 4,
 "nbformat_minor": 5
}
