{
 "cells": [
  {
   "cell_type": "markdown",
   "id": "848ad8c2",
   "metadata": {},
   "source": [
    "# PYTORCH"
   ]
  },
  {
   "cell_type": "markdown",
   "id": "99d19b55",
   "metadata": {
    "ExecuteTime": {
     "end_time": "2021-07-15T10:49:23.672694Z",
     "start_time": "2021-07-15T10:49:23.653743Z"
    }
   },
   "source": [
    "<img src= 'https://miro.medium.com/max/880/1*WbLIc4-xIOfHiO2oWzimyA.png' width=500/>"
   ]
  },
  {
   "cell_type": "code",
   "execution_count": 1,
   "id": "26aa4db8",
   "metadata": {
    "ExecuteTime": {
     "end_time": "2021-07-15T17:07:44.902369Z",
     "start_time": "2021-07-15T17:07:43.778212Z"
    }
   },
   "outputs": [],
   "source": [
    "import torch\n",
    "\n",
    "import numpy as np\n",
    "\n",
    "# if GPU(cuda) is available use it or else use CPU\n",
    "device = \"cuda\" if torch.cuda.is_available() else \"cpu\""
   ]
  },
  {
   "cell_type": "code",
   "execution_count": 2,
   "id": "1103e773",
   "metadata": {
    "ExecuteTime": {
     "end_time": "2021-07-15T17:07:44.918207Z",
     "start_time": "2021-07-15T17:07:44.904212Z"
    }
   },
   "outputs": [
    {
     "name": "stdout",
     "output_type": "stream",
     "text": [
      "cuda\n"
     ]
    }
   ],
   "source": [
    "print(device)"
   ]
  },
  {
   "cell_type": "code",
   "execution_count": 3,
   "id": "b439a088",
   "metadata": {
    "ExecuteTime": {
     "end_time": "2021-07-15T17:07:47.191988Z",
     "start_time": "2021-07-15T17:07:44.919204Z"
    }
   },
   "outputs": [],
   "source": [
    "my_tensor = torch.tensor([[1, 2, 3], [4, 5, 6]], dtype=torch.float32, device=device)"
   ]
  },
  {
   "cell_type": "markdown",
   "id": "8fe30362",
   "metadata": {},
   "source": [
    "# Tensor attributes"
   ]
  },
  {
   "cell_type": "code",
   "execution_count": 4,
   "id": "205068b8",
   "metadata": {
    "ExecuteTime": {
     "end_time": "2021-07-15T17:07:47.223828Z",
     "start_time": "2021-07-15T17:07:47.193933Z"
    }
   },
   "outputs": [
    {
     "name": "stdout",
     "output_type": "stream",
     "text": [
      "tensor([[1., 2., 3.],\n",
      "        [4., 5., 6.]], device='cuda:0')\n"
     ]
    }
   ],
   "source": [
    "print(my_tensor)"
   ]
  },
  {
   "cell_type": "code",
   "execution_count": 5,
   "id": "acd1b16b",
   "metadata": {
    "ExecuteTime": {
     "end_time": "2021-07-15T17:07:47.239757Z",
     "start_time": "2021-07-15T17:07:47.225794Z"
    }
   },
   "outputs": [
    {
     "name": "stdout",
     "output_type": "stream",
     "text": [
      "torch.float32\n"
     ]
    }
   ],
   "source": [
    "print(my_tensor.dtype)"
   ]
  },
  {
   "cell_type": "code",
   "execution_count": 6,
   "id": "c525cfc6",
   "metadata": {
    "ExecuteTime": {
     "end_time": "2021-07-15T17:07:47.255111Z",
     "start_time": "2021-07-15T17:07:47.241764Z"
    }
   },
   "outputs": [
    {
     "name": "stdout",
     "output_type": "stream",
     "text": [
      "cuda:0\n"
     ]
    }
   ],
   "source": [
    "print(my_tensor.device)"
   ]
  },
  {
   "cell_type": "code",
   "execution_count": 7,
   "id": "49c67e2c",
   "metadata": {
    "ExecuteTime": {
     "end_time": "2021-07-15T17:07:47.271067Z",
     "start_time": "2021-07-15T17:07:47.257105Z"
    }
   },
   "outputs": [
    {
     "name": "stdout",
     "output_type": "stream",
     "text": [
      "torch.Size([2, 3])\n"
     ]
    }
   ],
   "source": [
    "print(my_tensor.shape)\n",
    "# print(my_tensor.retains_grad)"
   ]
  },
  {
   "cell_type": "markdown",
   "id": "baacf026",
   "metadata": {},
   "source": [
    "# Other common initialization methods"
   ]
  },
  {
   "cell_type": "code",
   "execution_count": 8,
   "id": "f6cabea1",
   "metadata": {
    "ExecuteTime": {
     "end_time": "2021-07-15T17:07:47.287041Z",
     "start_time": "2021-07-15T17:07:47.274073Z"
    }
   },
   "outputs": [
    {
     "name": "stdout",
     "output_type": "stream",
     "text": [
      "tensor([[0., 0., 0.],\n",
      "        [0., 0., 0.],\n",
      "        [0., 0., 0.]])\n"
     ]
    }
   ],
   "source": [
    "# random values not only zero (uninitialized)\n",
    "x = torch.empty(size=(3, 3))\n",
    "print(x)"
   ]
  },
  {
   "cell_type": "code",
   "execution_count": 9,
   "id": "052e952e",
   "metadata": {
    "ExecuteTime": {
     "end_time": "2021-07-15T17:07:47.302991Z",
     "start_time": "2021-07-15T17:07:47.293017Z"
    }
   },
   "outputs": [
    {
     "name": "stdout",
     "output_type": "stream",
     "text": [
      "tensor([[0., 0., 0.],\n",
      "        [0., 0., 0.],\n",
      "        [0., 0., 0.]])\n"
     ]
    }
   ],
   "source": [
    "# zeros tensor\n",
    "x = torch.zeros((3, 3))\n",
    "print(x)"
   ]
  },
  {
   "cell_type": "code",
   "execution_count": 10,
   "id": "5ab44231",
   "metadata": {
    "ExecuteTime": {
     "end_time": "2021-07-15T17:07:47.318686Z",
     "start_time": "2021-07-15T17:07:47.305985Z"
    }
   },
   "outputs": [
    {
     "name": "stdout",
     "output_type": "stream",
     "text": [
      "tensor([[0.9396, 0.4675, 0.5218],\n",
      "        [0.7798, 0.3643, 0.9267],\n",
      "        [0.6757, 0.2614, 0.7398]])\n"
     ]
    }
   ],
   "source": [
    "# random values\n",
    "x = torch.rand((3, 3))\n",
    "print(x)"
   ]
  },
  {
   "cell_type": "code",
   "execution_count": 11,
   "id": "b8944323",
   "metadata": {
    "ExecuteTime": {
     "end_time": "2021-07-15T17:07:47.334994Z",
     "start_time": "2021-07-15T17:07:47.321667Z"
    }
   },
   "outputs": [
    {
     "name": "stdout",
     "output_type": "stream",
     "text": [
      "tensor([[1., 1., 1.],\n",
      "        [1., 1., 1.],\n",
      "        [1., 1., 1.]])\n"
     ]
    }
   ],
   "source": [
    "# all ones\n",
    "x = torch.ones((3, 3))\n",
    "print(x)"
   ]
  },
  {
   "cell_type": "code",
   "execution_count": 12,
   "id": "bb56ff01",
   "metadata": {
    "ExecuteTime": {
     "end_time": "2021-07-15T17:07:47.349223Z",
     "start_time": "2021-07-15T17:07:47.338982Z"
    }
   },
   "outputs": [
    {
     "name": "stdout",
     "output_type": "stream",
     "text": [
      "tensor([[1., 0., 0.],\n",
      "        [0., 1., 0.],\n",
      "        [0., 0., 1.]])\n"
     ]
    }
   ],
   "source": [
    "# identity matrix\n",
    "x = torch.eye(3)\n",
    "print(x)"
   ]
  },
  {
   "cell_type": "code",
   "execution_count": 13,
   "id": "c93b2860",
   "metadata": {
    "ExecuteTime": {
     "end_time": "2021-07-15T17:07:47.365714Z",
     "start_time": "2021-07-15T17:07:47.352208Z"
    }
   },
   "outputs": [
    {
     "name": "stdout",
     "output_type": "stream",
     "text": [
      "tensor([[1., 0., 0.],\n",
      "        [0., 1., 0.],\n",
      "        [0., 0., 1.]])\n"
     ]
    }
   ],
   "source": [
    "# or we can use\n",
    "x = torch.diag(torch.ones(3))\n",
    "print(x)"
   ]
  },
  {
   "cell_type": "code",
   "execution_count": 14,
   "id": "2f7c89d2",
   "metadata": {
    "ExecuteTime": {
     "end_time": "2021-07-15T17:07:47.380675Z",
     "start_time": "2021-07-15T17:07:47.369704Z"
    }
   },
   "outputs": [
    {
     "name": "stdout",
     "output_type": "stream",
     "text": [
      "tensor([0, 1, 2, 3, 4])\n"
     ]
    }
   ],
   "source": [
    "x = torch.arange(start=0, end=5, step=1)\n",
    "print(x)"
   ]
  },
  {
   "cell_type": "code",
   "execution_count": 15,
   "id": "403ba5e7",
   "metadata": {
    "ExecuteTime": {
     "end_time": "2021-07-15T17:07:47.410763Z",
     "start_time": "2021-07-15T17:07:47.385662Z"
    }
   },
   "outputs": [
    {
     "data": {
      "text/plain": [
       "tensor([[0, 1, 2],\n",
       "        [3, 4, 5],\n",
       "        [6, 7, 8]])"
      ]
     },
     "execution_count": 15,
     "metadata": {},
     "output_type": "execute_result"
    }
   ],
   "source": [
    "x = torch.arange(9)\n",
    "x_33 = x.reshape(3,3)\n",
    "x_33"
   ]
  },
  {
   "cell_type": "code",
   "execution_count": 16,
   "id": "a2614200",
   "metadata": {
    "ExecuteTime": {
     "end_time": "2021-07-15T17:07:47.426681Z",
     "start_time": "2021-07-15T17:07:47.416742Z"
    }
   },
   "outputs": [
    {
     "name": "stdout",
     "output_type": "stream",
     "text": [
      "tensor([0.0000, 1.1000, 2.2000, 3.3000, 4.4000, 5.5000, 6.6000, 7.7000, 8.8000,\n",
      "        9.9000])\n"
     ]
    }
   ],
   "source": [
    "x = torch.arange(start=0, end=10, step=1.1)\n",
    "print(x)"
   ]
  },
  {
   "cell_type": "code",
   "execution_count": 17,
   "id": "9ff723e8",
   "metadata": {
    "ExecuteTime": {
     "end_time": "2021-07-15T17:07:47.442299Z",
     "start_time": "2021-07-15T17:07:47.429673Z"
    }
   },
   "outputs": [
    {
     "name": "stdout",
     "output_type": "stream",
     "text": [
      "tensor([0.1000, 0.2000, 0.3000, 0.4000, 0.5000, 0.6000, 0.7000, 0.8000, 0.9000,\n",
      "        1.0000])\n"
     ]
    }
   ],
   "source": [
    "x = torch.linspace(start=0.1, end=1, steps=10)\n",
    "print(x)"
   ]
  },
  {
   "cell_type": "code",
   "execution_count": 18,
   "id": "2b616520",
   "metadata": {
    "ExecuteTime": {
     "end_time": "2021-07-15T17:07:47.457041Z",
     "start_time": "2021-07-15T17:07:47.444081Z"
    }
   },
   "outputs": [
    {
     "name": "stdout",
     "output_type": "stream",
     "text": [
      "tensor([[-0.2696,  0.4472,  0.2642, -0.3589, -0.3563]])\n"
     ]
    }
   ],
   "source": [
    "# normal distributed\n",
    "x = torch.empty((1, 5)).normal_(mean=0, std=1)\n",
    "print(x)"
   ]
  },
  {
   "cell_type": "code",
   "execution_count": 19,
   "id": "e6f9eca1",
   "metadata": {
    "ExecuteTime": {
     "end_time": "2021-07-15T17:07:47.472998Z",
     "start_time": "2021-07-15T17:07:47.460035Z"
    }
   },
   "outputs": [
    {
     "name": "stdout",
     "output_type": "stream",
     "text": [
      "tensor([[0.7282, 0.0934, 0.2367, 0.3887, 0.4895]])\n"
     ]
    }
   ],
   "source": [
    "# uniform distribution\n",
    "x = torch.empty((1,5)).uniform_(0,1)\n",
    "print(x)"
   ]
  },
  {
   "cell_type": "markdown",
   "id": "a94b5614",
   "metadata": {},
   "source": [
    "# Convert tensors from one type to another"
   ]
  },
  {
   "cell_type": "code",
   "execution_count": 20,
   "id": "1e9dc8d9",
   "metadata": {
    "ExecuteTime": {
     "end_time": "2021-07-15T17:07:47.488335Z",
     "start_time": "2021-07-15T17:07:47.475989Z"
    }
   },
   "outputs": [
    {
     "data": {
      "text/plain": [
       "tensor([0, 1, 2, 3])"
      ]
     },
     "execution_count": 20,
     "metadata": {},
     "output_type": "execute_result"
    }
   ],
   "source": [
    "tensor = torch.arange(4)\n",
    "tensor"
   ]
  },
  {
   "cell_type": "code",
   "execution_count": 21,
   "id": "30ddb201",
   "metadata": {
    "ExecuteTime": {
     "end_time": "2021-07-15T17:07:47.503958Z",
     "start_time": "2021-07-15T17:07:47.491327Z"
    }
   },
   "outputs": [
    {
     "data": {
      "text/plain": [
       "tensor([False,  True,  True,  True])"
      ]
     },
     "execution_count": 21,
     "metadata": {},
     "output_type": "execute_result"
    }
   ],
   "source": [
    "# change them to type bool\n",
    "tensor.bool()"
   ]
  },
  {
   "cell_type": "code",
   "execution_count": 22,
   "id": "16528c44",
   "metadata": {
    "ExecuteTime": {
     "end_time": "2021-07-15T17:07:47.519915Z",
     "start_time": "2021-07-15T17:07:47.509941Z"
    }
   },
   "outputs": [
    {
     "data": {
      "text/plain": [
       "tensor([0, 1, 2, 3], dtype=torch.int16)"
      ]
     },
     "execution_count": 22,
     "metadata": {},
     "output_type": "execute_result"
    }
   ],
   "source": [
    "# int16\n",
    "tensor.short()"
   ]
  },
  {
   "cell_type": "code",
   "execution_count": 23,
   "id": "00c89232",
   "metadata": {
    "ExecuteTime": {
     "end_time": "2021-07-15T17:07:47.535479Z",
     "start_time": "2021-07-15T17:07:47.524904Z"
    }
   },
   "outputs": [
    {
     "data": {
      "text/plain": [
       "tensor([0, 1, 2, 3])"
      ]
     },
     "execution_count": 23,
     "metadata": {},
     "output_type": "execute_result"
    }
   ],
   "source": [
    "# int64\n",
    "tensor.long()"
   ]
  },
  {
   "cell_type": "code",
   "execution_count": 24,
   "id": "dedb84f7",
   "metadata": {
    "ExecuteTime": {
     "end_time": "2021-07-15T17:07:47.551129Z",
     "start_time": "2021-07-15T17:07:47.537469Z"
    }
   },
   "outputs": [
    {
     "data": {
      "text/plain": [
       "tensor([0., 1., 2., 3.], dtype=torch.float16)"
      ]
     },
     "execution_count": 24,
     "metadata": {},
     "output_type": "execute_result"
    }
   ],
   "source": [
    "# float16\n",
    "tensor.half()"
   ]
  },
  {
   "cell_type": "code",
   "execution_count": 25,
   "id": "aea03a98",
   "metadata": {
    "ExecuteTime": {
     "end_time": "2021-07-15T17:07:47.566093Z",
     "start_time": "2021-07-15T17:07:47.557116Z"
    }
   },
   "outputs": [
    {
     "data": {
      "text/plain": [
       "tensor([0., 1., 2., 3.])"
      ]
     },
     "execution_count": 25,
     "metadata": {},
     "output_type": "execute_result"
    }
   ],
   "source": [
    "# float32\n",
    "tensor.float()"
   ]
  },
  {
   "cell_type": "code",
   "execution_count": 26,
   "id": "7b2e1580",
   "metadata": {
    "ExecuteTime": {
     "end_time": "2021-07-15T17:07:47.582051Z",
     "start_time": "2021-07-15T17:07:47.573068Z"
    }
   },
   "outputs": [
    {
     "data": {
      "text/plain": [
       "tensor([0., 1., 2., 3.], dtype=torch.float64)"
      ]
     },
     "execution_count": 26,
     "metadata": {},
     "output_type": "execute_result"
    }
   ],
   "source": [
    "# float64\n",
    "tensor.double()"
   ]
  },
  {
   "cell_type": "markdown",
   "id": "70524e2f",
   "metadata": {},
   "source": [
    "# Numpy array to Tensor"
   ]
  },
  {
   "cell_type": "code",
   "execution_count": 27,
   "id": "cf8711b8",
   "metadata": {
    "ExecuteTime": {
     "end_time": "2021-07-15T17:07:47.598015Z",
     "start_time": "2021-07-15T17:07:47.587029Z"
    }
   },
   "outputs": [
    {
     "data": {
      "text/plain": [
       "array([[1, 2, 3],\n",
       "       [4, 5, 6]])"
      ]
     },
     "execution_count": 27,
     "metadata": {},
     "output_type": "execute_result"
    }
   ],
   "source": [
    "np_array = np.array([[1,2,3], [4,5,6]])\n",
    "np_array"
   ]
  },
  {
   "cell_type": "code",
   "execution_count": 28,
   "id": "78d50c6a",
   "metadata": {
    "ExecuteTime": {
     "end_time": "2021-07-15T17:07:47.613960Z",
     "start_time": "2021-07-15T17:07:47.604135Z"
    }
   },
   "outputs": [
    {
     "data": {
      "text/plain": [
       "tensor([[1, 2, 3],\n",
       "        [4, 5, 6]], dtype=torch.int32)"
      ]
     },
     "execution_count": 28,
     "metadata": {},
     "output_type": "execute_result"
    }
   ],
   "source": [
    "tensor = torch.from_numpy(np_array)\n",
    "tensor"
   ]
  },
  {
   "cell_type": "code",
   "execution_count": 29,
   "id": "00f1dfa9",
   "metadata": {
    "ExecuteTime": {
     "end_time": "2021-07-15T17:07:47.643882Z",
     "start_time": "2021-07-15T17:07:47.619942Z"
    }
   },
   "outputs": [
    {
     "data": {
      "text/plain": [
       "array([[1, 2, 3],\n",
       "       [4, 5, 6]])"
      ]
     },
     "execution_count": 29,
     "metadata": {},
     "output_type": "execute_result"
    }
   ],
   "source": [
    "# to get np_array back from tensor\n",
    "np_array_back = tensor.numpy()\n",
    "np_array_back"
   ]
  },
  {
   "cell_type": "markdown",
   "id": "8e8cc68d",
   "metadata": {},
   "source": [
    "# Tensor math & comparision operators"
   ]
  },
  {
   "cell_type": "code",
   "execution_count": 30,
   "id": "3c72dad0",
   "metadata": {
    "ExecuteTime": {
     "end_time": "2021-07-15T17:07:47.659835Z",
     "start_time": "2021-07-15T17:07:47.645872Z"
    }
   },
   "outputs": [],
   "source": [
    "x = torch.tensor([1,2,3])\n",
    "y = torch.tensor([4,5,6])"
   ]
  },
  {
   "cell_type": "code",
   "execution_count": 31,
   "id": "c61eff27",
   "metadata": {
    "ExecuteTime": {
     "end_time": "2021-07-15T17:07:47.675368Z",
     "start_time": "2021-07-15T17:07:47.661829Z"
    }
   },
   "outputs": [
    {
     "data": {
      "text/plain": [
       "tensor([5, 7, 9])"
      ]
     },
     "execution_count": 31,
     "metadata": {},
     "output_type": "execute_result"
    }
   ],
   "source": [
    "# add\n",
    "z = torch.add(x,y)\n",
    "z"
   ]
  },
  {
   "cell_type": "code",
   "execution_count": 32,
   "id": "81736617",
   "metadata": {
    "ExecuteTime": {
     "end_time": "2021-07-15T17:07:47.691326Z",
     "start_time": "2021-07-15T17:07:47.678361Z"
    }
   },
   "outputs": [
    {
     "data": {
      "text/plain": [
       "tensor([5, 7, 9])"
      ]
     },
     "execution_count": 32,
     "metadata": {},
     "output_type": "execute_result"
    }
   ],
   "source": [
    "# or we can use\n",
    "z = x + y\n",
    "z"
   ]
  },
  {
   "cell_type": "code",
   "execution_count": 33,
   "id": "f2387847",
   "metadata": {
    "ExecuteTime": {
     "end_time": "2021-07-15T17:07:47.707063Z",
     "start_time": "2021-07-15T17:07:47.693112Z"
    }
   },
   "outputs": [
    {
     "data": {
      "text/plain": [
       "tensor([-3, -3, -3])"
      ]
     },
     "execution_count": 33,
     "metadata": {},
     "output_type": "execute_result"
    }
   ],
   "source": [
    "# subtractabs\n",
    "z = x - y\n",
    "z"
   ]
  },
  {
   "cell_type": "code",
   "execution_count": 34,
   "id": "4ed4e76a",
   "metadata": {
    "ExecuteTime": {
     "end_time": "2021-07-15T17:07:47.722022Z",
     "start_time": "2021-07-15T17:07:47.712065Z"
    }
   },
   "outputs": [
    {
     "data": {
      "text/plain": [
       "tensor([0.2500, 0.4000, 0.5000])"
      ]
     },
     "execution_count": 34,
     "metadata": {},
     "output_type": "execute_result"
    }
   ],
   "source": [
    "# division \n",
    "z = torch.true_divide(x, y)\n",
    "z"
   ]
  },
  {
   "cell_type": "markdown",
   "id": "aa34eac9",
   "metadata": {},
   "source": [
    "## Inplace operations"
   ]
  },
  {
   "cell_type": "code",
   "execution_count": 35,
   "id": "e1e811da",
   "metadata": {
    "ExecuteTime": {
     "end_time": "2021-07-15T17:07:47.751948Z",
     "start_time": "2021-07-15T17:07:47.724032Z"
    }
   },
   "outputs": [
    {
     "data": {
      "text/plain": [
       "tensor([0.1245, 0.2446, 0.9012])"
      ]
     },
     "execution_count": 35,
     "metadata": {},
     "output_type": "execute_result"
    }
   ],
   "source": [
    "# inplace op's are used when we don't want to create another variable\n",
    "t = torch.rand(3)\n",
    "t"
   ]
  },
  {
   "cell_type": "code",
   "execution_count": 36,
   "id": "df9eab4c",
   "metadata": {
    "ExecuteTime": {
     "end_time": "2021-07-15T17:07:47.767905Z",
     "start_time": "2021-07-15T17:07:47.753943Z"
    }
   },
   "outputs": [
    {
     "data": {
      "text/plain": [
       "tensor([1.1245, 2.2446, 3.9012])"
      ]
     },
     "execution_count": 36,
     "metadata": {},
     "output_type": "execute_result"
    }
   ],
   "source": [
    "#inplace addition\n",
    "t.add_(x)"
   ]
  },
  {
   "cell_type": "code",
   "execution_count": 37,
   "id": "739c0e8c",
   "metadata": {
    "ExecuteTime": {
     "end_time": "2021-07-15T17:07:47.783867Z",
     "start_time": "2021-07-15T17:07:47.769900Z"
    }
   },
   "outputs": [
    {
     "data": {
      "text/plain": [
       "tensor([2.1245, 4.2446, 6.9012])"
      ]
     },
     "execution_count": 37,
     "metadata": {},
     "output_type": "execute_result"
    }
   ],
   "source": [
    "# or use\n",
    "t += x\n",
    "t"
   ]
  },
  {
   "cell_type": "code",
   "execution_count": 38,
   "id": "cdf05be0",
   "metadata": {
    "ExecuteTime": {
     "end_time": "2021-07-15T17:07:47.799841Z",
     "start_time": "2021-07-15T17:07:47.787861Z"
    }
   },
   "outputs": [
    {
     "data": {
      "text/plain": [
       "tensor([1, 4, 9])"
      ]
     },
     "execution_count": 38,
     "metadata": {},
     "output_type": "execute_result"
    }
   ],
   "source": [
    "# exponentiation element wise\n",
    "# z = x.pow(2)\n",
    "z = x**2\n",
    "z"
   ]
  },
  {
   "cell_type": "code",
   "execution_count": 39,
   "id": "5138f11b",
   "metadata": {
    "ExecuteTime": {
     "end_time": "2021-07-15T17:07:47.815223Z",
     "start_time": "2021-07-15T17:07:47.801814Z"
    }
   },
   "outputs": [
    {
     "data": {
      "text/plain": [
       "tensor([True, True, True])"
      ]
     },
     "execution_count": 39,
     "metadata": {},
     "output_type": "execute_result"
    }
   ],
   "source": [
    "# comparision\n",
    "z = x>0\n",
    "z"
   ]
  },
  {
   "cell_type": "code",
   "execution_count": 40,
   "id": "eb8639a0",
   "metadata": {
    "ExecuteTime": {
     "end_time": "2021-07-15T17:07:47.831178Z",
     "start_time": "2021-07-15T17:07:47.820213Z"
    }
   },
   "outputs": [
    {
     "data": {
      "text/plain": [
       "tensor([False, False, False])"
      ]
     },
     "execution_count": 40,
     "metadata": {},
     "output_type": "execute_result"
    }
   ],
   "source": [
    "z = x<0\n",
    "z"
   ]
  },
  {
   "cell_type": "code",
   "execution_count": 41,
   "id": "df358f94",
   "metadata": {
    "ExecuteTime": {
     "end_time": "2021-07-15T17:07:47.846010Z",
     "start_time": "2021-07-15T17:07:47.836038Z"
    }
   },
   "outputs": [
    {
     "data": {
      "text/plain": [
       "1"
      ]
     },
     "execution_count": 41,
     "metadata": {},
     "output_type": "execute_result"
    }
   ],
   "source": [
    "z.ndimension()"
   ]
  },
  {
   "cell_type": "code",
   "execution_count": 42,
   "id": "6e67ff7f",
   "metadata": {
    "ExecuteTime": {
     "end_time": "2021-07-15T17:07:47.860970Z",
     "start_time": "2021-07-15T17:07:47.849999Z"
    }
   },
   "outputs": [
    {
     "data": {
      "text/plain": [
       "3"
      ]
     },
     "execution_count": 42,
     "metadata": {},
     "output_type": "execute_result"
    }
   ],
   "source": [
    "z.numel()"
   ]
  },
  {
   "cell_type": "markdown",
   "id": "04006a11",
   "metadata": {},
   "source": [
    "## Matrix multiplication"
   ]
  },
  {
   "cell_type": "code",
   "execution_count": 43,
   "id": "19be524c",
   "metadata": {
    "ExecuteTime": {
     "end_time": "2021-07-15T17:07:47.876838Z",
     "start_time": "2021-07-15T17:07:47.862965Z"
    }
   },
   "outputs": [],
   "source": [
    "x1 = torch.rand((3,5))\n",
    "x2 = torch.rand((5,2))"
   ]
  },
  {
   "cell_type": "code",
   "execution_count": 44,
   "id": "8683bbe2",
   "metadata": {
    "ExecuteTime": {
     "end_time": "2021-07-15T17:07:47.892795Z",
     "start_time": "2021-07-15T17:07:47.878835Z"
    }
   },
   "outputs": [
    {
     "data": {
      "text/plain": [
       "tensor([[0.4885, 0.5602, 0.1821, 0.8378, 0.4549],\n",
       "        [0.9817, 0.1293, 0.7340, 0.2408, 0.8649],\n",
       "        [0.3109, 0.1089, 0.5132, 0.1219, 0.8087]])"
      ]
     },
     "execution_count": 44,
     "metadata": {},
     "output_type": "execute_result"
    }
   ],
   "source": [
    "x1"
   ]
  },
  {
   "cell_type": "code",
   "execution_count": 45,
   "id": "0b8d0b82",
   "metadata": {
    "ExecuteTime": {
     "end_time": "2021-07-15T17:07:47.908052Z",
     "start_time": "2021-07-15T17:07:47.894790Z"
    }
   },
   "outputs": [
    {
     "data": {
      "text/plain": [
       "tensor([[0.7422, 0.5717],\n",
       "        [0.2140, 0.4516],\n",
       "        [0.3124, 0.9656],\n",
       "        [0.3467, 0.8931],\n",
       "        [0.8765, 0.5565]])"
      ]
     },
     "execution_count": 45,
     "metadata": {},
     "output_type": "execute_result"
    }
   ],
   "source": [
    "x2"
   ]
  },
  {
   "cell_type": "code",
   "execution_count": 46,
   "id": "d996ffbb",
   "metadata": {
    "ExecuteTime": {
     "end_time": "2021-07-15T17:07:47.923913Z",
     "start_time": "2021-07-15T17:07:47.910045Z"
    }
   },
   "outputs": [
    {
     "data": {
      "text/plain": [
       "tensor([[1.2286, 1.7095],\n",
       "        [1.8272, 2.0248],\n",
       "        [1.1655, 1.2813]])"
      ]
     },
     "execution_count": 46,
     "metadata": {},
     "output_type": "execute_result"
    }
   ],
   "source": [
    "x3 = torch.mm(x1, x2)\n",
    "x3"
   ]
  },
  {
   "cell_type": "code",
   "execution_count": 47,
   "id": "2dcef03f",
   "metadata": {
    "ExecuteTime": {
     "end_time": "2021-07-15T17:07:47.938858Z",
     "start_time": "2021-07-15T17:07:47.925891Z"
    }
   },
   "outputs": [
    {
     "data": {
      "text/plain": [
       "tensor([[1.2286, 1.7095],\n",
       "        [1.8272, 2.0248],\n",
       "        [1.1655, 1.2813]])"
      ]
     },
     "execution_count": 47,
     "metadata": {},
     "output_type": "execute_result"
    }
   ],
   "source": [
    "x3 = x1.mm(x2)\n",
    "x3"
   ]
  },
  {
   "cell_type": "code",
   "execution_count": 48,
   "id": "33d4e958",
   "metadata": {
    "ExecuteTime": {
     "end_time": "2021-07-15T17:07:47.969773Z",
     "start_time": "2021-07-15T17:07:47.941849Z"
    }
   },
   "outputs": [
    {
     "data": {
      "text/plain": [
       "tensor([[25., 25., 25., 25., 25.],\n",
       "        [25., 25., 25., 25., 25.],\n",
       "        [25., 25., 25., 25., 25.],\n",
       "        [25., 25., 25., 25., 25.],\n",
       "        [25., 25., 25., 25., 25.]])"
      ]
     },
     "execution_count": 48,
     "metadata": {},
     "output_type": "execute_result"
    }
   ],
   "source": [
    "# matrix exponentiation\n",
    "\n",
    "matrix_exp = torch.ones((5,5))\n",
    "\n",
    "# (matrix_exp).mm((matrix_exp).mm(matrix_exp))\n",
    "matrix_exp.matrix_power(3)"
   ]
  },
  {
   "cell_type": "code",
   "execution_count": 49,
   "id": "9d4fb7ea",
   "metadata": {
    "ExecuteTime": {
     "end_time": "2021-07-15T17:07:47.984736Z",
     "start_time": "2021-07-15T17:07:47.972765Z"
    }
   },
   "outputs": [
    {
     "data": {
      "text/plain": [
       "tensor([ 4, 10, 18])"
      ]
     },
     "execution_count": 49,
     "metadata": {},
     "output_type": "execute_result"
    }
   ],
   "source": [
    "# element wise multiplication\n",
    "z = x * y\n",
    "z"
   ]
  },
  {
   "cell_type": "code",
   "execution_count": 50,
   "id": "3b31e3be",
   "metadata": {
    "ExecuteTime": {
     "end_time": "2021-07-15T17:07:48.001765Z",
     "start_time": "2021-07-15T17:07:47.986254Z"
    }
   },
   "outputs": [
    {
     "data": {
      "text/plain": [
       "tensor(32)"
      ]
     },
     "execution_count": 50,
     "metadata": {},
     "output_type": "execute_result"
    }
   ],
   "source": [
    "# dot product =  sum (element wise multiplication)\n",
    "z =  torch.dot(x, y)\n",
    "z"
   ]
  },
  {
   "cell_type": "markdown",
   "id": "4f37fb90",
   "metadata": {},
   "source": [
    "## Batch matrix multiplication"
   ]
  },
  {
   "cell_type": "code",
   "execution_count": 51,
   "id": "f5a28f79",
   "metadata": {
    "ExecuteTime": {
     "end_time": "2021-07-15T17:07:48.016734Z",
     "start_time": "2021-07-15T17:07:48.003753Z"
    }
   },
   "outputs": [],
   "source": [
    "batch = 32\n",
    "n = 10\n",
    "m = 20\n",
    "p = 30"
   ]
  },
  {
   "cell_type": "code",
   "execution_count": 52,
   "id": "f0f67487",
   "metadata": {
    "ExecuteTime": {
     "end_time": "2021-07-15T17:07:48.032354Z",
     "start_time": "2021-07-15T17:07:48.018714Z"
    }
   },
   "outputs": [],
   "source": [
    "tensor1 = torch.rand((batch, n, m))\n",
    "tensor2 = torch.rand((batch, m ,p))"
   ]
  },
  {
   "cell_type": "code",
   "execution_count": 53,
   "id": "3d6514f4",
   "metadata": {
    "ExecuteTime": {
     "end_time": "2021-07-15T17:07:48.047922Z",
     "start_time": "2021-07-15T17:07:48.033964Z"
    }
   },
   "outputs": [],
   "source": [
    "out_bmm = torch.bmm(tensor1, tensor2) # batch,n,p"
   ]
  },
  {
   "cell_type": "markdown",
   "id": "c4f62877",
   "metadata": {
    "ExecuteTime": {
     "end_time": "2021-07-15T10:33:07.511691Z",
     "start_time": "2021-07-15T10:33:07.490865Z"
    }
   },
   "source": [
    "# Broadcasting"
   ]
  },
  {
   "cell_type": "code",
   "execution_count": 54,
   "id": "4fca823d",
   "metadata": {
    "ExecuteTime": {
     "end_time": "2021-07-15T17:07:48.062881Z",
     "start_time": "2021-07-15T17:07:48.052907Z"
    }
   },
   "outputs": [
    {
     "data": {
      "text/plain": [
       "tensor([[-0.6131, -0.4426, -0.6187, -0.3248, -0.9416],\n",
       "        [-0.4181, -0.1684,  0.1891, -0.4086,  0.2783],\n",
       "        [ 0.0140, -0.4488, -0.1368, -0.1389, -0.6542],\n",
       "        [-0.5919, -0.6611,  0.1339, -0.5112, -0.4803],\n",
       "        [ 0.5561,  0.0773,  0.2776,  0.6071,  0.6325]])"
      ]
     },
     "execution_count": 54,
     "metadata": {},
     "output_type": "execute_result"
    }
   ],
   "source": [
    "x1 = torch.rand((5,5))\n",
    "x2 = torch.rand((5,1))\n",
    "\n",
    "# x2 is a column vector, it's broadcasted to the shape of x1\n",
    "# ==> x2 = [x2, x2, x2, x2, x2]\n",
    "z = x1 - x2\n",
    "z"
   ]
  },
  {
   "cell_type": "code",
   "execution_count": 55,
   "id": "a8b5e333",
   "metadata": {
    "ExecuteTime": {
     "end_time": "2021-07-15T17:07:48.094799Z",
     "start_time": "2021-07-15T17:07:48.065873Z"
    }
   },
   "outputs": [
    {
     "data": {
      "text/plain": [
       "tensor([[0.3857, 0.5561, 0.3801, 0.6738, 0.0568],\n",
       "        [0.3410, 0.5942, 0.8542, 0.3530, 0.9100],\n",
       "        [0.7902, 0.3805, 0.6693, 0.6675, 0.1162],\n",
       "        [0.3051, 0.2300, 0.9716, 0.3883, 0.4192],\n",
       "        [0.9476, 0.7920, 0.8745, 0.9583, 0.9634]])"
      ]
     },
     "execution_count": 55,
     "metadata": {},
     "output_type": "execute_result"
    }
   ],
   "source": [
    "z = x1 ** x2\n",
    "z"
   ]
  },
  {
   "cell_type": "markdown",
   "id": "5576833f",
   "metadata": {},
   "source": [
    "# other useful tensor operations"
   ]
  },
  {
   "cell_type": "code",
   "execution_count": 56,
   "id": "dc989464",
   "metadata": {
    "ExecuteTime": {
     "end_time": "2021-07-15T17:07:48.109756Z",
     "start_time": "2021-07-15T17:07:48.098793Z"
    }
   },
   "outputs": [
    {
     "data": {
      "text/plain": [
       "tensor([[1, 2, 4],\n",
       "        [8, 5, 6],\n",
       "        [7, 8, 9]])"
      ]
     },
     "execution_count": 56,
     "metadata": {},
     "output_type": "execute_result"
    }
   ],
   "source": [
    "x = torch.tensor([[1,2,4],[8,5,6],[7,8,9]])\n",
    "x"
   ]
  },
  {
   "cell_type": "code",
   "execution_count": 57,
   "id": "656b956e",
   "metadata": {
    "ExecuteTime": {
     "end_time": "2021-07-15T17:07:48.124633Z",
     "start_time": "2021-07-15T17:07:48.111751Z"
    }
   },
   "outputs": [
    {
     "data": {
      "text/plain": [
       "tensor([16, 15, 19])"
      ]
     },
     "execution_count": 57,
     "metadata": {},
     "output_type": "execute_result"
    }
   ],
   "source": [
    "column_sum = torch.sum(x, dim=0)\n",
    "column_sum"
   ]
  },
  {
   "cell_type": "code",
   "execution_count": 58,
   "id": "754ee348",
   "metadata": {
    "ExecuteTime": {
     "end_time": "2021-07-15T17:07:48.140591Z",
     "start_time": "2021-07-15T17:07:48.127625Z"
    }
   },
   "outputs": [
    {
     "data": {
      "text/plain": [
       "tensor([ 7, 19, 24])"
      ]
     },
     "execution_count": 58,
     "metadata": {},
     "output_type": "execute_result"
    }
   ],
   "source": [
    "row_sum = torch.sum(x, dim=1)\n",
    "row_sum"
   ]
  },
  {
   "cell_type": "code",
   "execution_count": 59,
   "id": "c9f8e538",
   "metadata": {
    "ExecuteTime": {
     "end_time": "2021-07-15T17:07:48.155871Z",
     "start_time": "2021-07-15T17:07:48.142584Z"
    }
   },
   "outputs": [
    {
     "data": {
      "text/plain": [
       "(tensor([8, 8, 9]), tensor([1, 2, 2]))"
      ]
     },
     "execution_count": 59,
     "metadata": {},
     "output_type": "execute_result"
    }
   ],
   "source": [
    "values, indices = torch.max(x, dim=0)\n",
    "values, indices"
   ]
  },
  {
   "cell_type": "code",
   "execution_count": 60,
   "id": "b8847654",
   "metadata": {
    "ExecuteTime": {
     "end_time": "2021-07-15T17:07:48.170831Z",
     "start_time": "2021-07-15T17:07:48.157867Z"
    }
   },
   "outputs": [
    {
     "data": {
      "text/plain": [
       "(tensor([1, 2, 4]), tensor([0, 0, 0]))"
      ]
     },
     "execution_count": 60,
     "metadata": {},
     "output_type": "execute_result"
    }
   ],
   "source": [
    "values, indices = torch.min(x, dim=0)\n",
    "values, indices"
   ]
  },
  {
   "cell_type": "code",
   "execution_count": 61,
   "id": "062148ac",
   "metadata": {
    "ExecuteTime": {
     "end_time": "2021-07-15T17:07:48.195765Z",
     "start_time": "2021-07-15T17:07:48.173824Z"
    }
   },
   "outputs": [
    {
     "data": {
      "text/plain": [
       "tensor([-3.0000, -2.5556, -2.1111, -1.6667, -1.2222, -0.7778, -0.3333,  0.1111,\n",
       "         0.5556,  1.0000])"
      ]
     },
     "execution_count": 61,
     "metadata": {},
     "output_type": "execute_result"
    }
   ],
   "source": [
    "x = torch.linspace(-3, 1, 10)\n",
    "x"
   ]
  },
  {
   "cell_type": "code",
   "execution_count": 62,
   "id": "f06756f3",
   "metadata": {
    "ExecuteTime": {
     "end_time": "2021-07-15T17:07:48.218704Z",
     "start_time": "2021-07-15T17:07:48.203753Z"
    }
   },
   "outputs": [
    {
     "data": {
      "text/plain": [
       "tensor([3.0000, 2.5556, 2.1111, 1.6667, 1.2222, 0.7778, 0.3333, 0.1111, 0.5556,\n",
       "        1.0000])"
      ]
     },
     "execution_count": 62,
     "metadata": {},
     "output_type": "execute_result"
    }
   ],
   "source": [
    "abs_x = torch.abs(x)\n",
    "abs_x"
   ]
  },
  {
   "cell_type": "code",
   "execution_count": 63,
   "id": "ba5767c9",
   "metadata": {
    "ExecuteTime": {
     "end_time": "2021-07-15T17:07:48.234661Z",
     "start_time": "2021-07-15T17:07:48.220698Z"
    }
   },
   "outputs": [
    {
     "data": {
      "text/plain": [
       "tensor(9)"
      ]
     },
     "execution_count": 63,
     "metadata": {},
     "output_type": "execute_result"
    }
   ],
   "source": [
    "z = torch.argmax(x, dim=0)\n",
    "z"
   ]
  },
  {
   "cell_type": "code",
   "execution_count": 64,
   "id": "39c62752",
   "metadata": {
    "ExecuteTime": {
     "end_time": "2021-07-15T17:07:48.249569Z",
     "start_time": "2021-07-15T17:07:48.237654Z"
    }
   },
   "outputs": [
    {
     "data": {
      "text/plain": [
       "tensor(0)"
      ]
     },
     "execution_count": 64,
     "metadata": {},
     "output_type": "execute_result"
    }
   ],
   "source": [
    "z = torch.argmin(x, dim=0)\n",
    "z"
   ]
  },
  {
   "cell_type": "code",
   "execution_count": 65,
   "id": "215a3f02",
   "metadata": {
    "ExecuteTime": {
     "end_time": "2021-07-15T17:07:48.266529Z",
     "start_time": "2021-07-15T17:07:48.252558Z"
    }
   },
   "outputs": [
    {
     "data": {
      "text/plain": [
       "tensor(-1.)"
      ]
     },
     "execution_count": 65,
     "metadata": {},
     "output_type": "execute_result"
    }
   ],
   "source": [
    "# mean requires data to be of type float\n",
    "mean_x = torch.mean(x.float())\n",
    "mean_x"
   ]
  },
  {
   "cell_type": "code",
   "execution_count": 66,
   "id": "5b87b9fc",
   "metadata": {
    "ExecuteTime": {
     "end_time": "2021-07-15T17:07:48.296667Z",
     "start_time": "2021-07-15T17:07:48.273503Z"
    }
   },
   "outputs": [
    {
     "data": {
      "text/plain": [
       "tensor([[0.4957],\n",
       "        [0.4903],\n",
       "        [0.1372],\n",
       "        [0.4224],\n",
       "        [0.0210]])"
      ]
     },
     "execution_count": 66,
     "metadata": {},
     "output_type": "execute_result"
    }
   ],
   "source": [
    "# sorting\n",
    "y = torch.rand((5,1))\n",
    "y"
   ]
  },
  {
   "cell_type": "code",
   "execution_count": 67,
   "id": "c7ba0444",
   "metadata": {
    "ExecuteTime": {
     "end_time": "2021-07-15T17:07:48.327589Z",
     "start_time": "2021-07-15T17:07:48.306641Z"
    }
   },
   "outputs": [
    {
     "data": {
      "text/plain": [
       "(tensor([[0.0210],\n",
       "         [0.1372],\n",
       "         [0.4224],\n",
       "         [0.4903],\n",
       "         [0.4957]]),\n",
       " tensor([[4],\n",
       "         [2],\n",
       "         [3],\n",
       "         [1],\n",
       "         [0]]))"
      ]
     },
     "execution_count": 67,
     "metadata": {},
     "output_type": "execute_result"
    }
   ],
   "source": [
    "sorted_y, indices = torch.sort(y, dim=0, descending=False)\n",
    "sorted_y, indices"
   ]
  },
  {
   "cell_type": "code",
   "execution_count": 68,
   "id": "ce388ab9",
   "metadata": {
    "ExecuteTime": {
     "end_time": "2021-07-15T17:07:48.342546Z",
     "start_time": "2021-07-15T17:07:48.333569Z"
    }
   },
   "outputs": [],
   "source": [
    "tensor = torch.tensor([-1,-2,-5,0,1,4,3,6,10,19])"
   ]
  },
  {
   "cell_type": "code",
   "execution_count": 69,
   "id": "ddaad766",
   "metadata": {
    "ExecuteTime": {
     "end_time": "2021-07-15T17:07:48.357627Z",
     "start_time": "2021-07-15T17:07:48.347536Z"
    }
   },
   "outputs": [
    {
     "data": {
      "text/plain": [
       "tensor([0, 0, 0, 0, 1, 4, 3, 5, 5, 5])"
      ]
     },
     "execution_count": 69,
     "metadata": {},
     "output_type": "execute_result"
    }
   ],
   "source": [
    "# anything < 0 becomes 0 and > 5 becomes 5\n",
    "tensor = torch.clamp(tensor, min=0, max=5)\n",
    "tensor"
   ]
  },
  {
   "cell_type": "markdown",
   "id": "c0a17541",
   "metadata": {},
   "source": [
    "# any & all\n"
   ]
  },
  {
   "cell_type": "code",
   "execution_count": 70,
   "id": "b53de945",
   "metadata": {
    "ExecuteTime": {
     "end_time": "2021-07-15T17:07:48.373382Z",
     "start_time": "2021-07-15T17:07:48.359621Z"
    }
   },
   "outputs": [],
   "source": [
    "# indicates true or false\n",
    "x = torch.tensor([1,0,1,1,0], dtype=torch.bool)"
   ]
  },
  {
   "cell_type": "code",
   "execution_count": 71,
   "id": "09d19db2",
   "metadata": {
    "ExecuteTime": {
     "end_time": "2021-07-15T17:07:48.389188Z",
     "start_time": "2021-07-15T17:07:48.375364Z"
    }
   },
   "outputs": [
    {
     "data": {
      "text/plain": [
       "tensor(True)"
      ]
     },
     "execution_count": 71,
     "metadata": {},
     "output_type": "execute_result"
    }
   ],
   "source": [
    "# returns true if any one is true\n",
    "z = torch.any(x)\n",
    "z"
   ]
  },
  {
   "cell_type": "code",
   "execution_count": 72,
   "id": "87248513",
   "metadata": {
    "ExecuteTime": {
     "end_time": "2021-07-15T17:07:48.404893Z",
     "start_time": "2021-07-15T17:07:48.391185Z"
    }
   },
   "outputs": [
    {
     "data": {
      "text/plain": [
       "tensor(False)"
      ]
     },
     "execution_count": 72,
     "metadata": {},
     "output_type": "execute_result"
    }
   ],
   "source": [
    "# returns true only if all are true\n",
    "z = torch.all(x)\n",
    "z"
   ]
  },
  {
   "cell_type": "markdown",
   "id": "50e0c89c",
   "metadata": {},
   "source": [
    "# Concatenation"
   ]
  },
  {
   "cell_type": "code",
   "execution_count": 73,
   "id": "ad539b4d",
   "metadata": {
    "ExecuteTime": {
     "end_time": "2021-07-15T17:07:48.420644Z",
     "start_time": "2021-07-15T17:07:48.406561Z"
    }
   },
   "outputs": [],
   "source": [
    "x1 = torch.rand((2,5))\n",
    "x2 = torch.rand((2,5))"
   ]
  },
  {
   "cell_type": "code",
   "execution_count": 74,
   "id": "0c77c4a0",
   "metadata": {
    "ExecuteTime": {
     "end_time": "2021-07-15T17:07:48.436187Z",
     "start_time": "2021-07-15T17:07:48.421643Z"
    }
   },
   "outputs": [
    {
     "data": {
      "text/plain": [
       "torch.Size([4, 5])"
      ]
     },
     "execution_count": 74,
     "metadata": {},
     "output_type": "execute_result"
    }
   ],
   "source": [
    "# concatenation\n",
    "torch.cat((x1, x2), dim=0).shape"
   ]
  },
  {
   "cell_type": "code",
   "execution_count": 75,
   "id": "1e8b07c6",
   "metadata": {
    "ExecuteTime": {
     "end_time": "2021-07-15T17:07:48.452145Z",
     "start_time": "2021-07-15T17:07:48.437185Z"
    }
   },
   "outputs": [
    {
     "data": {
      "text/plain": [
       "torch.Size([2, 10])"
      ]
     },
     "execution_count": 75,
     "metadata": {},
     "output_type": "execute_result"
    }
   ],
   "source": [
    "torch.cat((x1, x2), dim=1).shape"
   ]
  },
  {
   "cell_type": "code",
   "execution_count": 76,
   "id": "3394a09d",
   "metadata": {
    "ExecuteTime": {
     "end_time": "2021-07-15T17:07:48.467112Z",
     "start_time": "2021-07-15T17:07:48.453142Z"
    }
   },
   "outputs": [
    {
     "data": {
      "text/plain": [
       "tensor([0.3571, 0.2181, 0.8800, 0.9664, 0.3417, 0.7617, 0.1713, 0.4226, 0.6423,\n",
       "        0.7085])"
      ]
     },
     "execution_count": 76,
     "metadata": {},
     "output_type": "execute_result"
    }
   ],
   "source": [
    "# flatten\n",
    "z = x1.view(-1)\n",
    "z"
   ]
  },
  {
   "cell_type": "code",
   "execution_count": 77,
   "id": "111e662b",
   "metadata": {
    "ExecuteTime": {
     "end_time": "2021-07-15T17:07:48.482990Z",
     "start_time": "2021-07-15T17:07:48.469100Z"
    }
   },
   "outputs": [],
   "source": [
    "batch = 64\n",
    "x = torch.rand((batch, 2, 5))"
   ]
  },
  {
   "cell_type": "code",
   "execution_count": 78,
   "id": "dfa62493",
   "metadata": {
    "ExecuteTime": {
     "end_time": "2021-07-15T17:07:48.498874Z",
     "start_time": "2021-07-15T17:07:48.486393Z"
    }
   },
   "outputs": [],
   "source": [
    "# we need batch to remain same but change 2, 5 to flatten\n",
    "z = x.view((batch, -1))"
   ]
  },
  {
   "cell_type": "code",
   "execution_count": 79,
   "id": "c620b33e",
   "metadata": {
    "ExecuteTime": {
     "end_time": "2021-07-15T17:07:48.514714Z",
     "start_time": "2021-07-15T17:07:48.499872Z"
    }
   },
   "outputs": [
    {
     "name": "stdout",
     "output_type": "stream",
     "text": [
      "torch.Size([64, 10])\n",
      "torch.Size([64, 5, 2])\n"
     ]
    }
   ],
   "source": [
    "#we need batch to remain same but change 2, 5 to 5, 2\n",
    "\n",
    "# dim 0 stays in place\n",
    "# dim 1 now has 2\n",
    "# dim 2 now has 1\n",
    "print(z.shape)\n",
    "z = x.permute(0,2,1)\n",
    "print(z.shape)"
   ]
  },
  {
   "cell_type": "code",
   "execution_count": 80,
   "id": "21e2ea3b",
   "metadata": {
    "ExecuteTime": {
     "end_time": "2021-07-15T17:07:48.530290Z",
     "start_time": "2021-07-15T17:07:48.519692Z"
    }
   },
   "outputs": [],
   "source": [
    "x = torch.arange(10)"
   ]
  }
 ],
 "metadata": {
  "kernelspec": {
   "display_name": "pytorch",
   "language": "python",
   "name": "deeplearning"
  },
  "language_info": {
   "codemirror_mode": {
    "name": "ipython",
    "version": 3
   },
   "file_extension": ".py",
   "mimetype": "text/x-python",
   "name": "python",
   "nbconvert_exporter": "python",
   "pygments_lexer": "ipython3",
   "version": "3.9.4"
  }
 },
 "nbformat": 4,
 "nbformat_minor": 5
}
