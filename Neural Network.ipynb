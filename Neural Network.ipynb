{
 "cells": [
  {
   "cell_type": "markdown",
   "id": "47af8e66",
   "metadata": {},
   "source": [
    "# Imports"
   ]
  },
  {
   "cell_type": "code",
   "execution_count": 1,
   "id": "f3e43edd",
   "metadata": {
    "ExecuteTime": {
     "end_time": "2021-07-16T10:50:31.416981Z",
     "start_time": "2021-07-16T10:50:30.433103Z"
    }
   },
   "outputs": [],
   "source": [
    "import torch\n",
    "import torch.nn as nn # all nn modules\n",
    "import torch.optim as optim # optimization algorithms\n",
    "import torch.nn.functional as F # activation functions like relu, tanh (all functions with no parameters)\n",
    "from torch.utils.data import DataLoader # helps with daata\n",
    "import torchvision.datasets as datasets # has many data sets\n",
    "import torchvision.transforms as transforms"
   ]
  },
  {
   "cell_type": "markdown",
   "id": "80c66ac1",
   "metadata": {},
   "source": [
    "# Create a fully connected NN"
   ]
  },
  {
   "cell_type": "code",
   "execution_count": 2,
   "id": "08086c08",
   "metadata": {
    "ExecuteTime": {
     "end_time": "2021-07-16T10:50:31.432478Z",
     "start_time": "2021-07-16T10:50:31.418920Z"
    }
   },
   "outputs": [],
   "source": [
    "# inherits from the nn module\n",
    "# Our first linear layer take input_size, in this case 784 nodes to 50\n",
    "# and our second linear layer takes 50 to the num_classes we have, in this case 10.\n",
    "class NN(nn.Module):\n",
    "    def __init__(self, input_size, num_classes):\n",
    "        super(NN, self).__init__()\n",
    "        self.fc1 = nn.Linear(input_size, 50)\n",
    "        self.fc2 = nn.Linear(50, num_classes)\n",
    "    \n",
    "    # create a forward function\n",
    "    def forward(self, x):\n",
    "        x = F.relu(self.fc1(x))\n",
    "        x = self.fc2(x)\n",
    "        \n",
    "        return x"
   ]
  },
  {
   "cell_type": "code",
   "execution_count": 3,
   "id": "52a6caa6",
   "metadata": {
    "ExecuteTime": {
     "end_time": "2021-07-16T10:50:31.479505Z",
     "start_time": "2021-07-16T10:50:31.441446Z"
    }
   },
   "outputs": [
    {
     "data": {
      "text/plain": [
       "torch.Size([64, 10])"
      ]
     },
     "execution_count": 3,
     "metadata": {},
     "output_type": "execute_result"
    }
   ],
   "source": [
    "# 28*28 images passes as 784\n",
    "# 10 for no of digits\n",
    "model = NN(784, 10)\n",
    "# 64 = no of examples (images) mini batch size\n",
    "x = torch.rand((64, 784))\n",
    "model(x).shape"
   ]
  },
  {
   "cell_type": "code",
   "execution_count": 4,
   "id": "cc237643",
   "metadata": {
    "ExecuteTime": {
     "end_time": "2021-07-16T10:50:31.789731Z",
     "start_time": "2021-07-16T10:50:31.482497Z"
    }
   },
   "outputs": [
    {
     "data": {
      "text/plain": [
       "device(type='cuda')"
      ]
     },
     "execution_count": 4,
     "metadata": {},
     "output_type": "execute_result"
    }
   ],
   "source": [
    "# set device\n",
    "device = torch.device(\"cuda\" if torch.cuda.is_available() else \"cpu\")\n",
    "device"
   ]
  },
  {
   "cell_type": "markdown",
   "id": "44f2519a",
   "metadata": {},
   "source": [
    "# Hyperparameters"
   ]
  },
  {
   "cell_type": "code",
   "execution_count": 5,
   "id": "449f52d7",
   "metadata": {
    "ExecuteTime": {
     "end_time": "2021-07-16T10:50:31.804929Z",
     "start_time": "2021-07-16T10:50:31.791568Z"
    }
   },
   "outputs": [],
   "source": [
    "input_size = 784\n",
    "num_classes = 10\n",
    "learning_rate = 0.001\n",
    "batch_size = 64\n",
    "epochs = 1"
   ]
  },
  {
   "cell_type": "markdown",
   "id": "398e4343",
   "metadata": {},
   "source": [
    "# Load dataset"
   ]
  },
  {
   "cell_type": "code",
   "execution_count": 6,
   "id": "65529476",
   "metadata": {
    "ExecuteTime": {
     "end_time": "2021-07-16T10:50:31.882763Z",
     "start_time": "2021-07-16T10:50:31.810915Z"
    }
   },
   "outputs": [
    {
     "name": "stderr",
     "output_type": "stream",
     "text": [
      "A:\\Anacond\\envs\\deeplearning\\lib\\site-packages\\torchvision\\datasets\\mnist.py:498: UserWarning: The given NumPy array is not writeable, and PyTorch does not support non-writeable tensors. This means you can write to the underlying (supposedly non-writeable) NumPy array using the tensor. You may want to copy the array to protect its data or make it writeable before converting it to a tensor. This type of warning will be suppressed for the rest of this program. (Triggered internally at  ..\\torch\\csrc\\utils\\tensor_numpy.cpp:180.)\n",
      "  return torch.from_numpy(parsed.astype(m[2], copy=False)).view(*s)\n"
     ]
    }
   ],
   "source": [
    "train_data = datasets.MNIST(root = \"data/\", train=True, transform=transforms.ToTensor(), download=True)\n",
    "train_loader = DataLoader(dataset=train_data, batch_size = batch_size, shuffle=True)"
   ]
  },
  {
   "cell_type": "code",
   "execution_count": 7,
   "id": "3f389edf",
   "metadata": {
    "ExecuteTime": {
     "end_time": "2021-07-16T10:50:31.914662Z",
     "start_time": "2021-07-16T10:50:31.885739Z"
    }
   },
   "outputs": [],
   "source": [
    "test_data = datasets.MNIST(root = \"data/\", train=False, transform=transforms.ToTensor(), download=True)\n",
    "test_loader = DataLoader(dataset=test_data, batch_size = batch_size, shuffle=True)"
   ]
  },
  {
   "cell_type": "markdown",
   "id": "14a7abd3",
   "metadata": {},
   "source": [
    "# Initialize the network"
   ]
  },
  {
   "cell_type": "code",
   "execution_count": 8,
   "id": "a88f6a03",
   "metadata": {
    "ExecuteTime": {
     "end_time": "2021-07-16T10:50:34.116150Z",
     "start_time": "2021-07-16T10:50:31.918651Z"
    }
   },
   "outputs": [],
   "source": [
    "model = NN(input_size = input_size, num_classes = num_classes).to(device)"
   ]
  },
  {
   "cell_type": "markdown",
   "id": "f8a6a03d",
   "metadata": {},
   "source": [
    "# Loss & optimizer"
   ]
  },
  {
   "cell_type": "code",
   "execution_count": 9,
   "id": "94bff568",
   "metadata": {
    "ExecuteTime": {
     "end_time": "2021-07-16T10:50:34.131545Z",
     "start_time": "2021-07-16T10:50:34.116975Z"
    }
   },
   "outputs": [],
   "source": [
    "criterion = nn.CrossEntropyLoss()\n",
    "optimizer = optim.Adam(model.parameters(), lr=learning_rate)"
   ]
  },
  {
   "cell_type": "markdown",
   "id": "606a21fd",
   "metadata": {},
   "source": [
    "# Train the network"
   ]
  },
  {
   "cell_type": "code",
   "execution_count": 10,
   "id": "030bdea9",
   "metadata": {
    "ExecuteTime": {
     "end_time": "2021-07-16T10:50:40.862173Z",
     "start_time": "2021-07-16T10:50:34.133525Z"
    }
   },
   "outputs": [],
   "source": [
    "for epoch in range(epochs):\n",
    "    for batch_index, (data, targets) in enumerate(train_loader):\n",
    "        \n",
    "        # get data to cuda if possible\n",
    "        \n",
    "        data = data.to(device = device)\n",
    "        targets = targets.to(device = device)\n",
    "        \n",
    "        # data has shape (64, 1, 28, 28)\n",
    "        # 64 training examples\n",
    "        # 1 as we are using gray scale images\n",
    "        # 28 * 28 height, width\n",
    "        \n",
    "        # we need to reshape this to (65, 784)\n",
    "        \n",
    "        data = data.reshape(data.shape[0], -1)\n",
    "        \n",
    "        # forward\n",
    "        \n",
    "        score = model(data)\n",
    "        loss = criterion(score, targets)\n",
    "        \n",
    "        # backward\n",
    "        # set gradients to zero for each batch, so it does not store back prop calculation from previous forward props\n",
    "        optimizer.zero_grad()\n",
    "        loss.backward()\n",
    "        \n",
    "        # gradient descent\n",
    "        optimizer.step()"
   ]
  },
  {
   "cell_type": "markdown",
   "id": "f8909f93",
   "metadata": {},
   "source": [
    "# check accuracy of model"
   ]
  },
  {
   "cell_type": "code",
   "execution_count": 11,
   "id": "5d73794e",
   "metadata": {
    "ExecuteTime": {
     "end_time": "2021-07-16T10:50:40.877130Z",
     "start_time": "2021-07-16T10:50:40.863164Z"
    }
   },
   "outputs": [],
   "source": [
    "def check_accuracy(loader, model):\n",
    "    if loader.dataset.train:\n",
    "        print(\"checking accuracy on training data\")\n",
    "    else:\n",
    "        print(\"checking accuracy on testing data\")\n",
    "\n",
    "    num_correct = 0\n",
    "    num_samples = 0\n",
    "    model.eval()\n",
    "    \n",
    "    with torch.no_grad():\n",
    "        for x, y in loader:\n",
    "            x = x.to(device=device)\n",
    "            y = y.to(device=device)\n",
    "\n",
    "            x = x.reshape(x.shape[0], -1)\n",
    "\n",
    "            scores = model(x)\n",
    "            _, predictions = scores.max(1)\n",
    "\n",
    "            num_correct += (predictions == y).sum()\n",
    "            num_samples += predictions.size(0)\n",
    "\n",
    "\n",
    "        print(f\"Got {num_correct}/{num_samples} with accuracy {float(num_correct)/float(num_samples)*100:.2f}\")\n",
    "            "
   ]
  },
  {
   "cell_type": "code",
   "execution_count": 12,
   "id": "9d872fa8",
   "metadata": {
    "ExecuteTime": {
     "end_time": "2021-07-16T10:50:46.454297Z",
     "start_time": "2021-07-16T10:50:40.879122Z"
    }
   },
   "outputs": [
    {
     "name": "stdout",
     "output_type": "stream",
     "text": [
      "checking accuracy on training data\n",
      "Got 55870/60000 with accuracy 93.12\n"
     ]
    }
   ],
   "source": [
    "check_accuracy(train_loader, model)"
   ]
  },
  {
   "cell_type": "code",
   "execution_count": 13,
   "id": "ab513e50",
   "metadata": {
    "ExecuteTime": {
     "end_time": "2021-07-16T10:50:47.403758Z",
     "start_time": "2021-07-16T10:50:46.455327Z"
    }
   },
   "outputs": [
    {
     "name": "stdout",
     "output_type": "stream",
     "text": [
      "checking accuracy on testing data\n",
      "Got 9301/10000 with accuracy 93.01\n"
     ]
    }
   ],
   "source": [
    "check_accuracy(test_loader, model)"
   ]
  },
  {
   "cell_type": "code",
   "execution_count": null,
   "id": "f2456718",
   "metadata": {},
   "outputs": [],
   "source": []
  }
 ],
 "metadata": {
  "kernelspec": {
   "display_name": "pytorch",
   "language": "python",
   "name": "deeplearning"
  },
  "language_info": {
   "codemirror_mode": {
    "name": "ipython",
    "version": 3
   },
   "file_extension": ".py",
   "mimetype": "text/x-python",
   "name": "python",
   "nbconvert_exporter": "python",
   "pygments_lexer": "ipython3",
   "version": "3.9.5"
  }
 },
 "nbformat": 4,
 "nbformat_minor": 5
}
