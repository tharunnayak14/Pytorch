{
 "cells": [
  {
   "cell_type": "markdown",
   "id": "47af8e66",
   "metadata": {},
   "source": [
    "# Imports"
   ]
  },
  {
   "cell_type": "code",
   "execution_count": 1,
   "id": "f3e43edd",
   "metadata": {
    "ExecuteTime": {
     "end_time": "2021-07-17T11:15:59.244561Z",
     "start_time": "2021-07-17T11:15:57.941969Z"
    }
   },
   "outputs": [],
   "source": [
    "import torch\n",
    "import torch.nn as nn # all nn modules\n",
    "import torch.optim as optim # optimization algorithms\n",
    "import torch.nn.functional as F # activation functions like relu, tanh (all functions with no parameters)\n",
    "from torch.utils.data import DataLoader # helps with daata\n",
    "import torchvision.datasets as datasets # has many data sets\n",
    "import torchvision.transforms as transforms\n",
    "import matplotlib.pyplot as plt"
   ]
  },
  {
   "cell_type": "markdown",
   "id": "80c66ac1",
   "metadata": {},
   "source": [
    "# Create a fully connected NN"
   ]
  },
  {
   "cell_type": "code",
   "execution_count": 2,
   "id": "08086c08",
   "metadata": {
    "ExecuteTime": {
     "end_time": "2021-07-17T11:15:59.260573Z",
     "start_time": "2021-07-17T11:15:59.246555Z"
    }
   },
   "outputs": [],
   "source": [
    "# inherits from the nn module\n",
    "# Our first linear layer take input_size, in this case 784 nodes to 512\n",
    "# and our second linear layer takes 512 to the num_classes we have, in this case 10.\n",
    "class NN(nn.Module):\n",
    "    def __init__(self, input_size, num_classes):\n",
    "        super(NN, self).__init__()\n",
    "        # input layer\n",
    "        self.fc1 = nn.Linear(input_size, 512)\n",
    "        # self.fc2 = nn.Linear(512, 512)\n",
    "        self.fc3 = nn.Linear(512, num_classes)\n",
    "    \n",
    "    # create a forward function\n",
    "    def forward(self, x):\n",
    "        x = F.relu(self.fc1(x))\n",
    "        # x = F.relu(self.fc2(x))\n",
    "        x = self.fc3(x)\n",
    "        \n",
    "        return x"
   ]
  },
  {
   "cell_type": "code",
   "execution_count": 3,
   "id": "52a6caa6",
   "metadata": {
    "ExecuteTime": {
     "end_time": "2021-07-17T11:15:59.292483Z",
     "start_time": "2021-07-17T11:15:59.263562Z"
    }
   },
   "outputs": [
    {
     "data": {
      "text/plain": [
       "torch.Size([64, 10])"
      ]
     },
     "execution_count": 3,
     "metadata": {},
     "output_type": "execute_result"
    }
   ],
   "source": [
    "# 28*28 images passes as 784\n",
    "# 10 for no of digits\n",
    "model = NN(784, 10)\n",
    "# 64 = no of examples (images) mini batch size\n",
    "x = torch.rand((64, 784))\n",
    "model(x).shape"
   ]
  },
  {
   "cell_type": "code",
   "execution_count": 4,
   "id": "cc237643",
   "metadata": {
    "ExecuteTime": {
     "end_time": "2021-07-17T11:15:59.339358Z",
     "start_time": "2021-07-17T11:15:59.296475Z"
    }
   },
   "outputs": [
    {
     "data": {
      "text/plain": [
       "device(type='cuda')"
      ]
     },
     "execution_count": 4,
     "metadata": {},
     "output_type": "execute_result"
    }
   ],
   "source": [
    "# set device\n",
    "device = torch.device(\"cuda\" if torch.cuda.is_available() else \"cpu\")\n",
    "device"
   ]
  },
  {
   "cell_type": "markdown",
   "id": "44f2519a",
   "metadata": {},
   "source": [
    "# Hyperparameters"
   ]
  },
  {
   "cell_type": "code",
   "execution_count": 5,
   "id": "449f52d7",
   "metadata": {
    "ExecuteTime": {
     "end_time": "2021-07-17T11:15:59.355314Z",
     "start_time": "2021-07-17T11:15:59.340355Z"
    }
   },
   "outputs": [],
   "source": [
    "input_size = 784\n",
    "num_classes = 10\n",
    "learning_rate = 0.001\n",
    "# how many data examples we pass in one iteration\n",
    "batch_size = 64\n",
    "epochs = 3"
   ]
  },
  {
   "cell_type": "markdown",
   "id": "398e4343",
   "metadata": {},
   "source": [
    "# Load dataset"
   ]
  },
  {
   "cell_type": "code",
   "execution_count": 6,
   "id": "65529476",
   "metadata": {
    "ExecuteTime": {
     "end_time": "2021-07-17T11:15:59.512773Z",
     "start_time": "2021-07-17T11:15:59.356312Z"
    }
   },
   "outputs": [
    {
     "name": "stderr",
     "output_type": "stream",
     "text": [
      "A:\\Anacond\\envs\\deeplearning\\lib\\site-packages\\torchvision\\datasets\\mnist.py:498: UserWarning: The given NumPy array is not writeable, and PyTorch does not support non-writeable tensors. This means you can write to the underlying (supposedly non-writeable) NumPy array using the tensor. You may want to copy the array to protect its data or make it writeable before converting it to a tensor. This type of warning will be suppressed for the rest of this program. (Triggered internally at  ..\\torch\\csrc\\utils\\tensor_numpy.cpp:180.)\n",
      "  return torch.from_numpy(parsed.astype(m[2], copy=False)).view(*s)\n"
     ]
    }
   ],
   "source": [
    "train_data = datasets.MNIST(root = \"data/\", train=True, transform=transforms.ToTensor())\n",
    "# We pass the Dataset as an argument to DataLoader\n",
    "# This wraps an iterable over our dataset, and supports automatic batching, sampling, shuffling and multiprocess data loading\n",
    "# Here we define a batch size of 64, i.e. each element in the dataloader iterable will return a batch of 64 features and labels\n",
    "train_loader = DataLoader(dataset=train_data, batch_size = batch_size, shuffle=True)"
   ]
  },
  {
   "cell_type": "code",
   "execution_count": 7,
   "id": "3f389edf",
   "metadata": {
    "ExecuteTime": {
     "end_time": "2021-07-17T11:15:59.560612Z",
     "start_time": "2021-07-17T11:15:59.514735Z"
    }
   },
   "outputs": [],
   "source": [
    "test_data = datasets.MNIST(root = \"data/\", train=False, transform=transforms.ToTensor())\n",
    "test_loader = DataLoader(dataset=test_data, batch_size = batch_size, shuffle=True)"
   ]
  },
  {
   "cell_type": "code",
   "execution_count": 8,
   "id": "aa8e5e6f",
   "metadata": {
    "ExecuteTime": {
     "end_time": "2021-07-17T11:15:59.576570Z",
     "start_time": "2021-07-17T11:15:59.561609Z"
    }
   },
   "outputs": [
    {
     "name": "stdout",
     "output_type": "stream",
     "text": [
      "Shape of X [N, C, H, W]:  torch.Size([64, 1, 28, 28])\n",
      "Shape of y:  torch.Size([64]) torch.int64\n"
     ]
    }
   ],
   "source": [
    "for X, y in test_loader:\n",
    "    print(\"Shape of X [N, C, H, W]: \", X.shape)\n",
    "    print(\"Shape of y: \", y.shape, y.dtype)\n",
    "    break"
   ]
  },
  {
   "cell_type": "markdown",
   "id": "14a7abd3",
   "metadata": {},
   "source": [
    "# Initialize the network"
   ]
  },
  {
   "cell_type": "code",
   "execution_count": 9,
   "id": "a88f6a03",
   "metadata": {
    "ExecuteTime": {
     "end_time": "2021-07-17T11:16:01.263839Z",
     "start_time": "2021-07-17T11:15:59.577567Z"
    }
   },
   "outputs": [],
   "source": [
    "model = NN(input_size = input_size, num_classes = num_classes).to(device)"
   ]
  },
  {
   "cell_type": "markdown",
   "id": "f8a6a03d",
   "metadata": {},
   "source": [
    "# Loss & optimizer"
   ]
  },
  {
   "cell_type": "code",
   "execution_count": 10,
   "id": "94bff568",
   "metadata": {
    "ExecuteTime": {
     "end_time": "2021-07-17T11:16:01.279822Z",
     "start_time": "2021-07-17T11:16:01.264810Z"
    }
   },
   "outputs": [],
   "source": [
    "loss_fn = nn.CrossEntropyLoss()\n",
    "optimizer = optim.Adam(model.parameters(), lr=learning_rate)"
   ]
  },
  {
   "cell_type": "markdown",
   "id": "606a21fd",
   "metadata": {},
   "source": [
    "# Train the network"
   ]
  },
  {
   "cell_type": "code",
   "execution_count": 11,
   "id": "0a9d8a7f",
   "metadata": {
    "ExecuteTime": {
     "end_time": "2021-07-17T11:16:01.294997Z",
     "start_time": "2021-07-17T11:16:01.281765Z"
    }
   },
   "outputs": [],
   "source": [
    "def train(dataloader, model, loss_fn, optimizer):\n",
    "    size = len(dataloader.dataset)\n",
    "    for batch, (X, y) in enumerate(dataloader):\n",
    "        X, y = X.to(device), y.to(device)\n",
    "        \n",
    "        # X has shape (64, 1, 28, 28)\n",
    "        # 64 training examples\n",
    "        # 1 as we are using gray scale images\n",
    "        # 28 * 28 height, width        \n",
    "        # we need to reshape this to (64, 784)\n",
    "        \n",
    "        X = X.reshape(X.shape[0],-1)\n",
    "\n",
    "        # Compute prediction error\n",
    "        pred = model(X)\n",
    "        loss = loss_fn(pred, y)\n",
    "\n",
    "        # Backpropagation\n",
    "        # set gradients to zero for each batch, so it does not store back prop calculation from previous forward props\n",
    "        optimizer.zero_grad()\n",
    "        loss.backward()\n",
    "        \n",
    "        # Gradient step\n",
    "        optimizer.step()\n",
    "\n",
    "        if batch % 100 == 0:\n",
    "            # print(f\"batch: {batch}, len:{len(X)}, current: {batch*len(X)}\")\n",
    "            loss, current = loss.item(), batch * len(X)\n",
    "            print(f\"loss: {loss:>7f}  [{current:>5d}/{size:>5d}]\")"
   ]
  },
  {
   "cell_type": "code",
   "execution_count": 12,
   "id": "d1ecde31",
   "metadata": {
    "ExecuteTime": {
     "end_time": "2021-07-17T11:16:01.310416Z",
     "start_time": "2021-07-17T11:16:01.295968Z"
    }
   },
   "outputs": [],
   "source": [
    "def test(dataloader, model, loss_fn):\n",
    "    size = len(dataloader.dataset)\n",
    "    \n",
    "    num_batches = len(dataloader)\n",
    "    \n",
    "    model.eval()\n",
    "    test_loss, correct = 0, 0\n",
    "    \n",
    "    with torch.no_grad():\n",
    "        for X, y in dataloader:\n",
    "            X, y = X.to(device), y.to(device)\n",
    "            X = X.reshape(X.shape[0],-1)\n",
    "            pred = model(X)\n",
    "            test_loss += loss_fn(pred, y).item()\n",
    "            correct += (pred.argmax(1) == y).type(torch.float).sum().item()\n",
    "            \n",
    "    test_loss /= num_batches\n",
    "    correct /= size\n",
    "    print(f\"Test Error: \\n Accuracy: {(100*correct):>0.1f}%, Avg loss: {test_loss:>8f} \\n\")"
   ]
  },
  {
   "cell_type": "code",
   "execution_count": 13,
   "id": "94af5a99",
   "metadata": {
    "ExecuteTime": {
     "end_time": "2021-07-17T11:16:27.010621Z",
     "start_time": "2021-07-17T11:16:01.311270Z"
    }
   },
   "outputs": [
    {
     "name": "stdout",
     "output_type": "stream",
     "text": [
      "Epoch 1\n",
      "-------------------------------\n",
      "loss: 2.289479  [    0/60000]\n",
      "loss: 0.478678  [ 6400/60000]\n",
      "loss: 0.266408  [12800/60000]\n",
      "loss: 0.251128  [19200/60000]\n",
      "loss: 0.238137  [25600/60000]\n",
      "loss: 0.169743  [32000/60000]\n",
      "loss: 0.076256  [38400/60000]\n",
      "loss: 0.158224  [44800/60000]\n",
      "loss: 0.194065  [51200/60000]\n",
      "loss: 0.122357  [57600/60000]\n",
      "Test Error: \n",
      " Accuracy: 96.1%, Avg loss: 0.130064 \n",
      "\n",
      "Epoch 2\n",
      "-------------------------------\n",
      "loss: 0.064512  [    0/60000]\n",
      "loss: 0.228716  [ 6400/60000]\n",
      "loss: 0.024169  [12800/60000]\n",
      "loss: 0.099922  [19200/60000]\n",
      "loss: 0.153369  [25600/60000]\n",
      "loss: 0.082167  [32000/60000]\n",
      "loss: 0.172135  [38400/60000]\n",
      "loss: 0.179974  [44800/60000]\n",
      "loss: 0.048316  [51200/60000]\n",
      "loss: 0.038613  [57600/60000]\n",
      "Test Error: \n",
      " Accuracy: 97.3%, Avg loss: 0.084861 \n",
      "\n",
      "Epoch 3\n",
      "-------------------------------\n",
      "loss: 0.094776  [    0/60000]\n",
      "loss: 0.031319  [ 6400/60000]\n",
      "loss: 0.041012  [12800/60000]\n",
      "loss: 0.124402  [19200/60000]\n",
      "loss: 0.036856  [25600/60000]\n",
      "loss: 0.070971  [32000/60000]\n",
      "loss: 0.039424  [38400/60000]\n",
      "loss: 0.089515  [44800/60000]\n",
      "loss: 0.179318  [51200/60000]\n",
      "loss: 0.101017  [57600/60000]\n",
      "Test Error: \n",
      " Accuracy: 97.5%, Avg loss: 0.081698 \n",
      "\n",
      "Done!\n"
     ]
    }
   ],
   "source": [
    "for epoch in range(epochs):\n",
    "    print(f\"Epoch {epoch+1}\\n-------------------------------\")\n",
    "    train(train_loader, model, loss_fn, optimizer)\n",
    "    test(test_loader, model, loss_fn)\n",
    "print(\"Done!\")"
   ]
  }
 ],
 "metadata": {
  "kernelspec": {
   "display_name": "pytorch",
   "language": "python",
   "name": "deeplearning"
  },
  "language_info": {
   "codemirror_mode": {
    "name": "ipython",
    "version": 3
   },
   "file_extension": ".py",
   "mimetype": "text/x-python",
   "name": "python",
   "nbconvert_exporter": "python",
   "pygments_lexer": "ipython3",
   "version": "3.9.5"
  }
 },
 "nbformat": 4,
 "nbformat_minor": 5
}
