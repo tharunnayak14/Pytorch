{
 "cells": [
  {
   "cell_type": "markdown",
   "id": "1ed20c26",
   "metadata": {},
   "source": [
    "# Imports"
   ]
  },
  {
   "cell_type": "code",
   "execution_count": 14,
   "id": "5202cccd",
   "metadata": {
    "ExecuteTime": {
     "end_time": "2021-07-16T09:54:24.372929Z",
     "start_time": "2021-07-16T09:54:24.361985Z"
    }
   },
   "outputs": [],
   "source": [
    "import torch\n",
    "import torch.nn as nn # all nn modules\n",
    "import torch.optim as optim # optimization algorithms\n",
    "import torch.nn.functional as F # activation functions like relu, tanh (all functions with no parameters)\n",
    "from torch.utils.data import DataLoader # helps with daata\n",
    "import torchvision.datasets as datasets # has many data sets\n",
    "import torchvision.transforms as transforms"
   ]
  },
  {
   "cell_type": "markdown",
   "id": "b882d553",
   "metadata": {},
   "source": [
    "# Create a fully connected NN"
   ]
  },
  {
   "cell_type": "code",
   "execution_count": 15,
   "id": "f333ae39",
   "metadata": {
    "ExecuteTime": {
     "end_time": "2021-07-16T09:54:24.387865Z",
     "start_time": "2021-07-16T09:54:24.374899Z"
    }
   },
   "outputs": [],
   "source": [
    "# inherits from the nn module\n",
    "class NN(nn.Module):\n",
    "    def __init__(self, input_size, num_classes):\n",
    "        super(NN, self).__init__()\n",
    "        self.fc1 = nn.Linear(input_size, 50)\n",
    "        self.fc2 = nn.Linear(50, num_classes)\n",
    "    \n",
    "    # create a forward function\n",
    "    def forward(self, x):\n",
    "        x = F.relu(self.fc1(x))\n",
    "        x = self.fc2(x)\n",
    "        \n",
    "        return x"
   ]
  },
  {
   "cell_type": "code",
   "execution_count": 16,
   "id": "5d03d4a0",
   "metadata": {
    "ExecuteTime": {
     "end_time": "2021-07-16T09:54:24.403824Z",
     "start_time": "2021-07-16T09:54:24.389859Z"
    }
   },
   "outputs": [
    {
     "data": {
      "text/plain": [
       "torch.Size([64, 10])"
      ]
     },
     "execution_count": 16,
     "metadata": {},
     "output_type": "execute_result"
    }
   ],
   "source": [
    "# 28*28 images passes as 784\n",
    "# 10 for no of digits\n",
    "model = NN(784, 10)\n",
    "# 64 = no of examples (images) mini batch size\n",
    "x = torch.rand((64, 784))\n",
    "model(x).shape"
   ]
  },
  {
   "cell_type": "code",
   "execution_count": 17,
   "id": "d509ad55",
   "metadata": {
    "ExecuteTime": {
     "end_time": "2021-07-16T09:54:24.419779Z",
     "start_time": "2021-07-16T09:54:24.405817Z"
    }
   },
   "outputs": [
    {
     "data": {
      "text/plain": [
       "device(type='cuda')"
      ]
     },
     "execution_count": 17,
     "metadata": {},
     "output_type": "execute_result"
    }
   ],
   "source": [
    "# set device\n",
    "device = torch.device(\"cuda\" if torch.cuda.is_available() else \"cpu\")\n",
    "device"
   ]
  },
  {
   "cell_type": "markdown",
   "id": "687af3ac",
   "metadata": {},
   "source": [
    "# Hyperparameters"
   ]
  },
  {
   "cell_type": "code",
   "execution_count": 18,
   "id": "9bab09d6",
   "metadata": {
    "ExecuteTime": {
     "end_time": "2021-07-16T09:54:24.435742Z",
     "start_time": "2021-07-16T09:54:24.421774Z"
    }
   },
   "outputs": [],
   "source": [
    "input_size = 784\n",
    "num_classes = 10\n",
    "learning_rate = 0.001\n",
    "batch_size = 64\n",
    "epochs = 1"
   ]
  },
  {
   "cell_type": "markdown",
   "id": "e3e94d21",
   "metadata": {},
   "source": [
    "# Load dataset"
   ]
  },
  {
   "cell_type": "code",
   "execution_count": null,
   "id": "1a105854",
   "metadata": {
    "ExecuteTime": {
     "start_time": "2021-07-16T09:54:24.368Z"
    }
   },
   "outputs": [
    {
     "name": "stdout",
     "output_type": "stream",
     "text": [
      "Downloading http://yann.lecun.com/exdb/mnist/train-images-idx3-ubyte.gz\n",
      "Downloading http://yann.lecun.com/exdb/mnist/train-images-idx3-ubyte.gz to data/MNIST\\raw\\train-images-idx3-ubyte.gz\n"
     ]
    },
    {
     "name": "stderr",
     "output_type": "stream",
     "text": [
      "57.9%"
     ]
    }
   ],
   "source": [
    "train_data = datasets.MNIST(root = \"data/\", train=True, transform=transforms.ToTensor(), download=True)"
   ]
  },
  {
   "cell_type": "code",
   "execution_count": null,
   "id": "5e1ee8ec",
   "metadata": {},
   "outputs": [],
   "source": [
    "train_loader = DataLoader(data=train_data, batch_size = batch_size, shuffle=True)"
   ]
  },
  {
   "cell_type": "code",
   "execution_count": null,
   "id": "c4ac0366",
   "metadata": {},
   "outputs": [],
   "source": [
    "test_data = datasets.MNIST(root = \"data/\", train=False, transform=transforms.ToTensor(), download=True)\n",
    " = DataLoader(data=train_data, batch_size = batch_size, shuffle=True)"
   ]
  }
 ],
 "metadata": {
  "kernelspec": {
   "display_name": "pytorch",
   "language": "python",
   "name": "deeplearning"
  },
  "language_info": {
   "codemirror_mode": {
    "name": "ipython",
    "version": 3
   },
   "file_extension": ".py",
   "mimetype": "text/x-python",
   "name": "python",
   "nbconvert_exporter": "python",
   "pygments_lexer": "ipython3",
   "version": "3.9.5"
  }
 },
 "nbformat": 4,
 "nbformat_minor": 5
}
