{
 "cells": [
  {
   "cell_type": "markdown",
   "id": "47af8e66",
   "metadata": {},
   "source": [
    "# Imports"
   ]
  },
  {
   "cell_type": "code",
   "execution_count": 1,
   "id": "f3e43edd",
   "metadata": {
    "ExecuteTime": {
     "end_time": "2021-07-17T04:56:40.412134Z",
     "start_time": "2021-07-17T04:56:39.162223Z"
    }
   },
   "outputs": [],
   "source": [
    "import torch\n",
    "import torch.nn as nn # all nn modules\n",
    "import torch.optim as optim # optimization algorithms\n",
    "import torch.nn.functional as F # activation functions like relu, tanh (all functions with no parameters)\n",
    "from torch.utils.data import DataLoader # helps with daata\n",
    "import torchvision.datasets as datasets # has many data sets\n",
    "import torchvision.transforms as transforms"
   ]
  },
  {
   "cell_type": "markdown",
   "id": "80c66ac1",
   "metadata": {},
   "source": [
    "# Create a fully connected NN"
   ]
  },
  {
   "cell_type": "code",
   "execution_count": 2,
   "id": "08086c08",
   "metadata": {
    "ExecuteTime": {
     "end_time": "2021-07-17T04:56:40.427086Z",
     "start_time": "2021-07-17T04:56:40.414070Z"
    }
   },
   "outputs": [],
   "source": [
    "# inherits from the nn module\n",
    "# Our first linear layer take input_size, in this case 784 nodes to 512\n",
    "# and our second linear layer takes 512 to the num_classes we have, in this case 10.\n",
    "class NN(nn.Module):\n",
    "    def __init__(self, input_size, num_classes):\n",
    "        super(NN, self).__init__()\n",
    "        # input layer\n",
    "        self.fc1 = nn.Linear(input_size, 512)\n",
    "        # self.fc2 = nn.Linear(512, 512)\n",
    "        self.fc3 = nn.Linear(512, num_classes)\n",
    "    \n",
    "    # create a forward function\n",
    "    def forward(self, x):\n",
    "        x = F.relu(self.fc1(x))\n",
    "        # x = F.relu(self.fc2(x))\n",
    "        x = self.fc3(x)\n",
    "        \n",
    "        return x"
   ]
  },
  {
   "cell_type": "code",
   "execution_count": 3,
   "id": "52a6caa6",
   "metadata": {
    "ExecuteTime": {
     "end_time": "2021-07-17T04:56:40.458581Z",
     "start_time": "2021-07-17T04:56:40.429545Z"
    }
   },
   "outputs": [
    {
     "data": {
      "text/plain": [
       "torch.Size([64, 10])"
      ]
     },
     "execution_count": 3,
     "metadata": {},
     "output_type": "execute_result"
    }
   ],
   "source": [
    "# 28*28 images passes as 784\n",
    "# 10 for no of digits\n",
    "model = NN(784, 10)\n",
    "# 64 = no of examples (images) mini batch size\n",
    "x = torch.rand((64, 784))\n",
    "model(x).shape"
   ]
  },
  {
   "cell_type": "code",
   "execution_count": 4,
   "id": "cc237643",
   "metadata": {
    "ExecuteTime": {
     "end_time": "2021-07-17T04:56:40.757914Z",
     "start_time": "2021-07-17T04:56:40.460576Z"
    }
   },
   "outputs": [
    {
     "data": {
      "text/plain": [
       "device(type='cuda')"
      ]
     },
     "execution_count": 4,
     "metadata": {},
     "output_type": "execute_result"
    }
   ],
   "source": [
    "# set device\n",
    "device = torch.device(\"cuda\" if torch.cuda.is_available() else \"cpu\")\n",
    "device"
   ]
  },
  {
   "cell_type": "markdown",
   "id": "44f2519a",
   "metadata": {},
   "source": [
    "# Hyperparameters"
   ]
  },
  {
   "cell_type": "code",
   "execution_count": 5,
   "id": "449f52d7",
   "metadata": {
    "ExecuteTime": {
     "end_time": "2021-07-17T04:56:40.773871Z",
     "start_time": "2021-07-17T04:56:40.759884Z"
    }
   },
   "outputs": [],
   "source": [
    "input_size = 784\n",
    "num_classes = 10\n",
    "learning_rate = 0.001\n",
    "batch_size = 64\n",
    "epochs = 10"
   ]
  },
  {
   "cell_type": "markdown",
   "id": "398e4343",
   "metadata": {},
   "source": [
    "# Load dataset"
   ]
  },
  {
   "cell_type": "code",
   "execution_count": 6,
   "id": "65529476",
   "metadata": {
    "ExecuteTime": {
     "end_time": "2021-07-17T04:56:40.945928Z",
     "start_time": "2021-07-17T04:56:40.775841Z"
    }
   },
   "outputs": [
    {
     "name": "stderr",
     "output_type": "stream",
     "text": [
      "A:\\Anacond\\envs\\deeplearning\\lib\\site-packages\\torchvision\\datasets\\mnist.py:498: UserWarning: The given NumPy array is not writeable, and PyTorch does not support non-writeable tensors. This means you can write to the underlying (supposedly non-writeable) NumPy array using the tensor. You may want to copy the array to protect its data or make it writeable before converting it to a tensor. This type of warning will be suppressed for the rest of this program. (Triggered internally at  ..\\torch\\csrc\\utils\\tensor_numpy.cpp:180.)\n",
      "  return torch.from_numpy(parsed.astype(m[2], copy=False)).view(*s)\n"
     ]
    }
   ],
   "source": [
    "train_data = datasets.MNIST(root = \"data/\", train=True, transform=transforms.ToTensor())\n",
    "# We pass the Dataset as an argument to DataLoader\n",
    "# This wraps an iterable over our dataset, and supports automatic batching, sampling, shuffling and multiprocess data loading\n",
    "# Here we define a batch size of 64, i.e. each element in the dataloader iterable will return a batch of 64 features and labels\n",
    "train_loader = DataLoader(dataset=train_data, batch_size = batch_size, shuffle=True)"
   ]
  },
  {
   "cell_type": "code",
   "execution_count": 7,
   "id": "7b8a7d54",
   "metadata": {
    "ExecuteTime": {
     "end_time": "2021-07-17T04:56:40.977988Z",
     "start_time": "2021-07-17T04:56:40.948920Z"
    }
   },
   "outputs": [
    {
     "name": "stdout",
     "output_type": "stream",
     "text": [
      "Shape of X [N, C, H, W]:  torch.Size([64, 1, 28, 28])\n",
      "Shape of y:  torch.Size([64]) torch.int64\n"
     ]
    }
   ],
   "source": [
    "for X, y in train_loader:\n",
    "    print(\"Shape of X [N, C, H, W]: \", X.shape)\n",
    "    print(\"Shape of y: \", y.shape, y.dtype)\n",
    "    break"
   ]
  },
  {
   "cell_type": "code",
   "execution_count": 8,
   "id": "3f389edf",
   "metadata": {
    "ExecuteTime": {
     "end_time": "2021-07-17T04:56:41.025031Z",
     "start_time": "2021-07-17T04:56:40.982349Z"
    }
   },
   "outputs": [],
   "source": [
    "test_data = datasets.MNIST(root = \"data/\", train=False, transform=transforms.ToTensor())\n",
    "test_loader = DataLoader(dataset=test_data, batch_size = batch_size, shuffle=True)\n"
   ]
  },
  {
   "cell_type": "code",
   "execution_count": 9,
   "id": "aa8e5e6f",
   "metadata": {
    "ExecuteTime": {
     "end_time": "2021-07-17T04:56:41.040987Z",
     "start_time": "2021-07-17T04:56:41.027025Z"
    }
   },
   "outputs": [
    {
     "name": "stdout",
     "output_type": "stream",
     "text": [
      "Shape of X [N, C, H, W]:  torch.Size([64, 1, 28, 28])\n",
      "Shape of y:  torch.Size([64]) torch.int64\n"
     ]
    }
   ],
   "source": [
    "for X, y in test_loader:\n",
    "    print(\"Shape of X [N, C, H, W]: \", X.shape)\n",
    "    print(\"Shape of y: \", y.shape, y.dtype)\n",
    "    break"
   ]
  },
  {
   "cell_type": "markdown",
   "id": "14a7abd3",
   "metadata": {},
   "source": [
    "# Initialize the network"
   ]
  },
  {
   "cell_type": "code",
   "execution_count": 10,
   "id": "a88f6a03",
   "metadata": {
    "ExecuteTime": {
     "end_time": "2021-07-17T04:56:43.288083Z",
     "start_time": "2021-07-17T04:56:41.044987Z"
    }
   },
   "outputs": [],
   "source": [
    "model = NN(input_size = input_size, num_classes = num_classes).to(device)"
   ]
  },
  {
   "cell_type": "markdown",
   "id": "f8a6a03d",
   "metadata": {},
   "source": [
    "# Loss & optimizer"
   ]
  },
  {
   "cell_type": "code",
   "execution_count": 11,
   "id": "94bff568",
   "metadata": {
    "ExecuteTime": {
     "end_time": "2021-07-17T04:56:43.303207Z",
     "start_time": "2021-07-17T04:56:43.289248Z"
    }
   },
   "outputs": [],
   "source": [
    "loss_fn = nn.CrossEntropyLoss()\n",
    "optimizer = optim.Adam(model.parameters(), lr=learning_rate)"
   ]
  },
  {
   "cell_type": "markdown",
   "id": "606a21fd",
   "metadata": {},
   "source": [
    "# Train the network"
   ]
  },
  {
   "cell_type": "code",
   "execution_count": 12,
   "id": "0a9d8a7f",
   "metadata": {
    "ExecuteTime": {
     "end_time": "2021-07-17T04:56:43.318048Z",
     "start_time": "2021-07-17T04:56:43.304206Z"
    }
   },
   "outputs": [],
   "source": [
    "def train(dataloader, model, loss_fn, optimizer):\n",
    "    size = len(dataloader.dataset)\n",
    "    for batch, (X, y) in enumerate(dataloader):\n",
    "        X, y = X.to(device), y.to(device)\n",
    "        \n",
    "        # X has shape (64, 1, 28, 28)\n",
    "        # 64 training examples\n",
    "        # 1 as we are using gray scale images\n",
    "        # 28 * 28 height, width        \n",
    "        # we need to reshape this to (64, 784)\n",
    "        \n",
    "        X = X.reshape(X.shape[0],-1)\n",
    "\n",
    "        # Compute prediction error\n",
    "        pred = model(X)\n",
    "        loss = loss_fn(pred, y)\n",
    "\n",
    "        # Backpropagation\n",
    "        # set gradients to zero for each batch, so it does not store back prop calculation from previous forward props\n",
    "        optimizer.zero_grad()\n",
    "        loss.backward()\n",
    "        \n",
    "        # Gradient step\n",
    "        optimizer.step()\n",
    "\n",
    "        if batch % 100 == 0:\n",
    "            # print(f\"batch: {batch}, len:{len(X)}, current: {batch*len(X)}\")\n",
    "            loss, current = loss.item(), batch * len(X)\n",
    "            print(f\"loss: {loss:>7f}  [{current:>5d}/{size:>5d}]\")"
   ]
  },
  {
   "cell_type": "code",
   "execution_count": 13,
   "id": "d1ecde31",
   "metadata": {
    "ExecuteTime": {
     "end_time": "2021-07-17T04:56:43.333303Z",
     "start_time": "2021-07-17T04:56:43.318927Z"
    }
   },
   "outputs": [],
   "source": [
    "def test(dataloader, model, loss_fn):\n",
    "    size = len(dataloader.dataset)\n",
    "    \n",
    "    num_batches = len(dataloader)\n",
    "    \n",
    "    model.eval()\n",
    "    test_loss, correct = 0, 0\n",
    "    \n",
    "    with torch.no_grad():\n",
    "        for X, y in dataloader:\n",
    "            X, y = X.to(device), y.to(device)\n",
    "            X = X.reshape(X.shape[0],-1)\n",
    "            pred = model(X)\n",
    "            test_loss += loss_fn(pred, y).item()\n",
    "            correct += (pred.argmax(1) == y).type(torch.float).sum().item()\n",
    "            \n",
    "    test_loss /= num_batches\n",
    "    correct /= size\n",
    "    print(f\"Test Error: \\n Accuracy: {(100*correct):>0.1f}%, Avg loss: {test_loss:>8f} \\n\")"
   ]
  },
  {
   "cell_type": "code",
   "execution_count": 14,
   "id": "94af5a99",
   "metadata": {
    "ExecuteTime": {
     "end_time": "2021-07-17T04:58:15.324950Z",
     "start_time": "2021-07-17T04:56:43.334146Z"
    }
   },
   "outputs": [
    {
     "name": "stdout",
     "output_type": "stream",
     "text": [
      "Epoch 1\n",
      "-------------------------------\n",
      "loss: 2.286546  [    0/60000]\n",
      "loss: 0.285434  [ 6400/60000]\n",
      "loss: 0.263831  [12800/60000]\n",
      "loss: 0.132587  [19200/60000]\n",
      "loss: 0.089945  [25600/60000]\n",
      "loss: 0.249812  [32000/60000]\n",
      "loss: 0.230575  [38400/60000]\n",
      "loss: 0.219589  [44800/60000]\n",
      "loss: 0.133030  [51200/60000]\n",
      "loss: 0.130312  [57600/60000]\n",
      "Test Error: \n",
      " Accuracy: 96.2%, Avg loss: 0.127753 \n",
      "\n",
      "Epoch 2\n",
      "-------------------------------\n",
      "loss: 0.199913  [    0/60000]\n",
      "loss: 0.083474  [ 6400/60000]\n",
      "loss: 0.113412  [12800/60000]\n",
      "loss: 0.104826  [19200/60000]\n",
      "loss: 0.213627  [25600/60000]\n",
      "loss: 0.013812  [32000/60000]\n",
      "loss: 0.221970  [38400/60000]\n",
      "loss: 0.045997  [44800/60000]\n",
      "loss: 0.105359  [51200/60000]\n",
      "loss: 0.112183  [57600/60000]\n",
      "Test Error: \n",
      " Accuracy: 97.4%, Avg loss: 0.085531 \n",
      "\n",
      "Epoch 3\n",
      "-------------------------------\n",
      "loss: 0.102955  [    0/60000]\n",
      "loss: 0.084202  [ 6400/60000]\n",
      "loss: 0.034536  [12800/60000]\n",
      "loss: 0.175359  [19200/60000]\n",
      "loss: 0.066892  [25600/60000]\n",
      "loss: 0.048626  [32000/60000]\n",
      "loss: 0.039323  [38400/60000]\n",
      "loss: 0.090938  [44800/60000]\n",
      "loss: 0.041534  [51200/60000]\n",
      "loss: 0.106274  [57600/60000]\n",
      "Test Error: \n",
      " Accuracy: 97.4%, Avg loss: 0.081831 \n",
      "\n",
      "Epoch 4\n",
      "-------------------------------\n",
      "loss: 0.042408  [    0/60000]\n",
      "loss: 0.108018  [ 6400/60000]\n",
      "loss: 0.048182  [12800/60000]\n",
      "loss: 0.018598  [19200/60000]\n",
      "loss: 0.052011  [25600/60000]\n",
      "loss: 0.008497  [32000/60000]\n",
      "loss: 0.071347  [38400/60000]\n",
      "loss: 0.033706  [44800/60000]\n",
      "loss: 0.156708  [51200/60000]\n",
      "loss: 0.224802  [57600/60000]\n",
      "Test Error: \n",
      " Accuracy: 97.8%, Avg loss: 0.068413 \n",
      "\n",
      "Epoch 5\n",
      "-------------------------------\n",
      "loss: 0.021129  [    0/60000]\n",
      "loss: 0.011917  [ 6400/60000]\n",
      "loss: 0.042729  [12800/60000]\n",
      "loss: 0.028640  [19200/60000]\n",
      "loss: 0.012771  [25600/60000]\n",
      "loss: 0.003534  [32000/60000]\n",
      "loss: 0.068879  [38400/60000]\n",
      "loss: 0.015695  [44800/60000]\n",
      "loss: 0.017409  [51200/60000]\n",
      "loss: 0.013297  [57600/60000]\n",
      "Test Error: \n",
      " Accuracy: 97.7%, Avg loss: 0.079337 \n",
      "\n",
      "Epoch 6\n",
      "-------------------------------\n",
      "loss: 0.006248  [    0/60000]\n",
      "loss: 0.005149  [ 6400/60000]\n",
      "loss: 0.067160  [12800/60000]\n",
      "loss: 0.101116  [19200/60000]\n",
      "loss: 0.005732  [25600/60000]\n",
      "loss: 0.067303  [32000/60000]\n",
      "loss: 0.132562  [38400/60000]\n",
      "loss: 0.047365  [44800/60000]\n",
      "loss: 0.008494  [51200/60000]\n",
      "loss: 0.032293  [57600/60000]\n",
      "Test Error: \n",
      " Accuracy: 97.8%, Avg loss: 0.066892 \n",
      "\n",
      "Epoch 7\n",
      "-------------------------------\n",
      "loss: 0.015708  [    0/60000]\n",
      "loss: 0.040588  [ 6400/60000]\n",
      "loss: 0.003739  [12800/60000]\n",
      "loss: 0.137713  [19200/60000]\n",
      "loss: 0.035126  [25600/60000]\n",
      "loss: 0.012761  [32000/60000]\n",
      "loss: 0.024226  [38400/60000]\n",
      "loss: 0.057385  [44800/60000]\n",
      "loss: 0.014221  [51200/60000]\n",
      "loss: 0.008078  [57600/60000]\n",
      "Test Error: \n",
      " Accuracy: 98.0%, Avg loss: 0.064465 \n",
      "\n",
      "Epoch 8\n",
      "-------------------------------\n",
      "loss: 0.032295  [    0/60000]\n",
      "loss: 0.003112  [ 6400/60000]\n",
      "loss: 0.004056  [12800/60000]\n",
      "loss: 0.002812  [19200/60000]\n",
      "loss: 0.035796  [25600/60000]\n",
      "loss: 0.039613  [32000/60000]\n",
      "loss: 0.001290  [38400/60000]\n",
      "loss: 0.005471  [44800/60000]\n",
      "loss: 0.006324  [51200/60000]\n",
      "loss: 0.023764  [57600/60000]\n",
      "Test Error: \n",
      " Accuracy: 98.0%, Avg loss: 0.068060 \n",
      "\n",
      "Epoch 9\n",
      "-------------------------------\n",
      "loss: 0.015462  [    0/60000]\n",
      "loss: 0.010613  [ 6400/60000]\n",
      "loss: 0.002156  [12800/60000]\n",
      "loss: 0.031992  [19200/60000]\n",
      "loss: 0.000994  [25600/60000]\n",
      "loss: 0.025926  [32000/60000]\n",
      "loss: 0.009268  [38400/60000]\n",
      "loss: 0.050727  [44800/60000]\n",
      "loss: 0.012226  [51200/60000]\n",
      "loss: 0.006577  [57600/60000]\n",
      "Test Error: \n",
      " Accuracy: 97.9%, Avg loss: 0.077905 \n",
      "\n",
      "Epoch 10\n",
      "-------------------------------\n",
      "loss: 0.040362  [    0/60000]\n",
      "loss: 0.001736  [ 6400/60000]\n",
      "loss: 0.002077  [12800/60000]\n",
      "loss: 0.000780  [19200/60000]\n",
      "loss: 0.002815  [25600/60000]\n",
      "loss: 0.004850  [32000/60000]\n",
      "loss: 0.030340  [38400/60000]\n",
      "loss: 0.001088  [44800/60000]\n",
      "loss: 0.018217  [51200/60000]\n",
      "loss: 0.000723  [57600/60000]\n",
      "Test Error: \n",
      " Accuracy: 98.0%, Avg loss: 0.071597 \n",
      "\n",
      "Done!\n"
     ]
    }
   ],
   "source": [
    "for epoch in range(epochs):\n",
    "    print(f\"Epoch {epoch+1}\\n-------------------------------\")\n",
    "    train(train_loader, model, loss_fn, optimizer)\n",
    "    test(test_loader, model, loss_fn)\n",
    "print(\"Done!\")"
   ]
  }
 ],
 "metadata": {
  "kernelspec": {
   "display_name": "pytorch",
   "language": "python",
   "name": "deeplearning"
  },
  "language_info": {
   "codemirror_mode": {
    "name": "ipython",
    "version": 3
   },
   "file_extension": ".py",
   "mimetype": "text/x-python",
   "name": "python",
   "nbconvert_exporter": "python",
   "pygments_lexer": "ipython3",
   "version": "3.9.5"
  }
 },
 "nbformat": 4,
 "nbformat_minor": 5
}
