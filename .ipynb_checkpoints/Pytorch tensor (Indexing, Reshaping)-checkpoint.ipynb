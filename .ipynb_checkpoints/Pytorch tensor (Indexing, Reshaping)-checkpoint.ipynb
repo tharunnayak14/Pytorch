{
 "cells": [
  {
   "cell_type": "markdown",
   "id": "adf9556c",
   "metadata": {},
   "source": [
    "<img src=\"data:image/png;base64,iVBORw0KGgoAAAANSUhEUgAAAOEAAADhCAMAAAAJbSJIAAAAh1BMVEX////uTCzuRyX++PftNQDuUDLuSintQRnuRSH3tKv72tXuSSftPRHtMwDtQhztOADvYEj4v7j608796+ntOgryhXX5y8Xxd2T84+DwZE397+31o5j+9PPzjoDvVzz2qqDyfm30m4/4xL3wa1b3t6/zkoTygXDxcl/vXUP2raP1npL619LwaVPjbM1+AAAHk0lEQVR4nO2daUPiMBCGaWmbAD0EWkBACyorrvv/f98WlRVmgtCSmZbuPF+XbfLmmCOXnY4gCIIgCIIgCIIgCIIgCIIgCIIgCIJAw3JYdw2I6epe3VWgpeuH7VbY9V3VaoWFQKfVCncCW63wQ2CbFX4KbLHCL4HtVbgX2FqF/wS2VeG3wJYqPBDYToWHAlup8EhgGxUeC2yhQiCwfQqhwNYpRALbphALbJlCg8B2KTQJbJVCo8A2KTQLDLx+3RWzxX8q0Pl/BU7yzfplzFrF6ygp8C0MYx2r6PVmNJYUeB9+/cCNnngrWpWSAu/092+iCW9Vq1FS4Fod/irt8la2CiXdRDc6+l38m7e2FSjrB3vq+Icxa20rUNrRZ/r4p0nD7Wl5R/8M/kP4zljd8lSIZJDCRkc9VUK1BzhK52zVLU+lWHQYHv04cLhqW4GKwXZ69Gv1xlPZKlTNJnqHEgOXpa6VqJ4PTr89YhDNGKpajWsS3iwZfP48Vs01pNdl9JOtFyoVpuvmBqVXZ/Tjp95Lk129LFncOqQCuw0IcWh7cOvXb30eNaHAO60frXzoCv6YBNpa+N0t4eg/Vj5VmUwRCyxC1czKxyqSp+QCHSfNrXyuEqPIINDeHNx/MBpZ+WAFliGLwCLxX1r5ZHnuTX6CQKDj3lv5ZmkWpi6kEFh04sLKV0syM01CGoHFVKwjcXwcUAnsIoHOoAbHnxs8oWcnAzKZaMXuMpYeroU1q26S6HHb0xWO1jx7V5qGuP30ytrXL6KPq2DV3hnsNHO++Qe5Qj21WsAUjRGXNQQfJbB864vVxRcBCWfwhqMZ6w4Lu1vOyKaPulDZDzoWyB0lfDNxCruQxCGjkMK1O9V/YI4GEImdw/Y64lqX+h2DkjVNGg53wPnOMcTQzCU08cYSTneucwwT6I3jNVFJazhYQp4TRWjwJFRrml3YiUTTAYKKperCohNRY5IVdQAapB6dhZtDc8oyTOHpCVIvBT2vfiAsbI8GlpS0WeGACTRhYV/M4CKwIi0Ohm4p/YLNCyhTb0iL24A5oV5Ii9sBfUVIm9OMwDBl8Bcwb6O238A30R+agitQ5PE+tKbkK1Jw1JAf03oD8554VqAzvfSnJfuwSakvTkHb5hGX1+mAaUFsu9G0COhX2x+PTRv5xPePy2Mw3sA9BT5xecB4x/TbXguQJBK7J5ixKfrHyYbAtpFlo5+MQVTKkM3A4Dulva8A426Go/XQXRDH3qg4+gsgaNjQNioMaVL6Fcw5VMgb6hOtIx4C1xRF4ZUghQyjlFfhewMsDe2BcOgtGJZNmItEDUq/L4vMN+2wgdO+jqiN2LiBbC2mP8iTg8ibOiMFC1EMa9BgjZ18Ker1OAMe3BGX1+ncHW92u6/E5cFdC/5VDOpR8wZmBbm7gM4ipl7cg9ka+So73EUgz0hhDEW+UIMu7JPHiXAziHbrib+8TmcFVtlT2oS0D6ahuyItbgc0NcRnXODZHXJDgxuV2APDrS7iIfMB3AMmLRO2p5MSFrbnFzBupC4YBhj6F2Fhe2CsT7lEi44MMeQyRanwjAthfgHzCsdjuVIKgm/K83TwjCB52P3JEB6KItu0hNuxTsj0N1zQoUiqOEOhY55EBUGggaPaY4P7ajxnvnbM0EF2ksN76Niek7DdYLtHZ8wpLAC0aM6A7zoCOoDppPZNwBDdomY6IfyBjy60pLbX+JZIIPkO/iHIYdi/0IKv5XC5ik9wJyq7Z6HX6MYMaxcWMxE/NeDZfHz0Cd/+S5lf/jTcVLd4caaPL5Gy31g33OQOQlt7JuMQTYIabnM/wICj8FfajuOfa3xNPOYKZw5Ad4NsSTQJrOVd0wmK3QqJ6vqBOlaGi/5JLQ8Mo9tBu7ZOrt2Dfk/w2OC6DYQIDHVxouuSxZ7pLYogsFTjshhfxnDSa9o7Mz3pU8+rGB/0jPWJ/aoVmvnYQO/arMa/GJEZazSIqmXEi8hgY4oWq/WhKPwKyQfKL39GY+SbXtUqrAz9NvNPdB1jsxc2dVrOb4ynJhu6GxBOzW/SzdFq0RdulF2ucZxFxpf7dqtctb8rOE5PSHS0N71srI6mnnmwFwIZjpWdZXZieO36MXXyczUc5056ov92Ahvx7O4sNM/FjyrGyTY/nVX1821iiG/3DMJGCCy6QZ/shF014zSd5hPYl+NJPk3T+HTjFENAN2CIfrL0T82jfV3jME3812y9yPN8sc5e/SQN45/apUD7dT1EZ+LZ7MuOCFyt4x1au6dH5j8Uzy7MxWwML2NdhUd9g6s0T8mZQVcKN2ngH9WZby8YqReitrX7eSMnIufSVI3cGZhtje99liTcNsQLGumlZ/zGWXSd2eAldB+iazTq6KH+563PMV6djKPP6vNWjYlifmSWRcbc/wxxlDV5Ah4zX4dhOffohuG6mR7iJMPn6Mew+pBBHD2zbg5aYv5256nzU1Ir7+7txrrvm/kwU6ky7EN89Z0u/jUb3qy8L2bDzX2RK6lYu+4gCJwgGLiujlWRT91vhrdjW84wHg0Xm9Xz1g904G+fV5vFcHQbjkEQBEEQBEEQBEEQBEEQBEEQBEEQBOGG+AuV9FvEXEDgcgAAAABJRU5ErkJggg==\" width=100>"
   ]
  },
  {
   "cell_type": "code",
   "execution_count": 1,
   "id": "befeea42",
   "metadata": {
    "ExecuteTime": {
     "end_time": "2021-07-15T17:07:49.360292Z",
     "start_time": "2021-07-15T17:07:48.580105Z"
    }
   },
   "outputs": [],
   "source": [
    "import torch"
   ]
  },
  {
   "cell_type": "code",
   "execution_count": 2,
   "id": "31bbbb9c",
   "metadata": {
    "ExecuteTime": {
     "end_time": "2021-07-15T17:07:49.376250Z",
     "start_time": "2021-07-15T17:07:49.362125Z"
    }
   },
   "outputs": [],
   "source": [
    "batch_size = 10\n",
    "features = 25"
   ]
  },
  {
   "cell_type": "code",
   "execution_count": 3,
   "id": "741141da",
   "metadata": {
    "ExecuteTime": {
     "end_time": "2021-07-15T17:07:49.391634Z",
     "start_time": "2021-07-15T17:07:49.377128Z"
    }
   },
   "outputs": [
    {
     "data": {
      "text/plain": [
       "tensor([[3.8531e-01, 6.7215e-01, 6.9326e-01, 1.4694e-02, 9.4157e-01, 6.3622e-01,\n",
       "         9.8400e-01, 6.1067e-01, 8.5617e-01, 4.1803e-01, 4.2874e-01, 3.9413e-01,\n",
       "         1.4152e-01, 7.6687e-01, 3.5686e-01, 8.7902e-02, 3.4209e-01, 7.5136e-01,\n",
       "         9.4312e-01, 7.3154e-01, 7.1399e-01, 3.8590e-01, 9.1899e-01, 1.0221e-01,\n",
       "         4.8083e-01],\n",
       "        [2.5035e-01, 7.6439e-01, 2.0904e-01, 7.4501e-01, 8.5309e-01, 7.5740e-01,\n",
       "         2.0469e-01, 9.4676e-02, 6.9648e-01, 8.2374e-01, 7.0380e-01, 3.8391e-01,\n",
       "         1.1384e-01, 4.8293e-01, 6.5474e-01, 5.6039e-01, 4.1140e-01, 5.6787e-01,\n",
       "         4.2058e-01, 4.0720e-01, 4.3867e-01, 9.5571e-01, 4.4080e-01, 2.5214e-01,\n",
       "         3.7315e-01],\n",
       "        [8.9360e-01, 9.7444e-01, 4.4927e-01, 2.5881e-02, 1.6346e-01, 2.8631e-01,\n",
       "         2.4200e-02, 8.2721e-01, 7.1308e-01, 4.0692e-01, 8.5669e-01, 7.7855e-01,\n",
       "         5.7784e-01, 5.3718e-01, 5.0990e-01, 6.9651e-01, 6.8402e-01, 7.9202e-01,\n",
       "         1.9579e-01, 7.4413e-01, 3.2341e-01, 9.3983e-01, 6.4636e-01, 2.6911e-01,\n",
       "         3.8090e-01],\n",
       "        [7.4801e-01, 6.3175e-01, 2.2923e-01, 7.9321e-01, 1.1940e-01, 2.6269e-01,\n",
       "         4.8449e-01, 9.4580e-01, 7.5515e-01, 9.6345e-01, 1.1180e-01, 9.9063e-01,\n",
       "         3.1278e-01, 1.7669e-01, 7.0284e-01, 8.5182e-02, 9.0481e-01, 2.7102e-01,\n",
       "         2.1526e-01, 5.7490e-01, 8.1684e-01, 9.9261e-02, 6.7423e-01, 2.4530e-01,\n",
       "         6.8561e-01],\n",
       "        [1.5349e-01, 2.7883e-01, 3.2364e-01, 2.2847e-01, 7.4536e-01, 8.3963e-01,\n",
       "         4.4952e-01, 1.2440e-02, 4.9875e-01, 2.6650e-01, 3.1889e-01, 6.8518e-01,\n",
       "         1.4827e-01, 7.6189e-01, 8.4235e-01, 3.5299e-01, 5.5493e-02, 9.0637e-01,\n",
       "         1.9250e-02, 3.0993e-01, 1.1629e-01, 6.2748e-01, 6.7385e-01, 4.6889e-01,\n",
       "         7.9963e-01],\n",
       "        [5.4191e-01, 4.4640e-01, 5.9208e-01, 2.9321e-01, 9.4500e-01, 5.3076e-01,\n",
       "         7.2639e-01, 2.1708e-01, 8.6970e-01, 4.6644e-01, 9.5536e-01, 2.7513e-01,\n",
       "         1.8184e-01, 3.0535e-02, 6.8988e-01, 3.5243e-01, 2.3224e-02, 1.6563e-01,\n",
       "         1.3741e-01, 1.1706e-01, 1.6540e-01, 5.4579e-01, 2.4356e-01, 4.2898e-01,\n",
       "         8.5649e-01],\n",
       "        [9.0203e-01, 9.5607e-01, 8.9625e-01, 3.5347e-01, 4.1035e-01, 4.1357e-01,\n",
       "         4.8320e-01, 7.3403e-01, 1.1097e-01, 6.5863e-01, 6.0005e-03, 9.5426e-02,\n",
       "         7.9349e-01, 5.6972e-01, 1.3602e-01, 2.4132e-01, 3.0244e-01, 2.2021e-01,\n",
       "         8.9649e-02, 8.5575e-01, 5.1731e-01, 5.3109e-01, 9.9116e-01, 6.6561e-01,\n",
       "         5.4253e-02],\n",
       "        [1.4269e-01, 2.2959e-01, 2.8156e-01, 7.2034e-01, 6.9966e-01, 4.4975e-01,\n",
       "         4.1167e-01, 3.5709e-01, 9.4505e-01, 1.9824e-03, 4.1942e-01, 8.6025e-01,\n",
       "         8.7439e-01, 4.4766e-01, 5.5200e-01, 6.0318e-01, 6.2674e-01, 1.0844e-01,\n",
       "         1.0127e-01, 3.0792e-01, 1.7083e-01, 4.0948e-01, 4.8045e-01, 1.4491e-01,\n",
       "         8.3212e-01],\n",
       "        [3.0755e-01, 5.8605e-01, 2.9813e-01, 1.2652e-01, 2.6714e-01, 6.2053e-01,\n",
       "         5.8083e-01, 1.8318e-01, 8.4895e-01, 3.3707e-01, 5.0923e-01, 4.0041e-01,\n",
       "         7.6451e-01, 4.7417e-01, 8.6380e-01, 6.9665e-01, 7.3680e-01, 8.5497e-01,\n",
       "         7.0469e-01, 2.7560e-01, 6.1777e-01, 6.1985e-01, 9.3682e-02, 6.4042e-01,\n",
       "         1.3765e-02],\n",
       "        [7.9989e-04, 2.8912e-01, 4.9319e-01, 7.5862e-01, 6.5672e-01, 5.2085e-01,\n",
       "         5.8375e-01, 9.3127e-01, 2.4010e-01, 6.9124e-02, 7.2369e-01, 5.5072e-01,\n",
       "         9.4630e-01, 4.3717e-01, 9.4815e-01, 7.7642e-01, 3.3494e-01, 1.8017e-01,\n",
       "         3.5463e-01, 8.0275e-01, 7.9525e-01, 8.9452e-01, 4.8848e-01, 3.0778e-01,\n",
       "         9.6335e-01]])"
      ]
     },
     "execution_count": 3,
     "metadata": {},
     "output_type": "execute_result"
    }
   ],
   "source": [
    "x = torch.rand((batch_size, features))\n",
    "x"
   ]
  },
  {
   "cell_type": "markdown",
   "id": "db58a34b",
   "metadata": {},
   "source": [
    "# Indexing"
   ]
  },
  {
   "cell_type": "code",
   "execution_count": 4,
   "id": "f7090d50",
   "metadata": {
    "ExecuteTime": {
     "end_time": "2021-07-15T17:07:49.407620Z",
     "start_time": "2021-07-15T17:07:49.392628Z"
    }
   },
   "outputs": [
    {
     "data": {
      "text/plain": [
       "torch.Size([10, 25])"
      ]
     },
     "execution_count": 4,
     "metadata": {},
     "output_type": "execute_result"
    }
   ],
   "source": [
    "x.shape"
   ]
  },
  {
   "cell_type": "code",
   "execution_count": 5,
   "id": "48c6ec32",
   "metadata": {
    "ExecuteTime": {
     "end_time": "2021-07-15T17:07:49.423725Z",
     "start_time": "2021-07-15T17:07:49.408473Z"
    }
   },
   "outputs": [
    {
     "data": {
      "text/plain": [
       "tensor([0.3853, 0.6721, 0.6933, 0.0147, 0.9416, 0.6362, 0.9840, 0.6107, 0.8562,\n",
       "        0.4180, 0.4287, 0.3941, 0.1415, 0.7669, 0.3569, 0.0879, 0.3421, 0.7514,\n",
       "        0.9431, 0.7315, 0.7140, 0.3859, 0.9190, 0.1022, 0.4808])"
      ]
     },
     "execution_count": 5,
     "metadata": {},
     "output_type": "execute_result"
    }
   ],
   "source": [
    "x[0]"
   ]
  },
  {
   "cell_type": "code",
   "execution_count": 6,
   "id": "495f2a4d",
   "metadata": {
    "ExecuteTime": {
     "end_time": "2021-07-15T17:07:49.439042Z",
     "start_time": "2021-07-15T17:07:49.424577Z"
    }
   },
   "outputs": [
    {
     "data": {
      "text/plain": [
       "tensor([0.3853, 0.6721, 0.6933, 0.0147, 0.9416, 0.6362, 0.9840, 0.6107, 0.8562,\n",
       "        0.4180, 0.4287, 0.3941, 0.1415, 0.7669, 0.3569, 0.0879, 0.3421, 0.7514,\n",
       "        0.9431, 0.7315, 0.7140, 0.3859, 0.9190, 0.1022, 0.4808])"
      ]
     },
     "execution_count": 6,
     "metadata": {},
     "output_type": "execute_result"
    }
   ],
   "source": [
    "# 1st row\n",
    "x[0, :]"
   ]
  },
  {
   "cell_type": "code",
   "execution_count": 7,
   "id": "a9363e3f",
   "metadata": {
    "ExecuteTime": {
     "end_time": "2021-07-15T17:07:49.455095Z",
     "start_time": "2021-07-15T17:07:49.440897Z"
    }
   },
   "outputs": [
    {
     "data": {
      "text/plain": [
       "torch.Size([25])"
      ]
     },
     "execution_count": 7,
     "metadata": {},
     "output_type": "execute_result"
    }
   ],
   "source": [
    "x[0, :].shape"
   ]
  },
  {
   "cell_type": "code",
   "execution_count": 8,
   "id": "83f4f8c4",
   "metadata": {
    "ExecuteTime": {
     "end_time": "2021-07-15T17:07:49.470468Z",
     "start_time": "2021-07-15T17:07:49.455938Z"
    }
   },
   "outputs": [
    {
     "data": {
      "text/plain": [
       "tensor([3.8531e-01, 2.5035e-01, 8.9360e-01, 7.4801e-01, 1.5349e-01, 5.4191e-01,\n",
       "        9.0203e-01, 1.4269e-01, 3.0755e-01, 7.9989e-04])"
      ]
     },
     "execution_count": 8,
     "metadata": {},
     "output_type": "execute_result"
    }
   ],
   "source": [
    "# 1st column\n",
    "x[: , 0]"
   ]
  },
  {
   "cell_type": "code",
   "execution_count": 9,
   "id": "5e71d547",
   "metadata": {
    "ExecuteTime": {
     "end_time": "2021-07-15T17:07:49.486469Z",
     "start_time": "2021-07-15T17:07:49.471311Z"
    }
   },
   "outputs": [
    {
     "data": {
      "text/plain": [
       "torch.Size([10])"
      ]
     },
     "execution_count": 9,
     "metadata": {},
     "output_type": "execute_result"
    }
   ],
   "source": [
    "x[: , 0].shape"
   ]
  },
  {
   "cell_type": "code",
   "execution_count": 10,
   "id": "ed83ca65",
   "metadata": {
    "ExecuteTime": {
     "end_time": "2021-07-15T17:07:49.502492Z",
     "start_time": "2021-07-15T17:07:49.487506Z"
    }
   },
   "outputs": [
    {
     "data": {
      "text/plain": [
       "tensor([0.8936, 0.9744, 0.4493, 0.0259, 0.1635, 0.2863, 0.0242, 0.8272, 0.7131,\n",
       "        0.4069])"
      ]
     },
     "execution_count": 10,
     "metadata": {},
     "output_type": "execute_result"
    }
   ],
   "source": [
    "# 3rd row, 1st 10 columns\n",
    "# 0:10 --> [0, 1, 2,  ...  ,9]\n",
    "x[2, 0:10]"
   ]
  },
  {
   "cell_type": "markdown",
   "id": "56032cf5",
   "metadata": {},
   "source": [
    "# Fancy Indexing"
   ]
  },
  {
   "cell_type": "code",
   "execution_count": 11,
   "id": "09d1d4bc",
   "metadata": {
    "ExecuteTime": {
     "end_time": "2021-07-15T17:07:49.518209Z",
     "start_time": "2021-07-15T17:07:49.504197Z"
    }
   },
   "outputs": [],
   "source": [
    "x = torch.arange(10)"
   ]
  },
  {
   "cell_type": "code",
   "execution_count": 12,
   "id": "f380924d",
   "metadata": {
    "ExecuteTime": {
     "end_time": "2021-07-15T17:07:49.534032Z",
     "start_time": "2021-07-15T17:07:49.519053Z"
    }
   },
   "outputs": [
    {
     "data": {
      "text/plain": [
       "tensor([2, 5, 8])"
      ]
     },
     "execution_count": 12,
     "metadata": {},
     "output_type": "execute_result"
    }
   ],
   "source": [
    "indices = [2,5,8]\n",
    "x[indices]"
   ]
  },
  {
   "cell_type": "code",
   "execution_count": 13,
   "id": "99dfcd41",
   "metadata": {
    "ExecuteTime": {
     "end_time": "2021-07-15T17:07:49.549989Z",
     "start_time": "2021-07-15T17:07:49.535028Z"
    }
   },
   "outputs": [
    {
     "name": "stdout",
     "output_type": "stream",
     "text": [
      "tensor([0.4555, 0.2093, 0.5715, 0.0199])\n"
     ]
    }
   ],
   "source": [
    "x = torch.rand((3, 5))\n",
    "rows = torch.tensor([1,0,2,1])\n",
    "cols = torch.tensor([4,0,3,1])\n",
    "# (1,4), (0,0), (2,3), (1,1)\n",
    "print(x[rows, cols])"
   ]
  },
  {
   "cell_type": "markdown",
   "id": "aacba524",
   "metadata": {},
   "source": [
    "# More advanced indexing"
   ]
  },
  {
   "cell_type": "code",
   "execution_count": 14,
   "id": "c7559399",
   "metadata": {
    "ExecuteTime": {
     "end_time": "2021-07-15T17:07:49.565988Z",
     "start_time": "2021-07-15T17:07:49.550993Z"
    }
   },
   "outputs": [
    {
     "data": {
      "text/plain": [
       "tensor([0, 1])"
      ]
     },
     "execution_count": 14,
     "metadata": {},
     "output_type": "execute_result"
    }
   ],
   "source": [
    "x = torch.arange(10)\n",
    "x[x<2]"
   ]
  },
  {
   "cell_type": "code",
   "execution_count": 15,
   "id": "07145ce1",
   "metadata": {
    "ExecuteTime": {
     "end_time": "2021-07-15T17:07:49.581942Z",
     "start_time": "2021-07-15T17:07:49.567974Z"
    }
   },
   "outputs": [
    {
     "data": {
      "text/plain": [
       "tensor([9])"
      ]
     },
     "execution_count": 15,
     "metadata": {},
     "output_type": "execute_result"
    }
   ],
   "source": [
    "x[x>8]"
   ]
  },
  {
   "cell_type": "code",
   "execution_count": 16,
   "id": "90934ac1",
   "metadata": {
    "ExecuteTime": {
     "end_time": "2021-07-15T17:07:49.597554Z",
     "start_time": "2021-07-15T17:07:49.583899Z"
    }
   },
   "outputs": [
    {
     "data": {
      "text/plain": [
       "tensor([0, 1, 9])"
      ]
     },
     "execution_count": 16,
     "metadata": {},
     "output_type": "execute_result"
    }
   ],
   "source": [
    "x[(x<2) | (x>8)]"
   ]
  },
  {
   "cell_type": "code",
   "execution_count": 17,
   "id": "1faf3e7b",
   "metadata": {
    "ExecuteTime": {
     "end_time": "2021-07-15T17:07:49.612839Z",
     "start_time": "2021-07-15T17:07:49.600507Z"
    }
   },
   "outputs": [
    {
     "data": {
      "text/plain": [
       "tensor([], dtype=torch.int64)"
      ]
     },
     "execution_count": 17,
     "metadata": {},
     "output_type": "execute_result"
    }
   ],
   "source": [
    "x[(x<2) & (x>8)]"
   ]
  },
  {
   "cell_type": "code",
   "execution_count": 18,
   "id": "7564b30c",
   "metadata": {
    "ExecuteTime": {
     "end_time": "2021-07-15T17:07:49.627977Z",
     "start_time": "2021-07-15T17:07:49.616802Z"
    }
   },
   "outputs": [
    {
     "data": {
      "text/plain": [
       "tensor([0, 2, 4, 6, 8])"
      ]
     },
     "execution_count": 18,
     "metadata": {},
     "output_type": "execute_result"
    }
   ],
   "source": [
    "x[x.remainder(2) == 0]"
   ]
  },
  {
   "cell_type": "code",
   "execution_count": 19,
   "id": "a1d8f34d",
   "metadata": {
    "ExecuteTime": {
     "end_time": "2021-07-15T17:07:49.643922Z",
     "start_time": "2021-07-15T17:07:49.629799Z"
    }
   },
   "outputs": [
    {
     "data": {
      "text/plain": [
       "tensor([ 0,  3,  6,  9, 12, 15,  6,  7,  8,  9])"
      ]
     },
     "execution_count": 19,
     "metadata": {},
     "output_type": "execute_result"
    }
   ],
   "source": [
    "# condition (x>5) if x>5, it remains x else it gets multiplied by 3\n",
    "torch.where(x>5, x, x*3)"
   ]
  },
  {
   "cell_type": "code",
   "execution_count": null,
   "id": "1f339d6b",
   "metadata": {},
   "outputs": [],
   "source": []
  }
 ],
 "metadata": {
  "kernelspec": {
   "display_name": "pytorch",
   "language": "python",
   "name": "deeplearning"
  },
  "language_info": {
   "codemirror_mode": {
    "name": "ipython",
    "version": 3
   },
   "file_extension": ".py",
   "mimetype": "text/x-python",
   "name": "python",
   "nbconvert_exporter": "python",
   "pygments_lexer": "ipython3",
   "version": "3.9.5"
  }
 },
 "nbformat": 4,
 "nbformat_minor": 5
}
