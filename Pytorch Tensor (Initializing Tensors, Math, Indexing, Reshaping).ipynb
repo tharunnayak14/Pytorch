{
 "cells": [
  {
   "cell_type": "markdown",
   "id": "848ad8c2",
   "metadata": {},
   "source": [
    "# PYTORCH"
   ]
  },
  {
   "cell_type": "markdown",
   "id": "99d19b55",
   "metadata": {
    "ExecuteTime": {
     "end_time": "2021-07-15T10:49:23.672694Z",
     "start_time": "2021-07-15T10:49:23.653743Z"
    }
   },
   "source": [
    "<img src= 'https://miro.medium.com/max/880/1*WbLIc4-xIOfHiO2oWzimyA.png' width=500/>"
   ]
  },
  {
   "cell_type": "code",
   "execution_count": 1,
   "id": "26aa4db8",
   "metadata": {
    "ExecuteTime": {
     "end_time": "2021-07-15T10:52:52.879735Z",
     "start_time": "2021-07-15T10:52:51.977550Z"
    }
   },
   "outputs": [],
   "source": [
    "import torch\n",
    "\n",
    "import numpy as np\n",
    "\n",
    "# if GPU(cuda) is available use it or else use CPU\n",
    "device = \"cuda\" if torch.cuda.is_available() else \"cpu\""
   ]
  },
  {
   "cell_type": "code",
   "execution_count": 2,
   "id": "1103e773",
   "metadata": {
    "ExecuteTime": {
     "end_time": "2021-07-15T10:52:52.894514Z",
     "start_time": "2021-07-15T10:52:52.881585Z"
    }
   },
   "outputs": [
    {
     "name": "stdout",
     "output_type": "stream",
     "text": [
      "cuda\n"
     ]
    }
   ],
   "source": [
    "print(device)"
   ]
  },
  {
   "cell_type": "code",
   "execution_count": 3,
   "id": "b439a088",
   "metadata": {
    "ExecuteTime": {
     "end_time": "2021-07-15T10:52:56.158221Z",
     "start_time": "2021-07-15T10:52:52.896511Z"
    }
   },
   "outputs": [],
   "source": [
    "my_tensor = torch.tensor([[1, 2, 3], [4, 5, 6]], dtype=torch.float32, device=device)"
   ]
  },
  {
   "cell_type": "markdown",
   "id": "8fe30362",
   "metadata": {},
   "source": [
    "# Tensor attributes"
   ]
  },
  {
   "cell_type": "code",
   "execution_count": 4,
   "id": "205068b8",
   "metadata": {
    "ExecuteTime": {
     "end_time": "2021-07-15T10:52:56.174005Z",
     "start_time": "2021-07-15T10:52:56.159046Z"
    }
   },
   "outputs": [
    {
     "name": "stdout",
     "output_type": "stream",
     "text": [
      "tensor([[1., 2., 3.],\n",
      "        [4., 5., 6.]], device='cuda:0')\n"
     ]
    }
   ],
   "source": [
    "print(my_tensor)"
   ]
  },
  {
   "cell_type": "code",
   "execution_count": 5,
   "id": "acd1b16b",
   "metadata": {
    "ExecuteTime": {
     "end_time": "2021-07-15T10:52:56.188965Z",
     "start_time": "2021-07-15T10:52:56.175003Z"
    }
   },
   "outputs": [
    {
     "name": "stdout",
     "output_type": "stream",
     "text": [
      "torch.float32\n"
     ]
    }
   ],
   "source": [
    "print(my_tensor.dtype)"
   ]
  },
  {
   "cell_type": "code",
   "execution_count": 6,
   "id": "c525cfc6",
   "metadata": {
    "ExecuteTime": {
     "end_time": "2021-07-15T10:52:56.204922Z",
     "start_time": "2021-07-15T10:52:56.189963Z"
    }
   },
   "outputs": [
    {
     "name": "stdout",
     "output_type": "stream",
     "text": [
      "cuda:0\n"
     ]
    }
   ],
   "source": [
    "print(my_tensor.device)"
   ]
  },
  {
   "cell_type": "code",
   "execution_count": 7,
   "id": "49c67e2c",
   "metadata": {
    "ExecuteTime": {
     "end_time": "2021-07-15T10:52:56.220879Z",
     "start_time": "2021-07-15T10:52:56.206917Z"
    }
   },
   "outputs": [
    {
     "name": "stdout",
     "output_type": "stream",
     "text": [
      "torch.Size([2, 3])\n"
     ]
    }
   ],
   "source": [
    "print(my_tensor.shape)\n",
    "# print(my_tensor.retains_grad)"
   ]
  },
  {
   "cell_type": "markdown",
   "id": "baacf026",
   "metadata": {},
   "source": [
    "# Other common initialization methods"
   ]
  },
  {
   "cell_type": "code",
   "execution_count": 8,
   "id": "f6cabea1",
   "metadata": {
    "ExecuteTime": {
     "end_time": "2021-07-15T10:52:56.236838Z",
     "start_time": "2021-07-15T10:52:56.222875Z"
    }
   },
   "outputs": [
    {
     "name": "stdout",
     "output_type": "stream",
     "text": [
      "tensor([[0., 0., 0.],\n",
      "        [0., 0., 0.],\n",
      "        [0., 0., 0.]])\n"
     ]
    }
   ],
   "source": [
    "# random values not only zero (uninitialized)\n",
    "x = torch.empty(size=(3, 3))\n",
    "print(x)"
   ]
  },
  {
   "cell_type": "code",
   "execution_count": 9,
   "id": "052e952e",
   "metadata": {
    "ExecuteTime": {
     "end_time": "2021-07-15T10:52:56.252795Z",
     "start_time": "2021-07-15T10:52:56.239829Z"
    }
   },
   "outputs": [
    {
     "name": "stdout",
     "output_type": "stream",
     "text": [
      "tensor([[0., 0., 0.],\n",
      "        [0., 0., 0.],\n",
      "        [0., 0., 0.]])\n"
     ]
    }
   ],
   "source": [
    "# zeros tensor\n",
    "x = torch.zeros((3, 3))\n",
    "print(x)"
   ]
  },
  {
   "cell_type": "code",
   "execution_count": 10,
   "id": "5ab44231",
   "metadata": {
    "ExecuteTime": {
     "end_time": "2021-07-15T10:52:56.268757Z",
     "start_time": "2021-07-15T10:52:56.253792Z"
    }
   },
   "outputs": [
    {
     "name": "stdout",
     "output_type": "stream",
     "text": [
      "tensor([[0.0697, 0.6864, 0.4574],\n",
      "        [0.4296, 0.9705, 0.3554],\n",
      "        [0.6082, 0.0843, 0.6105]])\n"
     ]
    }
   ],
   "source": [
    "# random values\n",
    "x = torch.rand((3, 3))\n",
    "print(x)"
   ]
  },
  {
   "cell_type": "code",
   "execution_count": 11,
   "id": "b8944323",
   "metadata": {
    "ExecuteTime": {
     "end_time": "2021-07-15T10:52:56.284719Z",
     "start_time": "2021-07-15T10:52:56.271744Z"
    }
   },
   "outputs": [
    {
     "name": "stdout",
     "output_type": "stream",
     "text": [
      "tensor([[1., 1., 1.],\n",
      "        [1., 1., 1.],\n",
      "        [1., 1., 1.]])\n"
     ]
    }
   ],
   "source": [
    "# all ones\n",
    "x = torch.ones((3, 3))\n",
    "print(x)"
   ]
  },
  {
   "cell_type": "code",
   "execution_count": 12,
   "id": "bb56ff01",
   "metadata": {
    "ExecuteTime": {
     "end_time": "2021-07-15T10:52:56.300669Z",
     "start_time": "2021-07-15T10:52:56.288699Z"
    }
   },
   "outputs": [
    {
     "name": "stdout",
     "output_type": "stream",
     "text": [
      "tensor([[1., 0., 0.],\n",
      "        [0., 1., 0.],\n",
      "        [0., 0., 1.]])\n"
     ]
    }
   ],
   "source": [
    "# identity matrix\n",
    "x = torch.eye(3)\n",
    "print(x)"
   ]
  },
  {
   "cell_type": "code",
   "execution_count": 13,
   "id": "c93b2860",
   "metadata": {
    "ExecuteTime": {
     "end_time": "2021-07-15T10:52:56.316624Z",
     "start_time": "2021-07-15T10:52:56.302661Z"
    }
   },
   "outputs": [
    {
     "name": "stdout",
     "output_type": "stream",
     "text": [
      "tensor([[1., 0., 0.],\n",
      "        [0., 1., 0.],\n",
      "        [0., 0., 1.]])\n"
     ]
    }
   ],
   "source": [
    "# or we can use\n",
    "x = torch.diag(torch.ones(3))\n",
    "print(x)"
   ]
  },
  {
   "cell_type": "code",
   "execution_count": 14,
   "id": "2f7c89d2",
   "metadata": {
    "ExecuteTime": {
     "end_time": "2021-07-15T10:52:56.332581Z",
     "start_time": "2021-07-15T10:52:56.319616Z"
    }
   },
   "outputs": [
    {
     "name": "stdout",
     "output_type": "stream",
     "text": [
      "tensor([0, 1, 2, 3, 4])\n"
     ]
    }
   ],
   "source": [
    "x = torch.arange(start=0, end=5, step=1)\n",
    "print(x)"
   ]
  },
  {
   "cell_type": "code",
   "execution_count": 15,
   "id": "a2614200",
   "metadata": {
    "ExecuteTime": {
     "end_time": "2021-07-15T10:52:56.348538Z",
     "start_time": "2021-07-15T10:52:56.334576Z"
    }
   },
   "outputs": [
    {
     "name": "stdout",
     "output_type": "stream",
     "text": [
      "tensor([0.0000, 1.1000, 2.2000, 3.3000, 4.4000, 5.5000, 6.6000, 7.7000, 8.8000,\n",
      "        9.9000])\n"
     ]
    }
   ],
   "source": [
    "x = torch.arange(start=0, end=10, step=1.1)\n",
    "print(x)"
   ]
  },
  {
   "cell_type": "code",
   "execution_count": 16,
   "id": "9ff723e8",
   "metadata": {
    "ExecuteTime": {
     "end_time": "2021-07-15T10:52:56.364496Z",
     "start_time": "2021-07-15T10:52:56.351537Z"
    }
   },
   "outputs": [
    {
     "name": "stdout",
     "output_type": "stream",
     "text": [
      "tensor([0.1000, 0.2000, 0.3000, 0.4000, 0.5000, 0.6000, 0.7000, 0.8000, 0.9000,\n",
      "        1.0000])\n"
     ]
    }
   ],
   "source": [
    "x = torch.linspace(start=0.1, end=1, steps=10)\n",
    "print(x)"
   ]
  },
  {
   "cell_type": "code",
   "execution_count": 17,
   "id": "2b616520",
   "metadata": {
    "ExecuteTime": {
     "end_time": "2021-07-15T10:52:56.380486Z",
     "start_time": "2021-07-15T10:52:56.368486Z"
    }
   },
   "outputs": [
    {
     "name": "stdout",
     "output_type": "stream",
     "text": [
      "tensor([[-1.2013, -1.1912, -1.2126,  0.7714,  1.2705]])\n"
     ]
    }
   ],
   "source": [
    "# normal distributed\n",
    "x = torch.empty((1, 5)).normal_(mean=0, std=1)\n",
    "print(x)"
   ]
  },
  {
   "cell_type": "code",
   "execution_count": 18,
   "id": "e6f9eca1",
   "metadata": {
    "ExecuteTime": {
     "end_time": "2021-07-15T10:52:56.396443Z",
     "start_time": "2021-07-15T10:52:56.381453Z"
    }
   },
   "outputs": [
    {
     "name": "stdout",
     "output_type": "stream",
     "text": [
      "tensor([[0.8432, 0.7415, 0.2239, 0.6949, 0.9331]])\n"
     ]
    }
   ],
   "source": [
    "# uniform distribution\n",
    "x = torch.empty((1,5)).uniform_(0,1)\n",
    "print(x)"
   ]
  },
  {
   "cell_type": "markdown",
   "id": "a94b5614",
   "metadata": {},
   "source": [
    "# Convert tensors from one type to another"
   ]
  },
  {
   "cell_type": "code",
   "execution_count": 19,
   "id": "1e9dc8d9",
   "metadata": {
    "ExecuteTime": {
     "end_time": "2021-07-15T10:52:56.412401Z",
     "start_time": "2021-07-15T10:52:56.397409Z"
    }
   },
   "outputs": [
    {
     "data": {
      "text/plain": [
       "tensor([0, 1, 2, 3])"
      ]
     },
     "execution_count": 19,
     "metadata": {},
     "output_type": "execute_result"
    }
   ],
   "source": [
    "tensor = torch.arange(4)\n",
    "tensor"
   ]
  },
  {
   "cell_type": "code",
   "execution_count": 20,
   "id": "30ddb201",
   "metadata": {
    "ExecuteTime": {
     "end_time": "2021-07-15T10:52:56.428325Z",
     "start_time": "2021-07-15T10:52:56.413368Z"
    }
   },
   "outputs": [
    {
     "data": {
      "text/plain": [
       "tensor([False,  True,  True,  True])"
      ]
     },
     "execution_count": 20,
     "metadata": {},
     "output_type": "execute_result"
    }
   ],
   "source": [
    "# change them to type bool\n",
    "tensor.bool()"
   ]
  },
  {
   "cell_type": "code",
   "execution_count": 21,
   "id": "16528c44",
   "metadata": {
    "ExecuteTime": {
     "end_time": "2021-07-15T10:52:56.443288Z",
     "start_time": "2021-07-15T10:52:56.429323Z"
    }
   },
   "outputs": [
    {
     "data": {
      "text/plain": [
       "tensor([0, 1, 2, 3], dtype=torch.int16)"
      ]
     },
     "execution_count": 21,
     "metadata": {},
     "output_type": "execute_result"
    }
   ],
   "source": [
    "# int16\n",
    "tensor.short()"
   ]
  },
  {
   "cell_type": "code",
   "execution_count": 22,
   "id": "00c89232",
   "metadata": {
    "ExecuteTime": {
     "end_time": "2021-07-15T10:52:56.459242Z",
     "start_time": "2021-07-15T10:52:56.447275Z"
    }
   },
   "outputs": [
    {
     "data": {
      "text/plain": [
       "tensor([0, 1, 2, 3])"
      ]
     },
     "execution_count": 22,
     "metadata": {},
     "output_type": "execute_result"
    }
   ],
   "source": [
    "# int64\n",
    "tensor.long()"
   ]
  },
  {
   "cell_type": "code",
   "execution_count": 23,
   "id": "dedb84f7",
   "metadata": {
    "ExecuteTime": {
     "end_time": "2021-07-15T10:52:56.475200Z",
     "start_time": "2021-07-15T10:52:56.461238Z"
    }
   },
   "outputs": [
    {
     "data": {
      "text/plain": [
       "tensor([0., 1., 2., 3.], dtype=torch.float16)"
      ]
     },
     "execution_count": 23,
     "metadata": {},
     "output_type": "execute_result"
    }
   ],
   "source": [
    "# float16\n",
    "tensor.half()"
   ]
  },
  {
   "cell_type": "code",
   "execution_count": 24,
   "id": "aea03a98",
   "metadata": {
    "ExecuteTime": {
     "end_time": "2021-07-15T10:52:56.491191Z",
     "start_time": "2021-07-15T10:52:56.476198Z"
    }
   },
   "outputs": [
    {
     "data": {
      "text/plain": [
       "tensor([0., 1., 2., 3.])"
      ]
     },
     "execution_count": 24,
     "metadata": {},
     "output_type": "execute_result"
    }
   ],
   "source": [
    "# float32\n",
    "tensor.float()"
   ]
  },
  {
   "cell_type": "code",
   "execution_count": 25,
   "id": "7b2e1580",
   "metadata": {
    "ExecuteTime": {
     "end_time": "2021-07-15T10:52:56.507116Z",
     "start_time": "2021-07-15T10:52:56.492155Z"
    }
   },
   "outputs": [
    {
     "data": {
      "text/plain": [
       "tensor([0., 1., 2., 3.], dtype=torch.float64)"
      ]
     },
     "execution_count": 25,
     "metadata": {},
     "output_type": "execute_result"
    }
   ],
   "source": [
    "# float64\n",
    "tensor.double()"
   ]
  },
  {
   "cell_type": "markdown",
   "id": "70524e2f",
   "metadata": {},
   "source": [
    "# Numpy array to Tensor"
   ]
  },
  {
   "cell_type": "code",
   "execution_count": 26,
   "id": "cf8711b8",
   "metadata": {
    "ExecuteTime": {
     "end_time": "2021-07-15T10:52:56.523074Z",
     "start_time": "2021-07-15T10:52:56.511109Z"
    }
   },
   "outputs": [
    {
     "data": {
      "text/plain": [
       "array([[1, 2, 3],\n",
       "       [4, 5, 6]])"
      ]
     },
     "execution_count": 26,
     "metadata": {},
     "output_type": "execute_result"
    }
   ],
   "source": [
    "np_array = np.array([[1,2,3], [4,5,6]])\n",
    "np_array"
   ]
  },
  {
   "cell_type": "code",
   "execution_count": 27,
   "id": "78d50c6a",
   "metadata": {
    "ExecuteTime": {
     "end_time": "2021-07-15T10:52:56.539063Z",
     "start_time": "2021-07-15T10:52:56.524071Z"
    }
   },
   "outputs": [
    {
     "data": {
      "text/plain": [
       "tensor([[1, 2, 3],\n",
       "        [4, 5, 6]], dtype=torch.int32)"
      ]
     },
     "execution_count": 27,
     "metadata": {},
     "output_type": "execute_result"
    }
   ],
   "source": [
    "tensor = torch.from_numpy(np_array)\n",
    "tensor"
   ]
  },
  {
   "cell_type": "code",
   "execution_count": 28,
   "id": "00f1dfa9",
   "metadata": {
    "ExecuteTime": {
     "end_time": "2021-07-15T10:52:56.555003Z",
     "start_time": "2021-07-15T10:52:56.540028Z"
    }
   },
   "outputs": [
    {
     "data": {
      "text/plain": [
       "array([[1, 2, 3],\n",
       "       [4, 5, 6]])"
      ]
     },
     "execution_count": 28,
     "metadata": {},
     "output_type": "execute_result"
    }
   ],
   "source": [
    "# to get np_array back from tensor\n",
    "np_array_back = tensor.numpy()\n",
    "np_array_back"
   ]
  },
  {
   "cell_type": "markdown",
   "id": "8e8cc68d",
   "metadata": {},
   "source": [
    "# Tensor math & comparision operators"
   ]
  },
  {
   "cell_type": "code",
   "execution_count": 29,
   "id": "3c72dad0",
   "metadata": {
    "ExecuteTime": {
     "end_time": "2021-07-15T10:52:56.570974Z",
     "start_time": "2021-07-15T10:52:56.558014Z"
    }
   },
   "outputs": [],
   "source": [
    "x = torch.tensor([1,2,3])\n",
    "y = torch.tensor([4,5,6])"
   ]
  },
  {
   "cell_type": "code",
   "execution_count": 30,
   "id": "c61eff27",
   "metadata": {
    "ExecuteTime": {
     "end_time": "2021-07-15T10:52:56.586935Z",
     "start_time": "2021-07-15T10:52:56.572940Z"
    }
   },
   "outputs": [
    {
     "data": {
      "text/plain": [
       "tensor([5, 7, 9])"
      ]
     },
     "execution_count": 30,
     "metadata": {},
     "output_type": "execute_result"
    }
   ],
   "source": [
    "# add\n",
    "z = torch.add(x,y)\n",
    "z"
   ]
  },
  {
   "cell_type": "code",
   "execution_count": 31,
   "id": "81736617",
   "metadata": {
    "ExecuteTime": {
     "end_time": "2021-07-15T10:52:56.602897Z",
     "start_time": "2021-07-15T10:52:56.587932Z"
    }
   },
   "outputs": [
    {
     "data": {
      "text/plain": [
       "tensor([5, 7, 9])"
      ]
     },
     "execution_count": 31,
     "metadata": {},
     "output_type": "execute_result"
    }
   ],
   "source": [
    "# or we can use\n",
    "z = x + y\n",
    "z"
   ]
  },
  {
   "cell_type": "code",
   "execution_count": 32,
   "id": "f2387847",
   "metadata": {
    "ExecuteTime": {
     "end_time": "2021-07-15T10:52:56.618848Z",
     "start_time": "2021-07-15T10:52:56.604855Z"
    }
   },
   "outputs": [
    {
     "data": {
      "text/plain": [
       "tensor([-3, -3, -3])"
      ]
     },
     "execution_count": 32,
     "metadata": {},
     "output_type": "execute_result"
    }
   ],
   "source": [
    "# subtractabs\n",
    "z = x - y\n",
    "z"
   ]
  },
  {
   "cell_type": "code",
   "execution_count": 33,
   "id": "4ed4e76a",
   "metadata": {
    "ExecuteTime": {
     "end_time": "2021-07-15T10:52:56.634807Z",
     "start_time": "2021-07-15T10:52:56.619814Z"
    }
   },
   "outputs": [
    {
     "data": {
      "text/plain": [
       "tensor([0.2500, 0.4000, 0.5000])"
      ]
     },
     "execution_count": 33,
     "metadata": {},
     "output_type": "execute_result"
    }
   ],
   "source": [
    "# division \n",
    "z = torch.true_divide(x, y)\n",
    "z"
   ]
  },
  {
   "cell_type": "markdown",
   "id": "aa34eac9",
   "metadata": {},
   "source": [
    "## Inplace operations"
   ]
  },
  {
   "cell_type": "code",
   "execution_count": 34,
   "id": "e1e811da",
   "metadata": {
    "ExecuteTime": {
     "end_time": "2021-07-15T10:52:56.650777Z",
     "start_time": "2021-07-15T10:52:56.635806Z"
    }
   },
   "outputs": [
    {
     "data": {
      "text/plain": [
       "tensor([0.0078, 0.1227, 0.2807])"
      ]
     },
     "execution_count": 34,
     "metadata": {},
     "output_type": "execute_result"
    }
   ],
   "source": [
    "# inplace op's are used when we don't want to create another variable\n",
    "t = torch.rand(3)\n",
    "t"
   ]
  },
  {
   "cell_type": "code",
   "execution_count": 35,
   "id": "df9eab4c",
   "metadata": {
    "ExecuteTime": {
     "end_time": "2021-07-15T10:52:56.666715Z",
     "start_time": "2021-07-15T10:52:56.652740Z"
    }
   },
   "outputs": [
    {
     "data": {
      "text/plain": [
       "tensor([1.0078, 2.1227, 3.2807])"
      ]
     },
     "execution_count": 35,
     "metadata": {},
     "output_type": "execute_result"
    }
   ],
   "source": [
    "#inplace addition\n",
    "t.add_(x)"
   ]
  },
  {
   "cell_type": "code",
   "execution_count": 36,
   "id": "739c0e8c",
   "metadata": {
    "ExecuteTime": {
     "end_time": "2021-07-15T10:52:56.682647Z",
     "start_time": "2021-07-15T10:52:56.670696Z"
    }
   },
   "outputs": [
    {
     "data": {
      "text/plain": [
       "tensor([2.0078, 4.1227, 6.2807])"
      ]
     },
     "execution_count": 36,
     "metadata": {},
     "output_type": "execute_result"
    }
   ],
   "source": [
    "# or use\n",
    "t += x\n",
    "t"
   ]
  },
  {
   "cell_type": "code",
   "execution_count": 37,
   "id": "cdf05be0",
   "metadata": {
    "ExecuteTime": {
     "end_time": "2021-07-15T10:52:56.698637Z",
     "start_time": "2021-07-15T10:52:56.684653Z"
    }
   },
   "outputs": [
    {
     "data": {
      "text/plain": [
       "tensor([1, 4, 9])"
      ]
     },
     "execution_count": 37,
     "metadata": {},
     "output_type": "execute_result"
    }
   ],
   "source": [
    "# exponentiation element wise\n",
    "# z = x.pow(2)\n",
    "z = x**2\n",
    "z"
   ]
  },
  {
   "cell_type": "code",
   "execution_count": 38,
   "id": "5138f11b",
   "metadata": {
    "ExecuteTime": {
     "end_time": "2021-07-15T10:52:56.714594Z",
     "start_time": "2021-07-15T10:52:56.700617Z"
    }
   },
   "outputs": [
    {
     "data": {
      "text/plain": [
       "tensor([True, True, True])"
      ]
     },
     "execution_count": 38,
     "metadata": {},
     "output_type": "execute_result"
    }
   ],
   "source": [
    "# comparision\n",
    "z = x>0\n",
    "z"
   ]
  },
  {
   "cell_type": "code",
   "execution_count": 39,
   "id": "eb8639a0",
   "metadata": {
    "ExecuteTime": {
     "end_time": "2021-07-15T10:52:56.730552Z",
     "start_time": "2021-07-15T10:52:56.716557Z"
    }
   },
   "outputs": [
    {
     "data": {
      "text/plain": [
       "tensor([False, False, False])"
      ]
     },
     "execution_count": 39,
     "metadata": {},
     "output_type": "execute_result"
    }
   ],
   "source": [
    "z = x<0\n",
    "z"
   ]
  },
  {
   "cell_type": "markdown",
   "id": "04006a11",
   "metadata": {},
   "source": [
    "## Matrix multiplication"
   ]
  },
  {
   "cell_type": "code",
   "execution_count": 40,
   "id": "19be524c",
   "metadata": {
    "ExecuteTime": {
     "end_time": "2021-07-15T10:52:56.746531Z",
     "start_time": "2021-07-15T10:52:56.731516Z"
    }
   },
   "outputs": [],
   "source": [
    "x1 = torch.rand((3,5))\n",
    "x2 = torch.rand((5,2))"
   ]
  },
  {
   "cell_type": "code",
   "execution_count": 41,
   "id": "8683bbe2",
   "metadata": {
    "ExecuteTime": {
     "end_time": "2021-07-15T10:52:56.762433Z",
     "start_time": "2021-07-15T10:52:56.748494Z"
    }
   },
   "outputs": [
    {
     "data": {
      "text/plain": [
       "tensor([[0.4984, 0.2347, 0.1340, 0.2586, 0.8271],\n",
       "        [0.7120, 0.1281, 0.6123, 0.0203, 0.8926],\n",
       "        [0.8733, 0.5186, 0.5813, 0.4865, 0.7577]])"
      ]
     },
     "execution_count": 41,
     "metadata": {},
     "output_type": "execute_result"
    }
   ],
   "source": [
    "x1"
   ]
  },
  {
   "cell_type": "code",
   "execution_count": 42,
   "id": "0b8d0b82",
   "metadata": {
    "ExecuteTime": {
     "end_time": "2021-07-15T10:52:56.778423Z",
     "start_time": "2021-07-15T10:52:56.763462Z"
    }
   },
   "outputs": [
    {
     "data": {
      "text/plain": [
       "tensor([[0.4095, 0.7031],\n",
       "        [0.4744, 0.5728],\n",
       "        [0.5280, 0.2200],\n",
       "        [0.7090, 0.5230],\n",
       "        [0.8475, 0.7468]])"
      ]
     },
     "execution_count": 42,
     "metadata": {},
     "output_type": "execute_result"
    }
   ],
   "source": [
    "x2"
   ]
  },
  {
   "cell_type": "code",
   "execution_count": 43,
   "id": "d996ffbb",
   "metadata": {
    "ExecuteTime": {
     "end_time": "2021-07-15T10:52:56.793382Z",
     "start_time": "2021-07-15T10:52:56.779420Z"
    }
   },
   "outputs": [
    {
     "data": {
      "text/plain": [
       "tensor([[1.2704, 1.2672],\n",
       "        [1.4464, 1.3858],\n",
       "        [1.8975, 1.8591]])"
      ]
     },
     "execution_count": 43,
     "metadata": {},
     "output_type": "execute_result"
    }
   ],
   "source": [
    "x3 = torch.mm(x1, x2)\n",
    "x3"
   ]
  },
  {
   "cell_type": "code",
   "execution_count": 44,
   "id": "2dcef03f",
   "metadata": {
    "ExecuteTime": {
     "end_time": "2021-07-15T10:52:56.809333Z",
     "start_time": "2021-07-15T10:52:56.795345Z"
    }
   },
   "outputs": [
    {
     "data": {
      "text/plain": [
       "tensor([[1.2704, 1.2672],\n",
       "        [1.4464, 1.3858],\n",
       "        [1.8975, 1.8591]])"
      ]
     },
     "execution_count": 44,
     "metadata": {},
     "output_type": "execute_result"
    }
   ],
   "source": [
    "x3 = x1.mm(x2)\n",
    "x3"
   ]
  },
  {
   "cell_type": "code",
   "execution_count": 45,
   "id": "33d4e958",
   "metadata": {
    "ExecuteTime": {
     "end_time": "2021-07-15T10:52:56.825290Z",
     "start_time": "2021-07-15T10:52:56.811303Z"
    }
   },
   "outputs": [
    {
     "data": {
      "text/plain": [
       "tensor([[25., 25., 25., 25., 25.],\n",
       "        [25., 25., 25., 25., 25.],\n",
       "        [25., 25., 25., 25., 25.],\n",
       "        [25., 25., 25., 25., 25.],\n",
       "        [25., 25., 25., 25., 25.]])"
      ]
     },
     "execution_count": 45,
     "metadata": {},
     "output_type": "execute_result"
    }
   ],
   "source": [
    "# matrix exponentiation\n",
    "\n",
    "matrix_exp = torch.ones((5,5))\n",
    "\n",
    "# (matrix_exp).mm((matrix_exp).mm(matrix_exp))\n",
    "matrix_exp.matrix_power(3)"
   ]
  },
  {
   "cell_type": "code",
   "execution_count": 46,
   "id": "9d4fb7ea",
   "metadata": {
    "ExecuteTime": {
     "end_time": "2021-07-15T10:52:56.841254Z",
     "start_time": "2021-07-15T10:52:56.827262Z"
    }
   },
   "outputs": [
    {
     "data": {
      "text/plain": [
       "tensor([ 4, 10, 18])"
      ]
     },
     "execution_count": 46,
     "metadata": {},
     "output_type": "execute_result"
    }
   ],
   "source": [
    "# element wise multiplication\n",
    "z = x * y\n",
    "z"
   ]
  },
  {
   "cell_type": "code",
   "execution_count": 47,
   "id": "3b31e3be",
   "metadata": {
    "ExecuteTime": {
     "end_time": "2021-07-15T10:52:56.857212Z",
     "start_time": "2021-07-15T10:52:56.842252Z"
    }
   },
   "outputs": [
    {
     "data": {
      "text/plain": [
       "tensor(32)"
      ]
     },
     "execution_count": 47,
     "metadata": {},
     "output_type": "execute_result"
    }
   ],
   "source": [
    "# dot product =  sum (element wise multiplication)\n",
    "z =  torch.dot(x, y)\n",
    "z"
   ]
  },
  {
   "cell_type": "markdown",
   "id": "4f37fb90",
   "metadata": {},
   "source": [
    "## Batch matrix multiplication"
   ]
  },
  {
   "cell_type": "code",
   "execution_count": 48,
   "id": "f5a28f79",
   "metadata": {
    "ExecuteTime": {
     "end_time": "2021-07-15T10:52:56.873169Z",
     "start_time": "2021-07-15T10:52:56.858177Z"
    }
   },
   "outputs": [],
   "source": [
    "batch = 32\n",
    "n = 10\n",
    "m = 20\n",
    "p = 30"
   ]
  },
  {
   "cell_type": "code",
   "execution_count": 49,
   "id": "f0f67487",
   "metadata": {
    "ExecuteTime": {
     "end_time": "2021-07-15T10:52:56.889126Z",
     "start_time": "2021-07-15T10:52:56.874135Z"
    }
   },
   "outputs": [],
   "source": [
    "tensor1 = torch.rand((batch, n, m))\n",
    "tensor2 = torch.rand((batch, m ,p))"
   ]
  },
  {
   "cell_type": "code",
   "execution_count": 50,
   "id": "3d6514f4",
   "metadata": {
    "ExecuteTime": {
     "end_time": "2021-07-15T10:52:56.905052Z",
     "start_time": "2021-07-15T10:52:56.890093Z"
    }
   },
   "outputs": [],
   "source": [
    "out_bmm = torch.bmm(tensor1, tensor2) # batch,n,p"
   ]
  },
  {
   "cell_type": "markdown",
   "id": "c4f62877",
   "metadata": {
    "ExecuteTime": {
     "end_time": "2021-07-15T10:33:07.511691Z",
     "start_time": "2021-07-15T10:33:07.490865Z"
    }
   },
   "source": [
    "# Broadcasting"
   ]
  },
  {
   "cell_type": "code",
   "execution_count": 51,
   "id": "4fca823d",
   "metadata": {
    "ExecuteTime": {
     "end_time": "2021-07-15T10:52:56.921010Z",
     "start_time": "2021-07-15T10:52:56.907047Z"
    }
   },
   "outputs": [
    {
     "data": {
      "text/plain": [
       "tensor([[-0.1636, -0.4319,  0.0104, -0.4345, -0.4678],\n",
       "        [ 0.6448,  0.3194,  0.1151,  0.1778,  0.3376],\n",
       "        [ 0.3991,  0.1722,  0.3080,  0.3488, -0.2062],\n",
       "        [-0.2660, -0.3881, -0.0722, -0.4153, -0.0721],\n",
       "        [ 0.7917,  0.0090,  0.4504,  0.8725,  0.4792]])"
      ]
     },
     "execution_count": 51,
     "metadata": {},
     "output_type": "execute_result"
    }
   ],
   "source": [
    "x1 = torch.rand((5,5))\n",
    "x2 = torch.rand((5,1))\n",
    "\n",
    "# x2 is a column vector, it's broadcasted to the shape of x1\n",
    "# ==> x2 = [x2, x2, x2, x2, x2]\n",
    "z = x1 - x2\n",
    "z"
   ]
  },
  {
   "cell_type": "code",
   "execution_count": 52,
   "id": "a8b5e333",
   "metadata": {
    "ExecuteTime": {
     "end_time": "2021-07-15T10:52:56.936998Z",
     "start_time": "2021-07-15T10:52:56.923004Z"
    }
   },
   "outputs": [
    {
     "data": {
      "text/plain": [
       "tensor([[0.6151, 0.3552, 0.7514, 0.3522, 0.3116],\n",
       "        [0.9958, 0.8683, 0.7651, 0.7995, 0.8764],\n",
       "        [0.9563, 0.8254, 0.9059, 0.9288, 0.5469],\n",
       "        [0.6727, 0.5558, 0.8544, 0.5295, 0.8545],\n",
       "        [0.9950, 0.9200, 0.9819, 0.9973, 0.9833]])"
      ]
     },
     "execution_count": 52,
     "metadata": {},
     "output_type": "execute_result"
    }
   ],
   "source": [
    "z = x1 ** x2\n",
    "z"
   ]
  },
  {
   "cell_type": "markdown",
   "id": "5576833f",
   "metadata": {},
   "source": [
    "# other useful tensor operations"
   ]
  },
  {
   "cell_type": "code",
   "execution_count": 53,
   "id": "dc989464",
   "metadata": {
    "ExecuteTime": {
     "end_time": "2021-07-15T10:52:56.952955Z",
     "start_time": "2021-07-15T10:52:56.938961Z"
    }
   },
   "outputs": [
    {
     "data": {
      "text/plain": [
       "tensor([[1, 2, 4],\n",
       "        [8, 5, 6],\n",
       "        [7, 8, 9]])"
      ]
     },
     "execution_count": 53,
     "metadata": {},
     "output_type": "execute_result"
    }
   ],
   "source": [
    "x = torch.tensor([[1,2,4],[8,5,6],[7,8,9]])\n",
    "x"
   ]
  },
  {
   "cell_type": "code",
   "execution_count": 54,
   "id": "656b956e",
   "metadata": {
    "ExecuteTime": {
     "end_time": "2021-07-15T10:52:56.968890Z",
     "start_time": "2021-07-15T10:52:56.954918Z"
    }
   },
   "outputs": [
    {
     "data": {
      "text/plain": [
       "tensor([16, 15, 19])"
      ]
     },
     "execution_count": 54,
     "metadata": {},
     "output_type": "execute_result"
    }
   ],
   "source": [
    "column_sum = torch.sum(x, dim=0)\n",
    "column_sum"
   ]
  },
  {
   "cell_type": "code",
   "execution_count": 55,
   "id": "754ee348",
   "metadata": {
    "ExecuteTime": {
     "end_time": "2021-07-15T10:52:56.984839Z",
     "start_time": "2021-07-15T10:52:56.970877Z"
    }
   },
   "outputs": [
    {
     "data": {
      "text/plain": [
       "tensor([ 7, 19, 24])"
      ]
     },
     "execution_count": 55,
     "metadata": {},
     "output_type": "execute_result"
    }
   ],
   "source": [
    "row_sum = torch.sum(x, dim=1)\n",
    "row_sum"
   ]
  },
  {
   "cell_type": "code",
   "execution_count": 56,
   "id": "c9f8e538",
   "metadata": {
    "ExecuteTime": {
     "end_time": "2021-07-15T10:52:57.000795Z",
     "start_time": "2021-07-15T10:52:56.986833Z"
    }
   },
   "outputs": [
    {
     "data": {
      "text/plain": [
       "(tensor([8, 8, 9]), tensor([1, 2, 2]))"
      ]
     },
     "execution_count": 56,
     "metadata": {},
     "output_type": "execute_result"
    }
   ],
   "source": [
    "values, indices = torch.max(x, dim=0)\n",
    "values, indices"
   ]
  },
  {
   "cell_type": "code",
   "execution_count": 57,
   "id": "b8847654",
   "metadata": {
    "ExecuteTime": {
     "end_time": "2021-07-15T10:52:57.016753Z",
     "start_time": "2021-07-15T10:52:57.001794Z"
    }
   },
   "outputs": [
    {
     "data": {
      "text/plain": [
       "(tensor([1, 2, 4]), tensor([0, 0, 0]))"
      ]
     },
     "execution_count": 57,
     "metadata": {},
     "output_type": "execute_result"
    }
   ],
   "source": [
    "values, indices = torch.min(x, dim=0)\n",
    "values, indices"
   ]
  },
  {
   "cell_type": "code",
   "execution_count": 58,
   "id": "062148ac",
   "metadata": {
    "ExecuteTime": {
     "end_time": "2021-07-15T10:52:57.032710Z",
     "start_time": "2021-07-15T10:52:57.018749Z"
    }
   },
   "outputs": [
    {
     "data": {
      "text/plain": [
       "tensor([-3.0000, -2.5556, -2.1111, -1.6667, -1.2222, -0.7778, -0.3333,  0.1111,\n",
       "         0.5556,  1.0000])"
      ]
     },
     "execution_count": 58,
     "metadata": {},
     "output_type": "execute_result"
    }
   ],
   "source": [
    "x = torch.linspace(-3, 1, 10)\n",
    "x"
   ]
  },
  {
   "cell_type": "code",
   "execution_count": 59,
   "id": "f06756f3",
   "metadata": {
    "ExecuteTime": {
     "end_time": "2021-07-15T10:52:57.048669Z",
     "start_time": "2021-07-15T10:52:57.034705Z"
    }
   },
   "outputs": [
    {
     "data": {
      "text/plain": [
       "tensor([3.0000, 2.5556, 2.1111, 1.6667, 1.2222, 0.7778, 0.3333, 0.1111, 0.5556,\n",
       "        1.0000])"
      ]
     },
     "execution_count": 59,
     "metadata": {},
     "output_type": "execute_result"
    }
   ],
   "source": [
    "abs_x = torch.abs(x)\n",
    "abs_x"
   ]
  },
  {
   "cell_type": "code",
   "execution_count": 60,
   "id": "ba5767c9",
   "metadata": {
    "ExecuteTime": {
     "end_time": "2021-07-15T10:52:57.064625Z",
     "start_time": "2021-07-15T10:52:57.050663Z"
    }
   },
   "outputs": [
    {
     "data": {
      "text/plain": [
       "tensor(9)"
      ]
     },
     "execution_count": 60,
     "metadata": {},
     "output_type": "execute_result"
    }
   ],
   "source": [
    "z = torch.argmax(x, dim=0)\n",
    "z"
   ]
  },
  {
   "cell_type": "code",
   "execution_count": 61,
   "id": "39c62752",
   "metadata": {
    "ExecuteTime": {
     "end_time": "2021-07-15T10:52:57.079585Z",
     "start_time": "2021-07-15T10:52:57.067626Z"
    }
   },
   "outputs": [
    {
     "data": {
      "text/plain": [
       "tensor(0)"
      ]
     },
     "execution_count": 61,
     "metadata": {},
     "output_type": "execute_result"
    }
   ],
   "source": [
    "z = torch.argmin(x, dim=0)\n",
    "z"
   ]
  },
  {
   "cell_type": "code",
   "execution_count": 63,
   "id": "215a3f02",
   "metadata": {
    "ExecuteTime": {
     "end_time": "2021-07-15T10:53:13.016767Z",
     "start_time": "2021-07-15T10:53:13.008753Z"
    }
   },
   "outputs": [
    {
     "data": {
      "text/plain": [
       "tensor(-1.)"
      ]
     },
     "execution_count": 63,
     "metadata": {},
     "output_type": "execute_result"
    }
   ],
   "source": [
    "# mean requires data to be of type float\n",
    "mean_x = torch.mean(x.float())\n",
    "mean_x"
   ]
  },
  {
   "cell_type": "code",
   "execution_count": null,
   "id": "5b87b9fc",
   "metadata": {},
   "outputs": [],
   "source": []
  }
 ],
 "metadata": {
  "kernelspec": {
   "display_name": "pytorch",
   "language": "python",
   "name": "deeplearning"
  },
  "language_info": {
   "codemirror_mode": {
    "name": "ipython",
    "version": 3
   },
   "file_extension": ".py",
   "mimetype": "text/x-python",
   "name": "python",
   "nbconvert_exporter": "python",
   "pygments_lexer": "ipython3",
   "version": "3.9.5"
  }
 },
 "nbformat": 4,
 "nbformat_minor": 5
}
